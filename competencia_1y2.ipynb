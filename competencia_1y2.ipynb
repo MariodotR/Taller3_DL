{
  "nbformat": 4,
  "nbformat_minor": 0,
  "metadata": {
    "accelerator": "GPU",
    "colab": {
      "name": "2_enfoques.ipynb",
      "provenance": [],
      "collapsed_sections": [],
      "toc_visible": true
    },
    "kernelspec": {
      "display_name": "Python 3",
      "language": "python",
      "name": "python3"
    },
    "language_info": {
      "codemirror_mode": {
        "name": "ipython",
        "version": 3
      },
      "file_extension": ".py",
      "mimetype": "text/x-python",
      "name": "python",
      "nbconvert_exporter": "python",
      "pygments_lexer": "ipython3",
      "version": "3.7.10"
    },
    "toc": {
      "base_numbering": 1,
      "nav_menu": {},
      "number_sections": false,
      "sideBar": true,
      "skip_h1_title": false,
      "title_cell": "Table of Contents",
      "title_sidebar": "Contents",
      "toc_cell": false,
      "toc_position": {
        "height": "calc(100% - 180px)",
        "left": "10px",
        "top": "150px",
        "width": "234px"
      },
      "toc_section_display": true,
      "toc_window_display": true
    },
    "varInspector": {
      "cols": {
        "lenName": 16,
        "lenType": 16,
        "lenVar": 40
      },
      "kernels_config": {
        "python": {
          "delete_cmd_postfix": "",
          "delete_cmd_prefix": "del ",
          "library": "var_list.py",
          "varRefreshCmd": "print(var_dic_list())"
        },
        "r": {
          "delete_cmd_postfix": ") ",
          "delete_cmd_prefix": "rm(",
          "library": "var_list.r",
          "varRefreshCmd": "cat(var_dic_list()) "
        }
      },
      "types_to_exclude": [
        "module",
        "function",
        "builtin_function_or_method",
        "instance",
        "_Feature"
      ],
      "window_display": false
    }
  },
  "cells": [
    {
      "cell_type": "markdown",
      "metadata": {
        "id": "__YfCk6Hp7Ve"
      },
      "source": [
        "# 1) Enfoque personalizado"
      ]
    },
    {
      "cell_type": "markdown",
      "metadata": {
        "id": "PE1u2SyVp7Vg"
      },
      "source": [
        " Se considera 1 modelo por día a predecir, por tanto existen modelos que son seq-seq y seq-one. Estos modelos aprenden de secuencias que simulan exactamente la ventana de tiempo que se están considerando, por ejemplo si se quiere predecir a 3 meses 29 horarios especificos, cada uno de los Y_train de la red tienen la misma extructura y se distancian a 3 meses del X_train"
      ]
    },
    {
      "cell_type": "markdown",
      "metadata": {
        "id": "XwI8mhGbp7Vh"
      },
      "source": [
        "Score publico de 4.1.."
      ]
    },
    {
      "cell_type": "markdown",
      "metadata": {
        "id": "zmBvLCBMDPNo"
      },
      "source": [
        "# Liberias "
      ]
    },
    {
      "cell_type": "code",
      "metadata": {
        "ExecuteTime": {
          "end_time": "2021-08-10T19:41:30.299854Z",
          "start_time": "2021-08-10T19:41:25.961366Z"
        },
        "id": "7zDB41TRDLYA"
      },
      "source": [
        "#librerias\n",
        "import pandas as pd\n",
        "import numpy as np\n",
        "import matplotlib.pyplot as plt\n",
        "import seaborn as sns\n",
        "\n",
        "import math\n",
        "import numpy as np\n",
        "\n",
        "import missingno as msno \n",
        "from sklearn.model_selection import train_test_split\n",
        "from sklearn.preprocessing import StandardScaler\n",
        "from sklearn.model_selection import KFold\n",
        "\n",
        "# Import necessary modules\n",
        "from sklearn.metrics import mean_squared_error\n",
        "\n",
        "# Keras specific\n",
        "import keras\n",
        "from keras.models import Sequential\n",
        "from keras.layers import Dense\n",
        "\n",
        "from keras.models import Sequential\n",
        "from keras.layers.normalization import BatchNormalization\n",
        "from keras.layers.convolutional import Conv2D\n",
        "from keras.layers.convolutional import MaxPooling2D\n",
        "from keras.layers.core import Activation\n",
        "from keras.layers.core import Dropout\n",
        "from keras.layers.core import Dense\n",
        "from keras.layers import Flatten\n",
        "from keras.layers import Input\n",
        "from keras.models import Model\n",
        "from keras.callbacks import ModelCheckpoint\n",
        "from tensorflow.keras import layers\n",
        "from keras.callbacks import History,EarlyStopping\n",
        "from tensorflow.keras.regularizers import L1, L2, L1L2\n",
        "\n",
        "from sklearn.metrics import classification_report\n",
        "\n",
        "import tensorflow as tf\n",
        "#import tensorflow_addons as tfa\n",
        "from tensorflow import keras\n",
        "import pydot\n",
        "\n",
        "\n",
        "\n",
        "#help(mp_pose.Pose)\n",
        "\n",
        "\n",
        "from numpy.random import seed\n",
        "import random as python_random\n",
        "import random\n",
        "\n",
        "import warnings\n",
        "warnings.filterwarnings(\"ignore\")\n",
        "\n",
        "seed(48)\n",
        "python_random.seed(48)\n",
        "tf.random.set_seed(48)\n",
        "\n",
        "#Cambiar el formato de las fechas a dd-mm-aa\n",
        "import datetime\n",
        "import plotly.graph_objects as go\n",
        "from plotly.offline import download_plotlyjs,init_notebook_mode,plot,iplot\n",
        "from sklearn.metrics import mean_squared_error\n",
        "\n",
        "from keras.layers import LSTM\n",
        "from datetime import date\n",
        "from datetime import datetime, timedelta\n",
        "\n",
        "from keras.layers import RepeatVector\n",
        "from keras.layers import TimeDistributed\n",
        "from keras.layers import Bidirectional\n",
        "\n",
        "from keras.layers import LSTM, Dense, RepeatVector, TimeDistributed, Input, BatchNormalization, multiply, concatenate, Flatten, Activation, dot\n",
        "from keras.utils.vis_utils import plot_model, model_to_dot"
      ],
      "execution_count": null,
      "outputs": []
    },
    {
      "cell_type": "code",
      "metadata": {
        "colab": {
          "base_uri": "https://localhost:8080/"
        },
        "id": "lqrfb309DXRs",
        "outputId": "e9b9390e-0ef3-4bac-8755-de745c069023"
      },
      "source": [
        "# hacer la conexión a Google Drive\n",
        "\n",
        "from google.colab import drive\n",
        "\n",
        "colab_flag = True\n",
        "\n",
        "if (colab_flag):\n",
        "    drive.mount('/content/drive',force_remount=True)\n",
        "\n",
        "\n",
        "\n",
        "path = '/content/drive/MyDrive/ANN-2021-I/'"
      ],
      "execution_count": null,
      "outputs": [
        {
          "output_type": "stream",
          "text": [
            "Mounted at /content/drive\n"
          ],
          "name": "stdout"
        }
      ]
    },
    {
      "cell_type": "markdown",
      "metadata": {
        "id": "gjmas-9PDYWw"
      },
      "source": [
        "# Preprocesamiento"
      ]
    },
    {
      "cell_type": "code",
      "metadata": {
        "id": "q_ttpbSHDbsD"
      },
      "source": [
        "train_= pd.read_csv(path+'velocidad-viento/windspeed-training.csv')\n",
        "train_.columns= [\"Fecha\",\"Velocidad\"]\n",
        "test= pd.read_csv(path+'velocidad-viento/windspeed-testing.csv')"
      ],
      "execution_count": null,
      "outputs": []
    },
    {
      "cell_type": "code",
      "metadata": {
        "ExecuteTime": {
          "end_time": "2021-08-10T19:41:32.483367Z",
          "start_time": "2021-08-10T19:41:32.407524Z"
        },
        "id": "OcsEj51ep7Vm"
      },
      "source": [
        "train_= pd.read_csv('velocidad-viento/windspeed-training.csv')\n",
        "train_.columns= [\"Fecha\",\"Velocidad\"]\n",
        "test= pd.read_csv('velocidad-viento/windspeed-testing.csv')"
      ],
      "execution_count": null,
      "outputs": []
    },
    {
      "cell_type": "markdown",
      "metadata": {
        "id": "WvVN6PbBp7Vn"
      },
      "source": [
        "## Imputación"
      ]
    },
    {
      "cell_type": "code",
      "metadata": {
        "ExecuteTime": {
          "end_time": "2021-08-10T19:44:29.716750Z",
          "start_time": "2021-08-10T19:44:29.607656Z"
        },
        "id": "o8V-aZA293sc"
      },
      "source": [
        "train=train_[(train_.Fecha< \"2014-01-10\" )]\n",
        "fechas_imputacion=list(train_[(train_.Fecha<= \"2014-01-08 23:50\" )&(train_.Fecha>= \"2014-01-08 16:50\" )].Fecha)\n",
        "reparado= [x.replace(\"-08\",\"-09\") for x in fechas_imputacion]\n",
        "velocidad_imputacion= list(train_[(train_.Fecha<= \"2014-01-08 23:50\" )&(train_.Fecha>= \"2014-01-08 16:40\" )].Velocidad)\n",
        "\n",
        "for i in range(len(reparado)):\n",
        "    train = train.append({'Fecha': reparado[i], 'Velocidad': velocidad_imputacion[i]}, ignore_index=True)\n",
        "\n",
        "train=train.append(train_[(train_.Fecha> \"2014-01-10\" )], ignore_index=True)"
      ],
      "execution_count": null,
      "outputs": []
    },
    {
      "cell_type": "code",
      "metadata": {
        "ExecuteTime": {
          "end_time": "2021-08-10T19:44:31.270701Z",
          "start_time": "2021-08-10T19:44:31.247702Z"
        },
        "id": "mpd-SIZvDkmF"
      },
      "source": [
        "fechas_test=list(test['26-04-2015 01:50'])\n",
        "fechas_test.insert(0,'26-04-2015 01:50')\n",
        "l_=pd.Series(fechas_test)\n",
        "l=pd.to_datetime(l_,format='%d-%m-%Y %H:%M')\n",
        "largo_seq_predecir= l.dt.date.value_counts()"
      ],
      "execution_count": null,
      "outputs": []
    },
    {
      "cell_type": "code",
      "metadata": {
        "ExecuteTime": {
          "end_time": "2021-08-05T22:02:07.150596Z",
          "start_time": "2021-08-05T22:02:07.135600Z"
        },
        "colab": {
          "base_uri": "https://localhost:8080/"
        },
        "id": "ydwgzUjN0w_R",
        "outputId": "3344a954-deff-4451-884d-707351471258"
      },
      "source": [
        "l_"
      ],
      "execution_count": null,
      "outputs": [
        {
          "output_type": "execute_result",
          "data": {
            "text/plain": [
              "0       26-04-2015 01:50\n",
              "1       26-04-2015 03:10\n",
              "2       26-04-2015 04:20\n",
              "3       26-04-2015 05:20\n",
              "4       26-04-2015 06:40\n",
              "              ...       \n",
              "1995    19-09-2015 08:10\n",
              "1996    21-09-2015 11:20\n",
              "1997    22-09-2015 10:30\n",
              "1998    23-09-2015 17:30\n",
              "1999    24-09-2015 00:10\n",
              "Length: 2000, dtype: object"
            ]
          },
          "metadata": {
            "tags": []
          },
          "execution_count": 8
        }
      ]
    },
    {
      "cell_type": "code",
      "metadata": {
        "ExecuteTime": {
          "end_time": "2021-08-05T22:02:12.701540Z",
          "start_time": "2021-08-05T22:02:12.696540Z"
        },
        "colab": {
          "base_uri": "https://localhost:8080/"
        },
        "id": "oNjJbX4CDpa5",
        "outputId": "22434eb8-c146-4250-d2d6-d07b1447a21e"
      },
      "source": [
        "d0 = date(2015, 4, 26)\n",
        "d1 = date(2015, 9, 24)\n",
        "delta = d1 - d0\n",
        "print(delta.days+1)"
      ],
      "execution_count": null,
      "outputs": [
        {
          "output_type": "stream",
          "text": [
            "152\n"
          ],
          "name": "stdout"
        }
      ]
    },
    {
      "cell_type": "code",
      "metadata": {
        "colab": {
          "base_uri": "https://localhost:8080/"
        },
        "id": "1aAhtAII7ok-",
        "outputId": "5f58b620-c488-4071-a81d-b11f72014b4e"
      },
      "source": [
        "largo_seq_predecir"
      ],
      "execution_count": null,
      "outputs": [
        {
          "output_type": "execute_result",
          "data": {
            "text/plain": [
              "2015-06-28    29\n",
              "2015-07-20    27\n",
              "2015-06-15    27\n",
              "2015-08-02    26\n",
              "2015-05-28    25\n",
              "              ..\n",
              "2015-09-22     1\n",
              "2015-09-17     1\n",
              "2015-09-03     1\n",
              "2015-09-23     1\n",
              "2015-09-07     1\n",
              "Length: 146, dtype: int64"
            ]
          },
          "metadata": {
            "tags": []
          },
          "execution_count": 10
        }
      ]
    },
    {
      "cell_type": "markdown",
      "metadata": {
        "id": "18WRnPJ3D4OD"
      },
      "source": [
        "# Validacion"
      ]
    },
    {
      "cell_type": "code",
      "metadata": {
        "ExecuteTime": {
          "end_time": "2021-08-10T19:44:34.592804Z",
          "start_time": "2021-08-10T19:44:34.502738Z"
        },
        "id": "9LDgvPI2qDAT"
      },
      "source": [
        "train[\"Fecha\"] =  pd.to_datetime(train[\"Fecha\"], format='%Y-%m-%d %H:%M')\n",
        "dias_train=train.Fecha.dt.date.unique()\n",
        "#para_validar=dias_train[-146:]"
      ],
      "execution_count": null,
      "outputs": []
    },
    {
      "cell_type": "code",
      "metadata": {
        "ExecuteTime": {
          "end_time": "2021-08-10T19:44:39.401087Z",
          "start_time": "2021-08-10T19:44:35.550739Z"
        },
        "id": "wTM4apRrD5Lf"
      },
      "source": [
        "c=0\n",
        "indices_val=[]\n",
        "validacion= pd.DataFrame(columns=[\"Fecha\",\"Velocidad\"])\n",
        "for fecha in fechas_test:\n",
        "  #damos vuelta el formato\n",
        "  d=fecha.split(\"-\")\n",
        "  fecha_val= \"2014-\"+ d[1]+ \"-\" + d[0]+ \" \"+ d[2].split(\" \")[1]\n",
        "  #filtro\n",
        "  filtro=train[train[\"Fecha\"]== fecha_val]\n",
        "  indices_val.append(filtro.index[0])\n",
        "  #añadimos\n",
        "  validacion.loc[c]= list(filtro.Fecha) + list(filtro.Velocidad)\n",
        "  c+=1"
      ],
      "execution_count": null,
      "outputs": []
    },
    {
      "cell_type": "code",
      "metadata": {
        "ExecuteTime": {
          "end_time": "2021-08-10T19:44:40.516415Z",
          "start_time": "2021-08-10T19:44:40.503369Z"
        },
        "id": "sQH2r9MOuM88"
      },
      "source": [
        "fin_entrenamiento= validacion.Fecha[0]- timedelta(minutes= 120)\n",
        "entrenamiento=train[train[\"Fecha\"]<= str(fin_entrenamiento)] "
      ],
      "execution_count": null,
      "outputs": []
    },
    {
      "cell_type": "code",
      "metadata": {
        "ExecuteTime": {
          "end_time": "2021-08-10T19:44:42.150576Z",
          "start_time": "2021-08-10T19:44:42.135588Z"
        },
        "colab": {
          "base_uri": "https://localhost:8080/"
        },
        "id": "1yympPXEaSik",
        "outputId": "6f4144f5-1312-4f1e-d7f3-25f4923b4998"
      },
      "source": [
        "print(\"Conjunto de entrenamiento\", train.shape)\n",
        "print(\"Partición de validación\", validacion.shape)\n",
        "print(\"Partición de entrenamiento para validar\", entrenamiento.shape)"
      ],
      "execution_count": null,
      "outputs": [
        {
          "output_type": "stream",
          "text": [
            "Conjunto de entrenamiento (123407, 2)\n",
            "Partición de validación (2000, 2)\n",
            "Partición de entrenamiento para validar (70991, 2)\n"
          ],
          "name": "stdout"
        }
      ]
    },
    {
      "cell_type": "code",
      "metadata": {
        "ExecuteTime": {
          "end_time": "2021-08-10T19:44:43.451422Z",
          "start_time": "2021-08-10T19:44:43.207424Z"
        },
        "id": "RMn6WVFOllmD"
      },
      "source": [
        "año=2014 #validacion\n",
        "horas_antes= 6*6 #6 horas\n",
        "velocidad=list(entrenamiento.Velocidad)\n",
        "entrenamiento[\"Fecha\"] =  pd.to_datetime(entrenamiento[\"Fecha\"], format='%Y-%m-%d %H:%M')\n",
        "\n",
        "dias_train_=entrenamiento.Fecha.dt.date.unique()\n",
        "str_fechas_entrenamiento= [str(x) for x in entrenamiento.Fecha]\n"
      ],
      "execution_count": null,
      "outputs": []
    },
    {
      "cell_type": "code",
      "metadata": {
        "ExecuteTime": {
          "end_time": "2021-08-10T19:44:44.765574Z",
          "start_time": "2021-08-10T19:44:44.751574Z"
        },
        "id": "eDGUGP_joXag"
      },
      "source": [
        "X_test=np.array(velocidad[-horas_antes:]).reshape(1,horas_antes)"
      ],
      "execution_count": null,
      "outputs": []
    },
    {
      "cell_type": "code",
      "metadata": {
        "ExecuteTime": {
          "end_time": "2021-07-29T15:24:52.824882Z",
          "start_time": "2021-07-29T15:06:25.615401Z"
        },
        "id": "82UqytreNtBa"
      },
      "source": [
        "Todos_los_X_Y=[]\n",
        "for i in range(largo_seq_predecir.shape[0]): #cada uno de los dias a predecir\n",
        "  largo_pred= largo_seq_predecir[i]\n",
        "  fecha_pred= largo_seq_predecir.index[i]\n",
        "  dia_pred= fecha_pred.strftime(\"%Y-%m-%d\").replace(\"2015\",str(año))\n",
        "  dia_sig=(fecha_pred +timedelta(days=1)).strftime(\"%Y-%m-%d\").replace(\"2015\",str(año))\n",
        "  Y_test= validacion[(validacion[\"Fecha\"]>= dia_pred)&(validacion[\"Fecha\"]< dia_sig)]\n",
        "  delta=(datetime.strptime(dia_pred, '%Y-%m-%d').date()-fin_entrenamiento.date()).days\n",
        "  horario_exacto=[]\n",
        "  for dia in Y_test.Fecha:\n",
        "    horario_exacto.append(str(dia).split(\" \")[1].split(\":\")[0]+\":\"+str(dia).split(\" \")[1].split(\":\")[1])\n",
        "\n",
        "  X_train,Y_train= generador_train(largo_pred)\n",
        "  \n",
        "  Todos_los_X_Y.append((X_train,Y_train,Y_test.Velocidad))"
      ],
      "execution_count": null,
      "outputs": []
    },
    {
      "cell_type": "code",
      "metadata": {
        "ExecuteTime": {
          "end_time": "2021-07-29T15:06:18.510551Z",
          "start_time": "2021-07-29T15:06:18.495552Z"
        },
        "id": "wHtEGJN5xyJX"
      },
      "source": [
        "def generador_train( largo_pred):\n",
        "  i=0\n",
        "  for d in dias_train_[1:]: #no tomo el primero\n",
        "    y=[]\n",
        "    for h in horario_exacto:\n",
        "      consulta_y=str(d)+ \" \"+ h+\":00\"\n",
        "      if consulta_y in str_fechas_entrenamiento:\n",
        "        y.append(entrenamiento[entrenamiento[\"Fecha\"]== str(d)+ \" \"+ h].Velocidad.values[0])\n",
        "      else: \n",
        "        break \n",
        "    primer_y=entrenamiento[entrenamiento[\"Fecha\"]==str(d)+ \" \"+ horario_exacto[0]].index[0]\n",
        "    \n",
        "    if len(y)==largo_pred and primer_y>horas_antes+120+delta*144:\n",
        "      \n",
        "      x=np.array(velocidad[primer_y-120-delta*144-horas_antes:primer_y-120-delta*144]).reshape(1,horas_antes)\n",
        "      y= np.array(y).reshape(1,largo_pred)\n",
        "      if i==0:\n",
        "          i+=1\n",
        "          X = x\n",
        "          Y = y\n",
        "      else:\n",
        "          X = np.vstack((X,x))\n",
        "          Y = np.vstack((Y,y))\n",
        "    else:\n",
        "      pass\n",
        "  return X.reshape(X.shape[0], X.shape[1], 1), Y"
      ],
      "execution_count": null,
      "outputs": []
    },
    {
      "cell_type": "code",
      "metadata": {
        "ExecuteTime": {
          "end_time": "2021-07-29T15:06:12.417092Z",
          "start_time": "2021-07-29T15:06:12.391093Z"
        },
        "id": "YbfejcV3ZX5K",
        "outputId": "4d2db2d0-570a-4769-f0fe-9a58b01ab7ea"
      },
      "source": [
        "i=0\n",
        "for d in dias_train_[1:]: #no tomo el primero\n",
        "  y=[]\n",
        "  for h in horario_exacto:\n",
        "    consulta_y=str(d)+ \" \"+ h+\":00\"\n",
        "    if consulta_y in str_fechas_entrenamiento:\n",
        "        y.append(entrenamiento[entrenamiento[\"Fecha\"]== str(d)+ \" \"+ h].Velocidad.values[0])\n",
        "    else: \n",
        "      print(h)\n",
        "      print(d)\n",
        "      f= entrenamiento[entrenamiento[\"Fecha\"]== str(d)+ \" \"+ h]\n",
        "      break \n",
        "  primer_y=entrenamiento[entrenamiento[\"Fecha\"]==str(d)+ \" \"+ horario_exacto[0]].index[0]\n",
        "  if len(y)==largo_pred and primer_y>horas_antes+120+delta*144:\n",
        "    x=np.array(velocidad[primer_y-120-delta*144-horas_antes:primer_y-120-delta*144]).reshape(1,horas_antes)\n",
        "    y= np.array(y).reshape(1,largo_pred)\n",
        "    if i==0:\n",
        "        i+=1\n",
        "        X = x\n",
        "        Y = y\n",
        "    else:\n",
        "        X = np.vstack((X,x))\n",
        "        Y = np.vstack((Y,y))\n",
        "  else:\n",
        "    pass"
      ],
      "execution_count": null,
      "outputs": [
        {
          "output_type": "error",
          "ename": "NameError",
          "evalue": "name 'horario_exacto' is not defined",
          "traceback": [
            "\u001b[1;31m---------------------------------------------------------------------------\u001b[0m",
            "\u001b[1;31mNameError\u001b[0m                                 Traceback (most recent call last)",
            "\u001b[1;32m<ipython-input-12-50631a6322a9>\u001b[0m in \u001b[0;36m<module>\u001b[1;34m\u001b[0m\n\u001b[0;32m      2\u001b[0m \u001b[1;32mfor\u001b[0m \u001b[0md\u001b[0m \u001b[1;32min\u001b[0m \u001b[0mdias_train_\u001b[0m\u001b[1;33m[\u001b[0m\u001b[1;36m1\u001b[0m\u001b[1;33m:\u001b[0m\u001b[1;33m]\u001b[0m\u001b[1;33m:\u001b[0m \u001b[1;31m#no tomo el primero\u001b[0m\u001b[1;33m\u001b[0m\u001b[1;33m\u001b[0m\u001b[0m\n\u001b[0;32m      3\u001b[0m   \u001b[0my\u001b[0m\u001b[1;33m=\u001b[0m\u001b[1;33m[\u001b[0m\u001b[1;33m]\u001b[0m\u001b[1;33m\u001b[0m\u001b[1;33m\u001b[0m\u001b[0m\n\u001b[1;32m----> 4\u001b[1;33m   \u001b[1;32mfor\u001b[0m \u001b[0mh\u001b[0m \u001b[1;32min\u001b[0m \u001b[0mhorario_exacto\u001b[0m\u001b[1;33m:\u001b[0m\u001b[1;33m\u001b[0m\u001b[1;33m\u001b[0m\u001b[0m\n\u001b[0m\u001b[0;32m      5\u001b[0m     \u001b[0mconsulta_y\u001b[0m\u001b[1;33m=\u001b[0m\u001b[0mstr\u001b[0m\u001b[1;33m(\u001b[0m\u001b[0md\u001b[0m\u001b[1;33m)\u001b[0m\u001b[1;33m+\u001b[0m \u001b[1;34m\" \"\u001b[0m\u001b[1;33m+\u001b[0m \u001b[0mh\u001b[0m\u001b[1;33m+\u001b[0m\u001b[1;34m\":00\"\u001b[0m\u001b[1;33m\u001b[0m\u001b[1;33m\u001b[0m\u001b[0m\n\u001b[0;32m      6\u001b[0m     \u001b[1;32mif\u001b[0m \u001b[0mconsulta_y\u001b[0m \u001b[1;32min\u001b[0m \u001b[0mstr_fechas_entrenamiento\u001b[0m\u001b[1;33m:\u001b[0m\u001b[1;33m\u001b[0m\u001b[1;33m\u001b[0m\u001b[0m\n",
            "\u001b[1;31mNameError\u001b[0m: name 'horario_exacto' is not defined"
          ]
        }
      ]
    },
    {
      "cell_type": "code",
      "metadata": {
        "colab": {
          "base_uri": "https://localhost:8080/"
        },
        "id": "7J5ewaeMaD4u",
        "outputId": "a26549e9-f649-4cdd-88dc-f97ad5cd9ea0"
      },
      "source": [
        "primer_y"
      ],
      "execution_count": null,
      "outputs": [
        {
          "output_type": "execute_result",
          "data": {
            "text/plain": [
              "9510"
            ]
          },
          "metadata": {
            "tags": []
          },
          "execution_count": 18
        }
      ]
    },
    {
      "cell_type": "code",
      "metadata": {
        "ExecuteTime": {
          "end_time": "2021-07-29T15:27:02.129527Z",
          "start_time": "2021-07-29T15:27:02.118526Z"
        },
        "id": "lzJ0WrBX-pMP"
      },
      "source": [
        "from numpy import save"
      ],
      "execution_count": null,
      "outputs": []
    },
    {
      "cell_type": "code",
      "metadata": {
        "ExecuteTime": {
          "end_time": "2021-07-29T15:27:06.121000Z",
          "start_time": "2021-07-29T15:27:06.081000Z"
        },
        "id": "0RmTn-V_4coK"
      },
      "source": [
        "save('validacion.npy', np.array(Todos_los_X_Y))"
      ],
      "execution_count": null,
      "outputs": []
    },
    {
      "cell_type": "code",
      "metadata": {
        "ExecuteTime": {
          "end_time": "2021-08-10T19:42:21.368035Z",
          "start_time": "2021-08-10T19:42:21.311622Z"
        },
        "id": "PfdQDcKVQhPp"
      },
      "source": [
        "data = np.load(\"validacion.npy\",allow_pickle=True)"
      ],
      "execution_count": null,
      "outputs": []
    },
    {
      "cell_type": "code",
      "metadata": {
        "id": "GI8ZQkISqksk"
      },
      "source": [
        "data = np.load(path+\"velocidad-viento/validacion.npy\",allow_pickle=True)"
      ],
      "execution_count": null,
      "outputs": []
    },
    {
      "cell_type": "code",
      "metadata": {
        "ExecuteTime": {
          "end_time": "2021-08-10T19:42:23.982484Z",
          "start_time": "2021-08-10T19:42:23.959437Z"
        },
        "colab": {
          "base_uri": "https://localhost:8080/"
        },
        "id": "r00ki5Py-v2z",
        "outputId": "cd755159-2439-46f8-9c1d-8cd14d3e7c30"
      },
      "source": [
        "data= np.array(Todos_los_X_Y)"
      ],
      "execution_count": null,
      "outputs": [
        {
          "output_type": "error",
          "ename": "NameError",
          "evalue": "name 'Todos_los_X_Y' is not defined",
          "traceback": [
            "\u001b[1;31m---------------------------------------------------------------------------\u001b[0m",
            "\u001b[1;31mNameError\u001b[0m                                 Traceback (most recent call last)",
            "\u001b[1;32m<ipython-input-5-269b2c89c47d>\u001b[0m in \u001b[0;36m<module>\u001b[1;34m\u001b[0m\n\u001b[1;32m----> 1\u001b[1;33m \u001b[0mdata\u001b[0m\u001b[1;33m=\u001b[0m \u001b[0mnp\u001b[0m\u001b[1;33m.\u001b[0m\u001b[0marray\u001b[0m\u001b[1;33m(\u001b[0m\u001b[0mTodos_los_X_Y\u001b[0m\u001b[1;33m)\u001b[0m\u001b[1;33m\u001b[0m\u001b[1;33m\u001b[0m\u001b[0m\n\u001b[0m",
            "\u001b[1;31mNameError\u001b[0m: name 'Todos_los_X_Y' is not defined"
          ]
        }
      ]
    },
    {
      "cell_type": "code",
      "metadata": {
        "ExecuteTime": {
          "end_time": "2021-08-10T19:43:12.861589Z",
          "start_time": "2021-08-10T19:43:12.855588Z"
        },
        "id": "uyEuCJGdp7Vs",
        "colab": {
          "base_uri": "https://localhost:8080/"
        },
        "outputId": "11573887-ca8d-4a23-d1dc-3d3bcf071912"
      },
      "source": [
        "data.shape"
      ],
      "execution_count": null,
      "outputs": [
        {
          "output_type": "execute_result",
          "data": {
            "text/plain": [
              "(146, 3)"
            ]
          },
          "metadata": {
            "tags": []
          },
          "execution_count": 12
        }
      ]
    },
    {
      "cell_type": "markdown",
      "metadata": {
        "id": "JTTgs63ensj8"
      },
      "source": [
        "# Modelos"
      ]
    },
    {
      "cell_type": "code",
      "metadata": {
        "ExecuteTime": {
          "end_time": "2021-08-10T19:43:56.691391Z",
          "start_time": "2021-08-10T19:43:56.679359Z"
        },
        "id": "i4wG6j38oBUG"
      },
      "source": [
        "X_train= data[0][0]\n",
        "Y_train= data[0][1]\n",
        "Y_test= data[0][2]"
      ],
      "execution_count": null,
      "outputs": []
    },
    {
      "cell_type": "code",
      "metadata": {
        "ExecuteTime": {
          "end_time": "2021-08-10T19:43:58.782366Z",
          "start_time": "2021-08-10T19:43:58.775323Z"
        },
        "colab": {
          "base_uri": "https://localhost:8080/"
        },
        "id": "WjaPQV5FoZcm",
        "outputId": "0f0867ee-d4f0-4bdb-fc83-21fe60f559a3"
      },
      "source": [
        "X_train.shape"
      ],
      "execution_count": null,
      "outputs": [
        {
          "output_type": "execute_result",
          "data": {
            "text/plain": [
              "(427, 36, 1)"
            ]
          },
          "metadata": {
            "tags": []
          },
          "execution_count": 14
        }
      ]
    },
    {
      "cell_type": "code",
      "metadata": {
        "ExecuteTime": {
          "end_time": "2021-08-10T19:44:00.793141Z",
          "start_time": "2021-08-10T19:44:00.775141Z"
        },
        "colab": {
          "base_uri": "https://localhost:8080/"
        },
        "id": "s8MqwFamocJ-",
        "outputId": "d89a9f58-9df4-482f-9e04-999c55f8d407"
      },
      "source": [
        "Y_train.shape"
      ],
      "execution_count": null,
      "outputs": [
        {
          "output_type": "execute_result",
          "data": {
            "text/plain": [
              "(427, 29)"
            ]
          },
          "metadata": {
            "tags": []
          },
          "execution_count": 15
        }
      ]
    },
    {
      "cell_type": "code",
      "metadata": {
        "ExecuteTime": {
          "end_time": "2021-08-10T19:44:03.254392Z",
          "start_time": "2021-08-10T19:44:03.239343Z"
        },
        "colab": {
          "base_uri": "https://localhost:8080/"
        },
        "id": "swkC0X5SoeVs",
        "outputId": "ee171635-aa89-476f-d53e-4b3571d91c0a"
      },
      "source": [
        "Y_test.shape"
      ],
      "execution_count": null,
      "outputs": [
        {
          "output_type": "execute_result",
          "data": {
            "text/plain": [
              "(29,)"
            ]
          },
          "metadata": {
            "tags": []
          },
          "execution_count": 16
        }
      ]
    },
    {
      "cell_type": "code",
      "metadata": {
        "ExecuteTime": {
          "end_time": "2021-08-10T19:44:50.308289Z",
          "start_time": "2021-08-10T19:44:50.295295Z"
        },
        "colab": {
          "base_uri": "https://localhost:8080/"
        },
        "id": "n2u4zsCjof_Y",
        "outputId": "66e4a398-32a7-4532-9c00-4c97211fe32b"
      },
      "source": [
        "X_test.shape"
      ],
      "execution_count": null,
      "outputs": [
        {
          "output_type": "execute_result",
          "data": {
            "text/plain": [
              "(1, 36)"
            ]
          },
          "metadata": {
            "tags": []
          },
          "execution_count": 40
        }
      ]
    },
    {
      "cell_type": "code",
      "metadata": {
        "id": "ImfLxJsAo10x"
      },
      "source": [
        "n_feautures=1"
      ],
      "execution_count": null,
      "outputs": []
    },
    {
      "cell_type": "markdown",
      "metadata": {
        "id": "6xmclNXap7Vt"
      },
      "source": [
        "## LSTM Enconder-Decoder"
      ]
    },
    {
      "cell_type": "code",
      "metadata": {
        "ExecuteTime": {
          "end_time": "2021-08-10T19:55:42.200680Z",
          "start_time": "2021-08-10T19:55:42.191643Z"
        },
        "id": "T5S3es9wntnv"
      },
      "source": [
        "def enc_dec(X_train, Y_train, X_test,n_feautures=1):\n",
        "    # define model\n",
        "    model = Sequential()\n",
        "    #enconder\n",
        "    model.add(LSTM(200, activation='relu',dropout=0.2, recurrent_dropout=0.2, activity_regularizer=tf.keras.regularizers.l1(0.01),\n",
        "                   kernel_initializer=tf.keras.initializers.GlorotNormal(seed=None),input_shape=(X_train.shape[1], n_feautures)) )\n",
        "    model.add(BatchNormalization())\n",
        "    model.add(RepeatVector(Y_train.shape[1]))\n",
        "\n",
        "    #decoder\n",
        "    model.add(LSTM(100, activation='relu',dropout=0.2, recurrent_dropout=0.2, return_sequences=True))\n",
        "    model.add(TimeDistributed(Dense(n_feautures)))\n",
        "\n",
        "    model.compile(optimizer='adam', loss='mean_absolute_error',metrics=[\"mse\"])\n",
        "\n",
        "    my_callbacks = [History(), EarlyStopping(patience=3, monitor=\"val_loss\",restore_best_weights=True)]\n",
        "    model.fit(X_train, Y_train, epochs=50, verbose=0,batch_size=64, validation_split=0.2, callbacks= my_callbacks)\n",
        "    x_input = X_test.reshape((1, X_train.shape[1], 1))\n",
        "    ypred = model.predict(x_input, verbose=0)\n",
        "    y_pred= [np.round(x[0],1) for x in ypred[0]]\n",
        "    return y_pred"
      ],
      "execution_count": null,
      "outputs": []
    },
    {
      "cell_type": "code",
      "metadata": {
        "ExecuteTime": {
          "end_time": "2021-08-10T19:56:04.125266Z",
          "start_time": "2021-08-10T19:55:45.103962Z"
        },
        "colab": {
          "base_uri": "https://localhost:8080/"
        },
        "id": "B0NcQO1-xEPU",
        "outputId": "675aae1b-5728-45b8-89b3-9a57b83a724e"
      },
      "source": [
        "y_pred= enc_dec(X_train, Y_train, X_test)\n",
        "mean_squared_error(list(Y_test), y_pred)"
      ],
      "execution_count": null,
      "outputs": [
        {
          "output_type": "stream",
          "text": [
            "WARNING:tensorflow:Layer lstm_10 will not use cuDNN kernels since it doesn't meet the criteria. It will use a generic GPU kernel as fallback when running on GPU.\n",
            "WARNING:tensorflow:Layer lstm_11 will not use cuDNN kernels since it doesn't meet the criteria. It will use a generic GPU kernel as fallback when running on GPU.\n",
            "Epoch 1/10\n",
            "7/7 [==============================] - 8s 237ms/step - loss: 6.6339 - mse: 60.0237\n",
            "Epoch 2/10\n",
            "7/7 [==============================] - 2s 234ms/step - loss: 5.1699 - mse: 39.3064\n",
            "Epoch 3/10\n",
            "7/7 [==============================] - 2s 229ms/step - loss: 4.5414 - mse: 28.7460\n",
            "Epoch 4/10\n",
            "7/7 [==============================] - 2s 234ms/step - loss: 4.1939 - mse: 24.4374\n",
            "Epoch 5/10\n",
            "7/7 [==============================] - 2s 239ms/step - loss: 3.9319 - mse: 20.8261\n",
            "Epoch 6/10\n",
            "7/7 [==============================] - 2s 233ms/step - loss: 3.8327 - mse: 19.8611\n",
            "Epoch 7/10\n",
            "7/7 [==============================] - 2s 243ms/step - loss: 3.8046 - mse: 19.9467\n",
            "Epoch 8/10\n",
            "7/7 [==============================] - 2s 237ms/step - loss: 3.6892 - mse: 18.7722\n",
            "Epoch 9/10\n",
            "7/7 [==============================] - 2s 231ms/step - loss: 3.7625 - mse: 19.8771\n",
            "Epoch 10/10\n",
            "7/7 [==============================] - 2s 230ms/step - loss: 3.7259 - mse: 19.3706\n",
            "WARNING:tensorflow:6 out of the last 6 calls to <function Model.make_predict_function.<locals>.predict_function at 0x7f983f73a320> triggered tf.function retracing. Tracing is expensive and the excessive number of tracings could be due to (1) creating @tf.function repeatedly in a loop, (2) passing tensors with different shapes, (3) passing Python objects instead of tensors. For (1), please define your @tf.function outside of the loop. For (2), @tf.function has experimental_relax_shapes=True option that relaxes argument shapes that can avoid unnecessary retracing. For (3), please refer to https://www.tensorflow.org/guide/function#controlling_retracing and https://www.tensorflow.org/api_docs/python/tf/function for  more details.\n"
          ],
          "name": "stdout"
        },
        {
          "output_type": "execute_result",
          "data": {
            "text/plain": [
              "22.43999985111171"
            ]
          },
          "metadata": {
            "tags": []
          },
          "execution_count": 32
        }
      ]
    },
    {
      "cell_type": "markdown",
      "metadata": {
        "id": "N0iIRoKj1PK8"
      },
      "source": [
        "## Atencional\n"
      ]
    },
    {
      "cell_type": "code",
      "metadata": {
        "ExecuteTime": {
          "end_time": "2021-08-10T19:59:53.986074Z",
          "start_time": "2021-08-10T19:59:53.971073Z"
        },
        "id": "7_wOnYUAAO0o"
      },
      "source": [
        "def atencionLuong(X_train, Y_train, X_test,n_feautures=1):\n",
        "  input_train = Input(shape=(X_train.shape[1], n_feautures))\n",
        "  output_train = Input(shape=(Y_train.shape[1],n_feautures))\n",
        "\n",
        "    \n",
        "  #primerlstm=LSTM(50, activation='elu',dropout=0.2, recurrent_dropout=0.2, activity_regularizer=tf.keras.regularizers.l1(0.01),\n",
        "                #kernel_initializer=tf.keras.initializers.GlorotNormal(seed=None), return_sequences=True)(input_train)\n",
        "\n",
        "  #segundalstm=LSTM(50, activation='elu',dropout=0.2, recurrent_dropout=0.2, activity_regularizer=tf.keras.regularizers.l1(0.01),\n",
        "                #kernel_initializer=tf.keras.initializers.GlorotNormal(seed=None), return_sequences=True)(primerlstm)\n",
        "        \n",
        "  encoder_stack_h, encoder_last_h, encoder_last_c = LSTM(200, activation='relu',dropout=0.2, recurrent_dropout=0.2, activity_regularizer=tf.keras.regularizers.l1(0.01),\n",
        "                kernel_initializer=tf.keras.initializers.GlorotNormal(seed=None),return_state=True, return_sequences=True)(input_train)\n",
        "\n",
        "  #print(encoder_stack_h)\n",
        "  #print(encoder_last_h)\n",
        "  #print(encoder_last_c)\n",
        "\n",
        "  encoder_last_h = BatchNormalization(momentum=0.6)(encoder_last_h)\n",
        "  encoder_last_c = BatchNormalization(momentum=0.6)(encoder_last_c)\n",
        "  decoder_input = RepeatVector(output_train.shape[1])(encoder_last_h)\n",
        "  #print(decoder_input)\n",
        "\n",
        "  decoder_stack_h = LSTM(200, activation='relu',dropout=0.2, recurrent_dropout=0.2,\n",
        "                         kernel_initializer=tf.keras.initializers.GlorotNormal(seed=None),\n",
        "                        return_state=False, return_sequences=True)(decoder_input, initial_state=[encoder_last_h, encoder_last_c])\n",
        "\n",
        "  attention = dot([decoder_stack_h, encoder_stack_h], axes=[2, 2])\n",
        "  attention = Activation('softmax')(attention)\n",
        "  context = dot([attention, encoder_stack_h], axes=[2,1])\n",
        "  context = BatchNormalization(momentum=0.6)(context)\n",
        "  decoder_combined_context = concatenate([context, decoder_stack_h])\n",
        "  out = TimeDistributed(Dense(output_train.shape[2]))(decoder_combined_context)\n",
        "  model = Model(inputs=input_train, outputs=out)\n",
        "  model.compile(optimizer='adam', loss='mean_absolute_error',metrics=[\"mse\"])\n",
        "\n",
        "  my_callbacks = [History(), EarlyStopping(patience=3, monitor=\"val_loss\",restore_best_weights=True)]\n",
        "  model.fit(X_train, Y_train, epochs=50, verbose=0,batch_size=64, validation_split=0.2, callbacks= my_callbacks)\n",
        "  x_input = X_test.reshape((1, X_train.shape[1], 1))\n",
        "  ypred = model.predict(x_input, verbose=0)\n",
        "  y_pred= [np.round(x[0],1) for x in ypred[0]]\n",
        "  return y_pred\n"
      ],
      "execution_count": null,
      "outputs": []
    },
    {
      "cell_type": "code",
      "metadata": {
        "ExecuteTime": {
          "start_time": "2021-08-10T19:59:55.866Z"
        },
        "colab": {
          "base_uri": "https://localhost:8080/"
        },
        "id": "6kYtaABn-BBq",
        "scrolled": false,
        "outputId": "20ffef6e-d585-4ca8-bc77-2eb44003c134"
      },
      "source": [
        "y_pred= atencionLuong(X_train, Y_train, X_test)\n",
        "mean_squared_error(list(Y_test), y_pred)"
      ],
      "execution_count": null,
      "outputs": [
        {
          "output_type": "stream",
          "text": [
            "WARNING:tensorflow:Layer lstm will not use cuDNN kernels since it doesn't meet the criteria. It will use a generic GPU kernel as fallback when running on GPU.\n",
            "WARNING:tensorflow:Layer lstm_1 will not use cuDNN kernels since it doesn't meet the criteria. It will use a generic GPU kernel as fallback when running on GPU.\n"
          ],
          "name": "stdout"
        },
        {
          "output_type": "execute_result",
          "data": {
            "text/plain": [
              "7.938620888282549"
            ]
          },
          "metadata": {
            "tags": []
          },
          "execution_count": 33
        }
      ]
    },
    {
      "cell_type": "markdown",
      "metadata": {
        "id": "4yaUJLkip7Vu"
      },
      "source": [
        "## Comparación en validación"
      ]
    },
    {
      "cell_type": "code",
      "metadata": {
        "ExecuteTime": {
          "end_time": "2021-08-10T19:47:09.284701Z",
          "start_time": "2021-08-10T19:47:09.271662Z"
        },
        "colab": {
          "base_uri": "https://localhost:8080/"
        },
        "id": "6UDTXkWjp7Vu",
        "outputId": "1a8b6079-b947-4348-9d37-5aeec54883ce"
      },
      "source": [
        "%%time\n",
        "data.shape"
      ],
      "execution_count": null,
      "outputs": [
        {
          "output_type": "stream",
          "text": [
            "CPU times: user 9 µs, sys: 0 ns, total: 9 µs\n",
            "Wall time: 13.8 µs\n"
          ],
          "name": "stdout"
        },
        {
          "output_type": "execute_result",
          "data": {
            "text/plain": [
              "(146, 3)"
            ]
          },
          "metadata": {
            "tags": []
          },
          "execution_count": 46
        }
      ]
    },
    {
      "cell_type": "code",
      "metadata": {
        "colab": {
          "base_uri": "https://localhost:8080/"
        },
        "id": "GupAJXvmp7Vu",
        "outputId": "76f6c4e5-8f7c-4569-ec51-bdb6e8d356db"
      },
      "source": [
        "%%time\n",
        "largo_prediccion=[]\n",
        "r_enc_dec=[]\n",
        "r_att=[]\n",
        "for i in range(data.shape[0]):\n",
        "    Y_train= data[i][1]\n",
        "    if Y_train.shape[1]> 1:\n",
        "      largo_prediccion.append(Y_train.shape[1])\n",
        "      X_train= data[i][0]\n",
        "      Y_test= data[i][2]\n",
        "      y_pred= enc_dec(X_train, Y_train, X_test)\n",
        "      r_enc_dec.append(mean_squared_error(list(Y_test), y_pred))\n",
        "      y_pred= atencionLuong(X_train, Y_train, X_test)\n",
        "      r_att.append(mean_squared_error(list(Y_test), y_pred))\n",
        "        \n",
        "        "
      ],
      "execution_count": null,
      "outputs": [
        {
          "output_type": "stream",
          "text": [
            "WARNING:tensorflow:Layer lstm_22 will not use cuDNN kernels since it doesn't meet the criteria. It will use a generic GPU kernel as fallback when running on GPU.\n",
            "WARNING:tensorflow:Layer lstm_23 will not use cuDNN kernels since it doesn't meet the criteria. It will use a generic GPU kernel as fallback when running on GPU.\n",
            "WARNING:tensorflow:Layer lstm_24 will not use cuDNN kernels since it doesn't meet the criteria. It will use a generic GPU kernel as fallback when running on GPU.\n",
            "WARNING:tensorflow:Layer lstm_25 will not use cuDNN kernels since it doesn't meet the criteria. It will use a generic GPU kernel as fallback when running on GPU.\n",
            "WARNING:tensorflow:Layer lstm_26 will not use cuDNN kernels since it doesn't meet the criteria. It will use a generic GPU kernel as fallback when running on GPU.\n",
            "WARNING:tensorflow:Layer lstm_27 will not use cuDNN kernels since it doesn't meet the criteria. It will use a generic GPU kernel as fallback when running on GPU.\n",
            "WARNING:tensorflow:Layer lstm_28 will not use cuDNN kernels since it doesn't meet the criteria. It will use a generic GPU kernel as fallback when running on GPU.\n",
            "WARNING:tensorflow:Layer lstm_29 will not use cuDNN kernels since it doesn't meet the criteria. It will use a generic GPU kernel as fallback when running on GPU.\n",
            "WARNING:tensorflow:Layer lstm_30 will not use cuDNN kernels since it doesn't meet the criteria. It will use a generic GPU kernel as fallback when running on GPU.\n",
            "WARNING:tensorflow:Layer lstm_31 will not use cuDNN kernels since it doesn't meet the criteria. It will use a generic GPU kernel as fallback when running on GPU.\n",
            "WARNING:tensorflow:Layer lstm_32 will not use cuDNN kernels since it doesn't meet the criteria. It will use a generic GPU kernel as fallback when running on GPU.\n",
            "WARNING:tensorflow:Layer lstm_33 will not use cuDNN kernels since it doesn't meet the criteria. It will use a generic GPU kernel as fallback when running on GPU.\n",
            "WARNING:tensorflow:Layer lstm_34 will not use cuDNN kernels since it doesn't meet the criteria. It will use a generic GPU kernel as fallback when running on GPU.\n",
            "WARNING:tensorflow:Layer lstm_35 will not use cuDNN kernels since it doesn't meet the criteria. It will use a generic GPU kernel as fallback when running on GPU.\n",
            "WARNING:tensorflow:Layer lstm_36 will not use cuDNN kernels since it doesn't meet the criteria. It will use a generic GPU kernel as fallback when running on GPU.\n",
            "WARNING:tensorflow:Layer lstm_37 will not use cuDNN kernels since it doesn't meet the criteria. It will use a generic GPU kernel as fallback when running on GPU.\n",
            "WARNING:tensorflow:Layer lstm_38 will not use cuDNN kernels since it doesn't meet the criteria. It will use a generic GPU kernel as fallback when running on GPU.\n",
            "WARNING:tensorflow:Layer lstm_39 will not use cuDNN kernels since it doesn't meet the criteria. It will use a generic GPU kernel as fallback when running on GPU.\n",
            "WARNING:tensorflow:Layer lstm_40 will not use cuDNN kernels since it doesn't meet the criteria. It will use a generic GPU kernel as fallback when running on GPU.\n",
            "WARNING:tensorflow:Layer lstm_41 will not use cuDNN kernels since it doesn't meet the criteria. It will use a generic GPU kernel as fallback when running on GPU.\n",
            "WARNING:tensorflow:Layer lstm_42 will not use cuDNN kernels since it doesn't meet the criteria. It will use a generic GPU kernel as fallback when running on GPU.\n",
            "WARNING:tensorflow:Layer lstm_43 will not use cuDNN kernels since it doesn't meet the criteria. It will use a generic GPU kernel as fallback when running on GPU.\n",
            "WARNING:tensorflow:Layer lstm_44 will not use cuDNN kernels since it doesn't meet the criteria. It will use a generic GPU kernel as fallback when running on GPU.\n",
            "WARNING:tensorflow:Layer lstm_45 will not use cuDNN kernels since it doesn't meet the criteria. It will use a generic GPU kernel as fallback when running on GPU.\n",
            "WARNING:tensorflow:Layer lstm_46 will not use cuDNN kernels since it doesn't meet the criteria. It will use a generic GPU kernel as fallback when running on GPU.\n",
            "WARNING:tensorflow:Layer lstm_47 will not use cuDNN kernels since it doesn't meet the criteria. It will use a generic GPU kernel as fallback when running on GPU.\n",
            "WARNING:tensorflow:Layer lstm_48 will not use cuDNN kernels since it doesn't meet the criteria. It will use a generic GPU kernel as fallback when running on GPU.\n",
            "WARNING:tensorflow:Layer lstm_49 will not use cuDNN kernels since it doesn't meet the criteria. It will use a generic GPU kernel as fallback when running on GPU.\n",
            "WARNING:tensorflow:Layer lstm_50 will not use cuDNN kernels since it doesn't meet the criteria. It will use a generic GPU kernel as fallback when running on GPU.\n",
            "WARNING:tensorflow:Layer lstm_51 will not use cuDNN kernels since it doesn't meet the criteria. It will use a generic GPU kernel as fallback when running on GPU.\n",
            "WARNING:tensorflow:Layer lstm_52 will not use cuDNN kernels since it doesn't meet the criteria. It will use a generic GPU kernel as fallback when running on GPU.\n",
            "WARNING:tensorflow:Layer lstm_53 will not use cuDNN kernels since it doesn't meet the criteria. It will use a generic GPU kernel as fallback when running on GPU.\n",
            "WARNING:tensorflow:Layer lstm_54 will not use cuDNN kernels since it doesn't meet the criteria. It will use a generic GPU kernel as fallback when running on GPU.\n",
            "WARNING:tensorflow:Layer lstm_55 will not use cuDNN kernels since it doesn't meet the criteria. It will use a generic GPU kernel as fallback when running on GPU.\n",
            "WARNING:tensorflow:Layer lstm_56 will not use cuDNN kernels since it doesn't meet the criteria. It will use a generic GPU kernel as fallback when running on GPU.\n",
            "WARNING:tensorflow:Layer lstm_57 will not use cuDNN kernels since it doesn't meet the criteria. It will use a generic GPU kernel as fallback when running on GPU.\n",
            "WARNING:tensorflow:Layer lstm_58 will not use cuDNN kernels since it doesn't meet the criteria. It will use a generic GPU kernel as fallback when running on GPU.\n",
            "WARNING:tensorflow:Layer lstm_59 will not use cuDNN kernels since it doesn't meet the criteria. It will use a generic GPU kernel as fallback when running on GPU.\n",
            "WARNING:tensorflow:Layer lstm_60 will not use cuDNN kernels since it doesn't meet the criteria. It will use a generic GPU kernel as fallback when running on GPU.\n",
            "WARNING:tensorflow:Layer lstm_61 will not use cuDNN kernels since it doesn't meet the criteria. It will use a generic GPU kernel as fallback when running on GPU.\n",
            "WARNING:tensorflow:Layer lstm_62 will not use cuDNN kernels since it doesn't meet the criteria. It will use a generic GPU kernel as fallback when running on GPU.\n",
            "WARNING:tensorflow:Layer lstm_63 will not use cuDNN kernels since it doesn't meet the criteria. It will use a generic GPU kernel as fallback when running on GPU.\n",
            "WARNING:tensorflow:Layer lstm_64 will not use cuDNN kernels since it doesn't meet the criteria. It will use a generic GPU kernel as fallback when running on GPU.\n",
            "WARNING:tensorflow:Layer lstm_65 will not use cuDNN kernels since it doesn't meet the criteria. It will use a generic GPU kernel as fallback when running on GPU.\n",
            "WARNING:tensorflow:Layer lstm_66 will not use cuDNN kernels since it doesn't meet the criteria. It will use a generic GPU kernel as fallback when running on GPU.\n",
            "WARNING:tensorflow:Layer lstm_67 will not use cuDNN kernels since it doesn't meet the criteria. It will use a generic GPU kernel as fallback when running on GPU.\n",
            "WARNING:tensorflow:Layer lstm_68 will not use cuDNN kernels since it doesn't meet the criteria. It will use a generic GPU kernel as fallback when running on GPU.\n",
            "WARNING:tensorflow:Layer lstm_69 will not use cuDNN kernels since it doesn't meet the criteria. It will use a generic GPU kernel as fallback when running on GPU.\n",
            "WARNING:tensorflow:Layer lstm_70 will not use cuDNN kernels since it doesn't meet the criteria. It will use a generic GPU kernel as fallback when running on GPU.\n",
            "WARNING:tensorflow:Layer lstm_71 will not use cuDNN kernels since it doesn't meet the criteria. It will use a generic GPU kernel as fallback when running on GPU.\n",
            "WARNING:tensorflow:Layer lstm_72 will not use cuDNN kernels since it doesn't meet the criteria. It will use a generic GPU kernel as fallback when running on GPU.\n",
            "WARNING:tensorflow:Layer lstm_73 will not use cuDNN kernels since it doesn't meet the criteria. It will use a generic GPU kernel as fallback when running on GPU.\n",
            "WARNING:tensorflow:Layer lstm_74 will not use cuDNN kernels since it doesn't meet the criteria. It will use a generic GPU kernel as fallback when running on GPU.\n",
            "WARNING:tensorflow:Layer lstm_75 will not use cuDNN kernels since it doesn't meet the criteria. It will use a generic GPU kernel as fallback when running on GPU.\n",
            "WARNING:tensorflow:Layer lstm_76 will not use cuDNN kernels since it doesn't meet the criteria. It will use a generic GPU kernel as fallback when running on GPU.\n",
            "WARNING:tensorflow:Layer lstm_77 will not use cuDNN kernels since it doesn't meet the criteria. It will use a generic GPU kernel as fallback when running on GPU.\n",
            "WARNING:tensorflow:Layer lstm_78 will not use cuDNN kernels since it doesn't meet the criteria. It will use a generic GPU kernel as fallback when running on GPU.\n",
            "WARNING:tensorflow:Layer lstm_79 will not use cuDNN kernels since it doesn't meet the criteria. It will use a generic GPU kernel as fallback when running on GPU.\n",
            "WARNING:tensorflow:Layer lstm_80 will not use cuDNN kernels since it doesn't meet the criteria. It will use a generic GPU kernel as fallback when running on GPU.\n",
            "WARNING:tensorflow:Layer lstm_81 will not use cuDNN kernels since it doesn't meet the criteria. It will use a generic GPU kernel as fallback when running on GPU.\n",
            "WARNING:tensorflow:Layer lstm_82 will not use cuDNN kernels since it doesn't meet the criteria. It will use a generic GPU kernel as fallback when running on GPU.\n",
            "WARNING:tensorflow:Layer lstm_83 will not use cuDNN kernels since it doesn't meet the criteria. It will use a generic GPU kernel as fallback when running on GPU.\n",
            "WARNING:tensorflow:Layer lstm_84 will not use cuDNN kernels since it doesn't meet the criteria. It will use a generic GPU kernel as fallback when running on GPU.\n",
            "WARNING:tensorflow:Layer lstm_85 will not use cuDNN kernels since it doesn't meet the criteria. It will use a generic GPU kernel as fallback when running on GPU.\n",
            "WARNING:tensorflow:Layer lstm_86 will not use cuDNN kernels since it doesn't meet the criteria. It will use a generic GPU kernel as fallback when running on GPU.\n",
            "WARNING:tensorflow:Layer lstm_87 will not use cuDNN kernels since it doesn't meet the criteria. It will use a generic GPU kernel as fallback when running on GPU.\n",
            "WARNING:tensorflow:Layer lstm_88 will not use cuDNN kernels since it doesn't meet the criteria. It will use a generic GPU kernel as fallback when running on GPU.\n",
            "WARNING:tensorflow:Layer lstm_89 will not use cuDNN kernels since it doesn't meet the criteria. It will use a generic GPU kernel as fallback when running on GPU.\n",
            "WARNING:tensorflow:Layer lstm_90 will not use cuDNN kernels since it doesn't meet the criteria. It will use a generic GPU kernel as fallback when running on GPU.\n",
            "WARNING:tensorflow:Layer lstm_91 will not use cuDNN kernels since it doesn't meet the criteria. It will use a generic GPU kernel as fallback when running on GPU.\n",
            "WARNING:tensorflow:Layer lstm_92 will not use cuDNN kernels since it doesn't meet the criteria. It will use a generic GPU kernel as fallback when running on GPU.\n",
            "WARNING:tensorflow:Layer lstm_93 will not use cuDNN kernels since it doesn't meet the criteria. It will use a generic GPU kernel as fallback when running on GPU.\n",
            "WARNING:tensorflow:Layer lstm_94 will not use cuDNN kernels since it doesn't meet the criteria. It will use a generic GPU kernel as fallback when running on GPU.\n",
            "WARNING:tensorflow:Layer lstm_95 will not use cuDNN kernels since it doesn't meet the criteria. It will use a generic GPU kernel as fallback when running on GPU.\n",
            "WARNING:tensorflow:Layer lstm_96 will not use cuDNN kernels since it doesn't meet the criteria. It will use a generic GPU kernel as fallback when running on GPU.\n",
            "WARNING:tensorflow:Layer lstm_97 will not use cuDNN kernels since it doesn't meet the criteria. It will use a generic GPU kernel as fallback when running on GPU.\n",
            "WARNING:tensorflow:Layer lstm_98 will not use cuDNN kernels since it doesn't meet the criteria. It will use a generic GPU kernel as fallback when running on GPU.\n",
            "WARNING:tensorflow:Layer lstm_99 will not use cuDNN kernels since it doesn't meet the criteria. It will use a generic GPU kernel as fallback when running on GPU.\n",
            "WARNING:tensorflow:Layer lstm_100 will not use cuDNN kernels since it doesn't meet the criteria. It will use a generic GPU kernel as fallback when running on GPU.\n",
            "WARNING:tensorflow:Layer lstm_101 will not use cuDNN kernels since it doesn't meet the criteria. It will use a generic GPU kernel as fallback when running on GPU.\n",
            "WARNING:tensorflow:Layer lstm_102 will not use cuDNN kernels since it doesn't meet the criteria. It will use a generic GPU kernel as fallback when running on GPU.\n",
            "WARNING:tensorflow:Layer lstm_103 will not use cuDNN kernels since it doesn't meet the criteria. It will use a generic GPU kernel as fallback when running on GPU.\n",
            "WARNING:tensorflow:Layer lstm_104 will not use cuDNN kernels since it doesn't meet the criteria. It will use a generic GPU kernel as fallback when running on GPU.\n",
            "WARNING:tensorflow:Layer lstm_105 will not use cuDNN kernels since it doesn't meet the criteria. It will use a generic GPU kernel as fallback when running on GPU.\n",
            "WARNING:tensorflow:Layer lstm_106 will not use cuDNN kernels since it doesn't meet the criteria. It will use a generic GPU kernel as fallback when running on GPU.\n",
            "WARNING:tensorflow:Layer lstm_107 will not use cuDNN kernels since it doesn't meet the criteria. It will use a generic GPU kernel as fallback when running on GPU.\n",
            "WARNING:tensorflow:Layer lstm_108 will not use cuDNN kernels since it doesn't meet the criteria. It will use a generic GPU kernel as fallback when running on GPU.\n",
            "WARNING:tensorflow:Layer lstm_109 will not use cuDNN kernels since it doesn't meet the criteria. It will use a generic GPU kernel as fallback when running on GPU.\n",
            "WARNING:tensorflow:Layer lstm_110 will not use cuDNN kernels since it doesn't meet the criteria. It will use a generic GPU kernel as fallback when running on GPU.\n",
            "WARNING:tensorflow:Layer lstm_111 will not use cuDNN kernels since it doesn't meet the criteria. It will use a generic GPU kernel as fallback when running on GPU.\n",
            "WARNING:tensorflow:Layer lstm_112 will not use cuDNN kernels since it doesn't meet the criteria. It will use a generic GPU kernel as fallback when running on GPU.\n",
            "WARNING:tensorflow:Layer lstm_113 will not use cuDNN kernels since it doesn't meet the criteria. It will use a generic GPU kernel as fallback when running on GPU.\n",
            "WARNING:tensorflow:Layer lstm_114 will not use cuDNN kernels since it doesn't meet the criteria. It will use a generic GPU kernel as fallback when running on GPU.\n",
            "WARNING:tensorflow:Layer lstm_115 will not use cuDNN kernels since it doesn't meet the criteria. It will use a generic GPU kernel as fallback when running on GPU.\n",
            "WARNING:tensorflow:Layer lstm_116 will not use cuDNN kernels since it doesn't meet the criteria. It will use a generic GPU kernel as fallback when running on GPU.\n",
            "WARNING:tensorflow:Layer lstm_117 will not use cuDNN kernels since it doesn't meet the criteria. It will use a generic GPU kernel as fallback when running on GPU.\n",
            "WARNING:tensorflow:Layer lstm_118 will not use cuDNN kernels since it doesn't meet the criteria. It will use a generic GPU kernel as fallback when running on GPU.\n",
            "WARNING:tensorflow:Layer lstm_119 will not use cuDNN kernels since it doesn't meet the criteria. It will use a generic GPU kernel as fallback when running on GPU.\n",
            "WARNING:tensorflow:Layer lstm_120 will not use cuDNN kernels since it doesn't meet the criteria. It will use a generic GPU kernel as fallback when running on GPU.\n",
            "WARNING:tensorflow:Layer lstm_121 will not use cuDNN kernels since it doesn't meet the criteria. It will use a generic GPU kernel as fallback when running on GPU.\n",
            "WARNING:tensorflow:Layer lstm_122 will not use cuDNN kernels since it doesn't meet the criteria. It will use a generic GPU kernel as fallback when running on GPU.\n",
            "WARNING:tensorflow:Layer lstm_123 will not use cuDNN kernels since it doesn't meet the criteria. It will use a generic GPU kernel as fallback when running on GPU.\n",
            "WARNING:tensorflow:Layer lstm_124 will not use cuDNN kernels since it doesn't meet the criteria. It will use a generic GPU kernel as fallback when running on GPU.\n",
            "WARNING:tensorflow:Layer lstm_125 will not use cuDNN kernels since it doesn't meet the criteria. It will use a generic GPU kernel as fallback when running on GPU.\n",
            "WARNING:tensorflow:Layer lstm_126 will not use cuDNN kernels since it doesn't meet the criteria. It will use a generic GPU kernel as fallback when running on GPU.\n",
            "WARNING:tensorflow:Layer lstm_127 will not use cuDNN kernels since it doesn't meet the criteria. It will use a generic GPU kernel as fallback when running on GPU.\n",
            "WARNING:tensorflow:Layer lstm_128 will not use cuDNN kernels since it doesn't meet the criteria. It will use a generic GPU kernel as fallback when running on GPU.\n",
            "WARNING:tensorflow:Layer lstm_129 will not use cuDNN kernels since it doesn't meet the criteria. It will use a generic GPU kernel as fallback when running on GPU.\n",
            "WARNING:tensorflow:Layer lstm_130 will not use cuDNN kernels since it doesn't meet the criteria. It will use a generic GPU kernel as fallback when running on GPU.\n",
            "WARNING:tensorflow:Layer lstm_131 will not use cuDNN kernels since it doesn't meet the criteria. It will use a generic GPU kernel as fallback when running on GPU.\n",
            "WARNING:tensorflow:Layer lstm_132 will not use cuDNN kernels since it doesn't meet the criteria. It will use a generic GPU kernel as fallback when running on GPU.\n",
            "WARNING:tensorflow:Layer lstm_133 will not use cuDNN kernels since it doesn't meet the criteria. It will use a generic GPU kernel as fallback when running on GPU.\n",
            "WARNING:tensorflow:Layer lstm_134 will not use cuDNN kernels since it doesn't meet the criteria. It will use a generic GPU kernel as fallback when running on GPU.\n",
            "WARNING:tensorflow:Layer lstm_135 will not use cuDNN kernels since it doesn't meet the criteria. It will use a generic GPU kernel as fallback when running on GPU.\n",
            "WARNING:tensorflow:Layer lstm_136 will not use cuDNN kernels since it doesn't meet the criteria. It will use a generic GPU kernel as fallback when running on GPU.\n",
            "WARNING:tensorflow:Layer lstm_137 will not use cuDNN kernels since it doesn't meet the criteria. It will use a generic GPU kernel as fallback when running on GPU.\n",
            "WARNING:tensorflow:Layer lstm_138 will not use cuDNN kernels since it doesn't meet the criteria. It will use a generic GPU kernel as fallback when running on GPU.\n",
            "WARNING:tensorflow:Layer lstm_139 will not use cuDNN kernels since it doesn't meet the criteria. It will use a generic GPU kernel as fallback when running on GPU.\n",
            "WARNING:tensorflow:Layer lstm_140 will not use cuDNN kernels since it doesn't meet the criteria. It will use a generic GPU kernel as fallback when running on GPU.\n",
            "WARNING:tensorflow:Layer lstm_141 will not use cuDNN kernels since it doesn't meet the criteria. It will use a generic GPU kernel as fallback when running on GPU.\n",
            "WARNING:tensorflow:Layer lstm_142 will not use cuDNN kernels since it doesn't meet the criteria. It will use a generic GPU kernel as fallback when running on GPU.\n",
            "WARNING:tensorflow:Layer lstm_143 will not use cuDNN kernels since it doesn't meet the criteria. It will use a generic GPU kernel as fallback when running on GPU.\n",
            "WARNING:tensorflow:Layer lstm_144 will not use cuDNN kernels since it doesn't meet the criteria. It will use a generic GPU kernel as fallback when running on GPU.\n",
            "WARNING:tensorflow:Layer lstm_145 will not use cuDNN kernels since it doesn't meet the criteria. It will use a generic GPU kernel as fallback when running on GPU.\n",
            "WARNING:tensorflow:Layer lstm_146 will not use cuDNN kernels since it doesn't meet the criteria. It will use a generic GPU kernel as fallback when running on GPU.\n",
            "WARNING:tensorflow:Layer lstm_147 will not use cuDNN kernels since it doesn't meet the criteria. It will use a generic GPU kernel as fallback when running on GPU.\n",
            "WARNING:tensorflow:Layer lstm_148 will not use cuDNN kernels since it doesn't meet the criteria. It will use a generic GPU kernel as fallback when running on GPU.\n",
            "WARNING:tensorflow:Layer lstm_149 will not use cuDNN kernels since it doesn't meet the criteria. It will use a generic GPU kernel as fallback when running on GPU.\n",
            "WARNING:tensorflow:Layer lstm_150 will not use cuDNN kernels since it doesn't meet the criteria. It will use a generic GPU kernel as fallback when running on GPU.\n",
            "WARNING:tensorflow:Layer lstm_151 will not use cuDNN kernels since it doesn't meet the criteria. It will use a generic GPU kernel as fallback when running on GPU.\n",
            "WARNING:tensorflow:Layer lstm_152 will not use cuDNN kernels since it doesn't meet the criteria. It will use a generic GPU kernel as fallback when running on GPU.\n",
            "WARNING:tensorflow:Layer lstm_153 will not use cuDNN kernels since it doesn't meet the criteria. It will use a generic GPU kernel as fallback when running on GPU.\n",
            "WARNING:tensorflow:Layer lstm_154 will not use cuDNN kernels since it doesn't meet the criteria. It will use a generic GPU kernel as fallback when running on GPU.\n",
            "WARNING:tensorflow:Layer lstm_155 will not use cuDNN kernels since it doesn't meet the criteria. It will use a generic GPU kernel as fallback when running on GPU.\n",
            "WARNING:tensorflow:Layer lstm_156 will not use cuDNN kernels since it doesn't meet the criteria. It will use a generic GPU kernel as fallback when running on GPU.\n",
            "WARNING:tensorflow:Layer lstm_157 will not use cuDNN kernels since it doesn't meet the criteria. It will use a generic GPU kernel as fallback when running on GPU.\n",
            "WARNING:tensorflow:Layer lstm_158 will not use cuDNN kernels since it doesn't meet the criteria. It will use a generic GPU kernel as fallback when running on GPU.\n",
            "WARNING:tensorflow:Layer lstm_159 will not use cuDNN kernels since it doesn't meet the criteria. It will use a generic GPU kernel as fallback when running on GPU.\n",
            "WARNING:tensorflow:Layer lstm_160 will not use cuDNN kernels since it doesn't meet the criteria. It will use a generic GPU kernel as fallback when running on GPU.\n",
            "WARNING:tensorflow:Layer lstm_161 will not use cuDNN kernels since it doesn't meet the criteria. It will use a generic GPU kernel as fallback when running on GPU.\n",
            "WARNING:tensorflow:Layer lstm_162 will not use cuDNN kernels since it doesn't meet the criteria. It will use a generic GPU kernel as fallback when running on GPU.\n",
            "WARNING:tensorflow:Layer lstm_163 will not use cuDNN kernels since it doesn't meet the criteria. It will use a generic GPU kernel as fallback when running on GPU.\n",
            "WARNING:tensorflow:Layer lstm_164 will not use cuDNN kernels since it doesn't meet the criteria. It will use a generic GPU kernel as fallback when running on GPU.\n",
            "WARNING:tensorflow:Layer lstm_165 will not use cuDNN kernels since it doesn't meet the criteria. It will use a generic GPU kernel as fallback when running on GPU.\n",
            "WARNING:tensorflow:Layer lstm_166 will not use cuDNN kernels since it doesn't meet the criteria. It will use a generic GPU kernel as fallback when running on GPU.\n",
            "WARNING:tensorflow:Layer lstm_167 will not use cuDNN kernels since it doesn't meet the criteria. It will use a generic GPU kernel as fallback when running on GPU.\n",
            "WARNING:tensorflow:Layer lstm_168 will not use cuDNN kernels since it doesn't meet the criteria. It will use a generic GPU kernel as fallback when running on GPU.\n",
            "WARNING:tensorflow:Layer lstm_169 will not use cuDNN kernels since it doesn't meet the criteria. It will use a generic GPU kernel as fallback when running on GPU.\n",
            "WARNING:tensorflow:Layer lstm_170 will not use cuDNN kernels since it doesn't meet the criteria. It will use a generic GPU kernel as fallback when running on GPU.\n",
            "WARNING:tensorflow:Layer lstm_171 will not use cuDNN kernels since it doesn't meet the criteria. It will use a generic GPU kernel as fallback when running on GPU.\n",
            "WARNING:tensorflow:Layer lstm_172 will not use cuDNN kernels since it doesn't meet the criteria. It will use a generic GPU kernel as fallback when running on GPU.\n",
            "WARNING:tensorflow:Layer lstm_173 will not use cuDNN kernels since it doesn't meet the criteria. It will use a generic GPU kernel as fallback when running on GPU.\n",
            "WARNING:tensorflow:Layer lstm_174 will not use cuDNN kernels since it doesn't meet the criteria. It will use a generic GPU kernel as fallback when running on GPU.\n",
            "WARNING:tensorflow:Layer lstm_175 will not use cuDNN kernels since it doesn't meet the criteria. It will use a generic GPU kernel as fallback when running on GPU.\n",
            "WARNING:tensorflow:Layer lstm_176 will not use cuDNN kernels since it doesn't meet the criteria. It will use a generic GPU kernel as fallback when running on GPU.\n",
            "WARNING:tensorflow:Layer lstm_177 will not use cuDNN kernels since it doesn't meet the criteria. It will use a generic GPU kernel as fallback when running on GPU.\n",
            "WARNING:tensorflow:Layer lstm_178 will not use cuDNN kernels since it doesn't meet the criteria. It will use a generic GPU kernel as fallback when running on GPU.\n",
            "WARNING:tensorflow:Layer lstm_179 will not use cuDNN kernels since it doesn't meet the criteria. It will use a generic GPU kernel as fallback when running on GPU.\n",
            "WARNING:tensorflow:Layer lstm_180 will not use cuDNN kernels since it doesn't meet the criteria. It will use a generic GPU kernel as fallback when running on GPU.\n",
            "WARNING:tensorflow:Layer lstm_181 will not use cuDNN kernels since it doesn't meet the criteria. It will use a generic GPU kernel as fallback when running on GPU.\n",
            "WARNING:tensorflow:Layer lstm_182 will not use cuDNN kernels since it doesn't meet the criteria. It will use a generic GPU kernel as fallback when running on GPU.\n",
            "WARNING:tensorflow:Layer lstm_183 will not use cuDNN kernels since it doesn't meet the criteria. It will use a generic GPU kernel as fallback when running on GPU.\n",
            "WARNING:tensorflow:Layer lstm_184 will not use cuDNN kernels since it doesn't meet the criteria. It will use a generic GPU kernel as fallback when running on GPU.\n",
            "WARNING:tensorflow:Layer lstm_185 will not use cuDNN kernels since it doesn't meet the criteria. It will use a generic GPU kernel as fallback when running on GPU.\n",
            "WARNING:tensorflow:Layer lstm_186 will not use cuDNN kernels since it doesn't meet the criteria. It will use a generic GPU kernel as fallback when running on GPU.\n",
            "WARNING:tensorflow:Layer lstm_187 will not use cuDNN kernels since it doesn't meet the criteria. It will use a generic GPU kernel as fallback when running on GPU.\n"
          ],
          "name": "stdout"
        },
        {
          "output_type": "stream",
          "text": [
            "Exception ignored in: <function IteratorResourceDeleter.__del__ at 0x7f98abd77e60>\n",
            "Traceback (most recent call last):\n",
            "  File \"/usr/local/lib/python3.7/dist-packages/tensorflow/python/data/ops/iterator_ops.py\", line 546, in __del__\n",
            "    handle=self._handle, deleter=self._deleter)\n",
            "  File \"/usr/local/lib/python3.7/dist-packages/tensorflow/python/ops/gen_dataset_ops.py\", line 1264, in delete_iterator\n",
            "    _ctx, \"DeleteIterator\", name, handle, deleter)\n",
            "KeyboardInterrupt: \n"
          ],
          "name": "stderr"
        },
        {
          "output_type": "stream",
          "text": [
            "WARNING:tensorflow:Layer lstm_188 will not use cuDNN kernels since it doesn't meet the criteria. It will use a generic GPU kernel as fallback when running on GPU.\n",
            "WARNING:tensorflow:Layer lstm_189 will not use cuDNN kernels since it doesn't meet the criteria. It will use a generic GPU kernel as fallback when running on GPU.\n",
            "WARNING:tensorflow:Layer lstm_190 will not use cuDNN kernels since it doesn't meet the criteria. It will use a generic GPU kernel as fallback when running on GPU.\n",
            "WARNING:tensorflow:Layer lstm_191 will not use cuDNN kernels since it doesn't meet the criteria. It will use a generic GPU kernel as fallback when running on GPU.\n"
          ],
          "name": "stdout"
        }
      ]
    },
    {
      "cell_type": "markdown",
      "metadata": {
        "heading_collapsed": true,
        "id": "FQv7UnTT6kP5"
      },
      "source": [
        "## caso many to one\n"
      ]
    },
    {
      "cell_type": "code",
      "metadata": {
        "ExecuteTime": {
          "end_time": "2021-07-29T21:10:27.066865Z",
          "start_time": "2021-07-29T21:10:27.050902Z"
        },
        "hidden": true,
        "id": "5rLw_xnx97-J"
      },
      "source": [
        "X_train= data[143][0]\n",
        "Y_train= data[143][1]\n",
        "Y_test= data[143][2]"
      ],
      "execution_count": null,
      "outputs": []
    },
    {
      "cell_type": "code",
      "metadata": {
        "ExecuteTime": {
          "end_time": "2021-07-29T16:18:08.223335Z",
          "start_time": "2021-07-29T16:18:08.204328Z"
        },
        "colab": {
          "base_uri": "https://localhost:8080/"
        },
        "hidden": true,
        "id": "HWVsff55_Ecv",
        "outputId": "8e3bc4af-00a1-4719-b0f7-a544b5b4463c"
      },
      "source": [
        "Y_train.shape"
      ],
      "execution_count": null,
      "outputs": [
        {
          "output_type": "execute_result",
          "data": {
            "text/plain": [
              "(346, 1)"
            ]
          },
          "metadata": {
            "tags": []
          },
          "execution_count": 81
        }
      ]
    },
    {
      "cell_type": "code",
      "metadata": {
        "ExecuteTime": {
          "end_time": "2021-07-29T21:10:29.654364Z",
          "start_time": "2021-07-29T21:10:29.634356Z"
        },
        "hidden": true,
        "id": "a9ag_RJB6nd5"
      },
      "source": [
        "def biLSTM(X_traingo,Y_test,X_test,n_feautures=1):\n",
        "  # define model\n",
        "  model = Sequential()\n",
        "  #enconder\n",
        "  model.add(Bidirectional(LSTM(100, activation='relu',dropout=0.2, recurrent_dropout=0.2, activity_regularizer=tf.keras.regularizers.l1(0.01),\n",
        "                kernel_initializer=tf.keras.initializers.GlorotNormal(seed=None),input_shape=(X_train.shape[1], n_feautures) )))\n",
        "  model.add(BatchNormalization())\n",
        "  model.add(Dense(Y_train.shape[1])) #n_output\n",
        "\n",
        "  model.compile(optimizer='adam', loss='mean_absolute_error',metrics=[\"mse\"])\n",
        "\n",
        "  my_callbacks = [History(), EarlyStopping(patience=3, monitor=\"val_loss\",restore_best_weights=True)]\n",
        "  model.fit(X_train, Y_train, epochs=300, verbose=0,batch_size=64, validation_split=0.2, callbacks= my_callbacks)\n",
        "\n",
        "  x_input = X_test.reshape((1, X_train.shape[1], 1))\n",
        "  ypred = model.predict(x_input, verbose=0)\n",
        "  y_pred= np.round(ypred[0],1)\n",
        "  return y_pred"
      ],
      "execution_count": null,
      "outputs": []
    },
    {
      "cell_type": "code",
      "metadata": {
        "ExecuteTime": {
          "end_time": "2021-07-29T21:11:18.987330Z",
          "start_time": "2021-07-29T21:10:31.946071Z"
        },
        "colab": {
          "base_uri": "https://localhost:8080/"
        },
        "hidden": true,
        "id": "LJDNtmbt_Vd5",
        "scrolled": false,
        "outputId": "5cd78115-743e-414b-e16f-7a9dfd561989"
      },
      "source": [
        "y_pred = biLSTM(X_train,Y_test,X_test)\n",
        "mean_squared_error(list(Y_test), y_pred)"
      ],
      "execution_count": null,
      "outputs": [
        {
          "output_type": "stream",
          "text": [
            "WARNING:tensorflow:11 out of the last 11 calls to <function Model.make_predict_function.<locals>.predict_function at 0x0000010A160CCC18> triggered tf.function retracing. Tracing is expensive and the excessive number of tracings could be due to (1) creating @tf.function repeatedly in a loop, (2) passing tensors with different shapes, (3) passing Python objects instead of tensors. For (1), please define your @tf.function outside of the loop. For (2), @tf.function has experimental_relax_shapes=True option that relaxes argument shapes that can avoid unnecessary retracing. For (3), please refer to https://www.tensorflow.org/tutorials/customization/performance#python_or_tensor_args and https://www.tensorflow.org/api_docs/python/tf/function for  more details.\n"
          ],
          "name": "stdout"
        },
        {
          "output_type": "execute_result",
          "data": {
            "text/plain": [
              "0.24999990463257782"
            ]
          },
          "metadata": {
            "tags": []
          },
          "execution_count": 123
        }
      ]
    },
    {
      "cell_type": "code",
      "metadata": {
        "ExecuteTime": {
          "end_time": "2021-07-29T21:11:25.091941Z",
          "start_time": "2021-07-29T21:11:25.082944Z"
        },
        "hidden": true,
        "id": "u-OQCph5p7Vv",
        "outputId": "b148259f-47b4-4300-ec08-087596ae9eb4"
      },
      "source": [
        "y_pred[0]"
      ],
      "execution_count": null,
      "outputs": [
        {
          "output_type": "execute_result",
          "data": {
            "text/plain": [
              "6.1"
            ]
          },
          "metadata": {
            "tags": []
          },
          "execution_count": 124
        }
      ]
    },
    {
      "cell_type": "code",
      "metadata": {
        "colab": {
          "base_uri": "https://localhost:8080/"
        },
        "hidden": true,
        "id": "NEK3xvchAho_",
        "outputId": "eb055509-bb23-43ac-f00e-64cc710c48ab"
      },
      "source": [
        "largo_seq_predecir[largo_seq_predecir>5]"
      ],
      "execution_count": null,
      "outputs": [
        {
          "output_type": "execute_result",
          "data": {
            "text/plain": [
              "2015-06-28    29\n",
              "2015-07-20    27\n",
              "2015-06-15    27\n",
              "2015-08-02    26\n",
              "2015-05-28    25\n",
              "              ..\n",
              "2015-08-06     8\n",
              "2015-08-21     7\n",
              "2015-08-16     7\n",
              "2015-08-18     6\n",
              "2015-08-24     6\n",
              "Length: 117, dtype: int64"
            ]
          },
          "metadata": {
            "tags": []
          },
          "execution_count": 79
        }
      ]
    },
    {
      "cell_type": "code",
      "metadata": {
        "hidden": true,
        "id": "E-XVpyoYAiew"
      },
      "source": [
        "largo_seq_predecir[]"
      ],
      "execution_count": null,
      "outputs": []
    },
    {
      "cell_type": "markdown",
      "metadata": {
        "id": "vZJNT_Mizain"
      },
      "source": [
        "# Test"
      ]
    },
    {
      "cell_type": "code",
      "metadata": {
        "ExecuteTime": {
          "end_time": "2021-07-29T16:23:25.537403Z",
          "start_time": "2021-07-29T16:23:25.268508Z"
        },
        "id": "M-ciZbA5zo_7"
      },
      "source": [
        "horas_antes= 6*6 #6 horas\n",
        "velocidad=list(train.Velocidad)\n",
        "train[\"Fecha\"] =  pd.to_datetime(train[\"Fecha\"], format='%Y-%m-%d %H:%M')\n",
        "\n",
        "dias_train_=train.Fecha.dt.date.unique()\n",
        "str_fechas_entrenamiento= [str(x) for x in train.Fecha]\n"
      ],
      "execution_count": null,
      "outputs": []
    },
    {
      "cell_type": "code",
      "metadata": {
        "ExecuteTime": {
          "end_time": "2021-07-29T16:23:31.387898Z",
          "start_time": "2021-07-29T16:23:31.379852Z"
        },
        "id": "KaMG0bTZ0NvB"
      },
      "source": [
        "X_test=np.array(velocidad[-horas_antes:]).reshape(1,horas_antes)"
      ],
      "execution_count": null,
      "outputs": []
    },
    {
      "cell_type": "code",
      "metadata": {
        "colab": {
          "base_uri": "https://localhost:8080/",
          "height": 422
        },
        "id": "iIvwnFRJthav",
        "outputId": "b2359cf6-5529-44f8-d22c-423d48028b02"
      },
      "source": [
        "test"
      ],
      "execution_count": null,
      "outputs": [
        {
          "output_type": "execute_result",
          "data": {
            "text/html": [
              "<div>\n",
              "<style scoped>\n",
              "    .dataframe tbody tr th:only-of-type {\n",
              "        vertical-align: middle;\n",
              "    }\n",
              "\n",
              "    .dataframe tbody tr th {\n",
              "        vertical-align: top;\n",
              "    }\n",
              "\n",
              "    .dataframe thead th {\n",
              "        text-align: right;\n",
              "    }\n",
              "</style>\n",
              "<table border=\"1\" class=\"dataframe\">\n",
              "  <thead>\n",
              "    <tr style=\"text-align: right;\">\n",
              "      <th></th>\n",
              "      <th>26-04-2015 01:50</th>\n",
              "    </tr>\n",
              "  </thead>\n",
              "  <tbody>\n",
              "    <tr>\n",
              "      <th>0</th>\n",
              "      <td>26-04-2015 03:10</td>\n",
              "    </tr>\n",
              "    <tr>\n",
              "      <th>1</th>\n",
              "      <td>26-04-2015 04:20</td>\n",
              "    </tr>\n",
              "    <tr>\n",
              "      <th>2</th>\n",
              "      <td>26-04-2015 05:20</td>\n",
              "    </tr>\n",
              "    <tr>\n",
              "      <th>3</th>\n",
              "      <td>26-04-2015 06:40</td>\n",
              "    </tr>\n",
              "    <tr>\n",
              "      <th>4</th>\n",
              "      <td>26-04-2015 10:30</td>\n",
              "    </tr>\n",
              "    <tr>\n",
              "      <th>...</th>\n",
              "      <td>...</td>\n",
              "    </tr>\n",
              "    <tr>\n",
              "      <th>1994</th>\n",
              "      <td>19-09-2015 08:10</td>\n",
              "    </tr>\n",
              "    <tr>\n",
              "      <th>1995</th>\n",
              "      <td>21-09-2015 11:20</td>\n",
              "    </tr>\n",
              "    <tr>\n",
              "      <th>1996</th>\n",
              "      <td>22-09-2015 10:30</td>\n",
              "    </tr>\n",
              "    <tr>\n",
              "      <th>1997</th>\n",
              "      <td>23-09-2015 17:30</td>\n",
              "    </tr>\n",
              "    <tr>\n",
              "      <th>1998</th>\n",
              "      <td>24-09-2015 00:10</td>\n",
              "    </tr>\n",
              "  </tbody>\n",
              "</table>\n",
              "<p>1999 rows × 1 columns</p>\n",
              "</div>"
            ],
            "text/plain": [
              "      26-04-2015 01:50\n",
              "0     26-04-2015 03:10\n",
              "1     26-04-2015 04:20\n",
              "2     26-04-2015 05:20\n",
              "3     26-04-2015 06:40\n",
              "4     26-04-2015 10:30\n",
              "...                ...\n",
              "1994  19-09-2015 08:10\n",
              "1995  21-09-2015 11:20\n",
              "1996  22-09-2015 10:30\n",
              "1997  23-09-2015 17:30\n",
              "1998  24-09-2015 00:10\n",
              "\n",
              "[1999 rows x 1 columns]"
            ]
          },
          "metadata": {
            "tags": []
          },
          "execution_count": 12
        }
      ]
    },
    {
      "cell_type": "code",
      "metadata": {
        "ExecuteTime": {
          "end_time": "2021-07-29T16:23:35.457439Z",
          "start_time": "2021-07-29T16:23:35.444441Z"
        },
        "id": "flD17dudtfB0"
      },
      "source": [
        "fin_entrenamiento=datetime.strptime(\"26-04-2015\", '%d-%m-%Y').date()"
      ],
      "execution_count": null,
      "outputs": []
    },
    {
      "cell_type": "code",
      "metadata": {
        "ExecuteTime": {
          "end_time": "2021-07-29T17:19:26.170368Z",
          "start_time": "2021-07-29T16:24:00.499861Z"
        },
        "id": "VW7ZiMrT0OJD"
      },
      "source": [
        "Todos_los_X_Y_completo=[]\n",
        "for i in range(largo_seq_predecir.shape[0]): #cada uno de los dias a predecir\n",
        "  largo_pred= largo_seq_predecir[i]\n",
        "  fecha_pred= largo_seq_predecir.index[i]\n",
        "  dia_pred= fecha_pred.strftime(\"%Y-%m-%d\")\n",
        "  dia_sig=(fecha_pred +timedelta(days=1)).strftime(\"%Y-%m-%d\")\n",
        "  Y_test=l[(l>= dia_pred)&(l< dia_sig)]\n",
        "  delta=(datetime.strptime(dia_pred, '%Y-%m-%d').date()-fin_entrenamiento).days\n",
        "  horario_exacto=[]\n",
        "  for dia in Y_test:\n",
        "    horario_exacto.append(str(dia).split(\" \")[1].split(\":\")[0]+\":\"+str(dia).split(\" \")[1].split(\":\")[1])\n",
        "\n",
        "  X_train,Y_train= generador_train_completo(largo_pred)\n",
        "  \n",
        "  Todos_los_X_Y_completo.append((X_train,Y_train))"
      ],
      "execution_count": null,
      "outputs": []
    },
    {
      "cell_type": "code",
      "metadata": {
        "ExecuteTime": {
          "end_time": "2021-07-29T16:23:49.903039Z",
          "start_time": "2021-07-29T16:23:49.884036Z"
        },
        "id": "a5V3GTuz1czl"
      },
      "source": [
        "def generador_train_completo( largo_pred):\n",
        "  i=0\n",
        "  for d in dias_train_[1:]: #no tomo el primero\n",
        "    y=[]\n",
        "    for h in horario_exacto:\n",
        "      consulta_y=str(d)+ \" \"+ h+\":00\"\n",
        "      if consulta_y in str_fechas_entrenamiento:\n",
        "        y.append(train[train[\"Fecha\"]== str(d)+ \" \"+ h].Velocidad.values[0])\n",
        "      else: \n",
        "        break \n",
        "    primer_y=train[train[\"Fecha\"]==str(d)+ \" \"+ horario_exacto[0]].index[0]\n",
        "    if len(y)==largo_pred and primer_y>horas_antes+120+delta*144:\n",
        "      x=np.array(velocidad[primer_y-horas_antes-120-delta*144:primer_y-120-delta*144]).reshape(1,horas_antes)\n",
        "      y= np.array(y).reshape(1,largo_pred)\n",
        "      if i==0:\n",
        "          i+=1\n",
        "          X = x\n",
        "          Y = y\n",
        "      else:\n",
        "          X = np.vstack((X,x))\n",
        "          Y = np.vstack((Y,y))\n",
        "    else:\n",
        "      pass\n",
        "  return X.reshape(X.shape[0], X.shape[1], 1), Y"
      ],
      "execution_count": null,
      "outputs": []
    },
    {
      "cell_type": "code",
      "metadata": {
        "ExecuteTime": {
          "end_time": "2021-07-29T17:19:41.908432Z",
          "start_time": "2021-07-29T17:19:41.889436Z"
        },
        "colab": {
          "base_uri": "https://localhost:8080/"
        },
        "id": "0ylYfeOnSqCO",
        "outputId": "92a92f8d-781b-4622-9ebe-b4ef79d4e281"
      },
      "source": [
        "np.array(Todos_los_X_Y_completo)[0][0].shape"
      ],
      "execution_count": null,
      "outputs": [
        {
          "output_type": "execute_result",
          "data": {
            "text/plain": [
              "(792, 36, 1)"
            ]
          },
          "metadata": {
            "tags": []
          },
          "execution_count": 109
        }
      ]
    },
    {
      "cell_type": "code",
      "metadata": {
        "ExecuteTime": {
          "end_time": "2021-07-29T17:19:39.779309Z",
          "start_time": "2021-07-29T17:19:39.722037Z"
        },
        "id": "nxW74X-bSpSx"
      },
      "source": [
        "save('train_completo.npy',np.array(Todos_los_X_Y_completo))"
      ],
      "execution_count": null,
      "outputs": []
    },
    {
      "cell_type": "code",
      "metadata": {
        "id": "sq8dUtvzSYpl"
      },
      "source": [
        "Todos_los_X_Y_completo = np.load(path+\"velocidad-viento/train_completo.npy\",allow_pickle=True)"
      ],
      "execution_count": null,
      "outputs": []
    },
    {
      "cell_type": "code",
      "metadata": {
        "colab": {
          "base_uri": "https://localhost:8080/"
        },
        "id": "IG9i93ENTWoo",
        "outputId": "7590edd4-259b-479a-f34d-22637ce4e618"
      },
      "source": [
        "Todos_los_X_Y_completo[145][1].shape"
      ],
      "execution_count": null,
      "outputs": [
        {
          "output_type": "execute_result",
          "data": {
            "text/plain": [
              "(711, 1)"
            ]
          },
          "metadata": {
            "tags": []
          },
          "execution_count": 22
        }
      ]
    },
    {
      "cell_type": "markdown",
      "metadata": {
        "id": "zU6kB8y4mRIy"
      },
      "source": [
        "## Evaluación"
      ]
    },
    {
      "cell_type": "code",
      "metadata": {
        "ExecuteTime": {
          "end_time": "2021-07-29T21:27:14.293426Z",
          "start_time": "2021-07-29T21:27:14.265425Z"
        },
        "id": "smbxFHOq7-OV",
        "outputId": "3a9498b6-5005-4b9e-d79d-4fe2d2b6edd3"
      },
      "source": [
        "ejemplo= pd.read_csv(path+'velocidad-viento/sampleSubmission.csv')"
      ],
      "execution_count": null,
      "outputs": [
        {
          "output_type": "error",
          "ename": "NameError",
          "evalue": "name 'path' is not defined",
          "traceback": [
            "\u001b[1;31m---------------------------------------------------------------------------\u001b[0m",
            "\u001b[1;31mNameError\u001b[0m                                 Traceback (most recent call last)",
            "\u001b[1;32m<ipython-input-149-7265154b4d1d>\u001b[0m in \u001b[0;36m<module>\u001b[1;34m\u001b[0m\n\u001b[1;32m----> 1\u001b[1;33m \u001b[0mejemplo\u001b[0m\u001b[1;33m=\u001b[0m \u001b[0mpd\u001b[0m\u001b[1;33m.\u001b[0m\u001b[0mread_csv\u001b[0m\u001b[1;33m(\u001b[0m\u001b[0mpath\u001b[0m\u001b[1;33m+\u001b[0m\u001b[1;34m'velocidad-viento/sampleSubmission.csv'\u001b[0m\u001b[1;33m)\u001b[0m\u001b[1;33m\u001b[0m\u001b[1;33m\u001b[0m\u001b[0m\n\u001b[0m",
            "\u001b[1;31mNameError\u001b[0m: name 'path' is not defined"
          ]
        }
      ]
    },
    {
      "cell_type": "code",
      "metadata": {
        "ExecuteTime": {
          "end_time": "2021-07-29T21:27:17.113526Z",
          "start_time": "2021-07-29T21:27:17.097560Z"
        },
        "id": "d6hH3B5np7Vw"
      },
      "source": [
        "ejemplo= pd.read_csv('velocidad-viento/sampleSubmission.csv')"
      ],
      "execution_count": null,
      "outputs": []
    },
    {
      "cell_type": "code",
      "metadata": {
        "ExecuteTime": {
          "end_time": "2021-07-29T21:24:11.507847Z",
          "start_time": "2021-07-29T21:24:11.486889Z"
        },
        "colab": {
          "base_uri": "https://localhost:8080/",
          "height": 422
        },
        "id": "WeWd-yjv8n0b",
        "outputId": "9eb39e7a-a45b-4a48-edb5-b0fa51a6af0e"
      },
      "source": [
        "ejemplo[ejemplo.columns[1]]"
      ],
      "execution_count": null,
      "outputs": [
        {
          "output_type": "execute_result",
          "data": {
            "text/html": [
              "<div>\n",
              "<style scoped>\n",
              "    .dataframe tbody tr th:only-of-type {\n",
              "        vertical-align: middle;\n",
              "    }\n",
              "\n",
              "    .dataframe tbody tr th {\n",
              "        vertical-align: top;\n",
              "    }\n",
              "\n",
              "    .dataframe thead th {\n",
              "        text-align: right;\n",
              "    }\n",
              "</style>\n",
              "<table border=\"1\" class=\"dataframe\">\n",
              "  <thead>\n",
              "    <tr style=\"text-align: right;\">\n",
              "      <th></th>\n",
              "      <th>'Fecha'</th>\n",
              "      <th>'Velocidad de viento en 20.0 metros [mean]'</th>\n",
              "    </tr>\n",
              "  </thead>\n",
              "  <tbody>\n",
              "    <tr>\n",
              "      <th>0</th>\n",
              "      <td>26-04-2015 01:50</td>\n",
              "      <td>5</td>\n",
              "    </tr>\n",
              "    <tr>\n",
              "      <th>1</th>\n",
              "      <td>26-04-2015 03:10</td>\n",
              "      <td>5</td>\n",
              "    </tr>\n",
              "    <tr>\n",
              "      <th>2</th>\n",
              "      <td>26-04-2015 04:20</td>\n",
              "      <td>4</td>\n",
              "    </tr>\n",
              "    <tr>\n",
              "      <th>3</th>\n",
              "      <td>26-04-2015 05:20</td>\n",
              "      <td>3</td>\n",
              "    </tr>\n",
              "    <tr>\n",
              "      <th>4</th>\n",
              "      <td>26-04-2015 06:40</td>\n",
              "      <td>3</td>\n",
              "    </tr>\n",
              "    <tr>\n",
              "      <th>...</th>\n",
              "      <td>...</td>\n",
              "      <td>...</td>\n",
              "    </tr>\n",
              "    <tr>\n",
              "      <th>1995</th>\n",
              "      <td>19-09-2015 08:10</td>\n",
              "      <td>1</td>\n",
              "    </tr>\n",
              "    <tr>\n",
              "      <th>1996</th>\n",
              "      <td>21-09-2015 11:20</td>\n",
              "      <td>4</td>\n",
              "    </tr>\n",
              "    <tr>\n",
              "      <th>1997</th>\n",
              "      <td>22-09-2015 10:30</td>\n",
              "      <td>3</td>\n",
              "    </tr>\n",
              "    <tr>\n",
              "      <th>1998</th>\n",
              "      <td>23-09-2015 17:30</td>\n",
              "      <td>11</td>\n",
              "    </tr>\n",
              "    <tr>\n",
              "      <th>1999</th>\n",
              "      <td>24-09-2015 00:10</td>\n",
              "      <td>6</td>\n",
              "    </tr>\n",
              "  </tbody>\n",
              "</table>\n",
              "<p>2000 rows × 2 columns</p>\n",
              "</div>"
            ],
            "text/plain": [
              "               'Fecha'  'Velocidad de viento en 20.0 metros [mean]'\n",
              "0     26-04-2015 01:50                                            5\n",
              "1     26-04-2015 03:10                                            5\n",
              "2     26-04-2015 04:20                                            4\n",
              "3     26-04-2015 05:20                                            3\n",
              "4     26-04-2015 06:40                                            3\n",
              "...                ...                                          ...\n",
              "1995  19-09-2015 08:10                                            1\n",
              "1996  21-09-2015 11:20                                            4\n",
              "1997  22-09-2015 10:30                                            3\n",
              "1998  23-09-2015 17:30                                           11\n",
              "1999  24-09-2015 00:10                                            6\n",
              "\n",
              "[2000 rows x 2 columns]"
            ]
          },
          "metadata": {
            "tags": []
          },
          "execution_count": 148
        }
      ]
    },
    {
      "cell_type": "code",
      "metadata": {
        "colab": {
          "base_uri": "https://localhost:8080/"
        },
        "id": "At-WLzwV-i3U",
        "outputId": "d6f71810-b54a-47b5-c853-2ab37873a410"
      },
      "source": [
        "l_"
      ],
      "execution_count": null,
      "outputs": [
        {
          "output_type": "execute_result",
          "data": {
            "text/plain": [
              "0       26-04-2015 01:50\n",
              "1       26-04-2015 03:10\n",
              "2       26-04-2015 04:20\n",
              "3       26-04-2015 05:20\n",
              "4       26-04-2015 06:40\n",
              "              ...       \n",
              "1995    19-09-2015 08:10\n",
              "1996    21-09-2015 11:20\n",
              "1997    22-09-2015 10:30\n",
              "1998    23-09-2015 17:30\n",
              "1999    24-09-2015 00:10\n",
              "Length: 2000, dtype: object"
            ]
          },
          "metadata": {
            "tags": []
          },
          "execution_count": 198
        }
      ]
    },
    {
      "cell_type": "code",
      "metadata": {
        "ExecuteTime": {
          "end_time": "2021-07-29T17:31:04.515872Z",
          "start_time": "2021-07-29T17:31:04.498910Z"
        },
        "id": "SkVzbXJa9Cmj"
      },
      "source": [
        "test_date= [x.date() for x in l]"
      ],
      "execution_count": null,
      "outputs": []
    },
    {
      "cell_type": "code",
      "metadata": {
        "ExecuteTime": {
          "end_time": "2021-07-29T21:33:46.719236Z",
          "start_time": "2021-07-29T21:33:46.705239Z"
        },
        "id": "X0U99SIvp7Vw"
      },
      "source": [
        "lista_resultados=[]"
      ],
      "execution_count": null,
      "outputs": []
    },
    {
      "cell_type": "code",
      "metadata": {
        "ExecuteTime": {
          "end_time": "2021-07-29T21:47:31.128784Z",
          "start_time": "2021-07-29T21:47:31.120824Z"
        },
        "id": "wCtpNoBAA6uG"
      },
      "source": [
        "def completar_entregable(predicciones, fecha_pred):\n",
        "  indices= indices_test(fecha_pred)\n",
        "\n",
        "  for i in range(len(indices)):\n",
        "    entregable[indices[i]]=  predicciones[i]\n",
        "    lista_resultados.append(predicciones[i])\n"
      ],
      "execution_count": null,
      "outputs": []
    },
    {
      "cell_type": "code",
      "metadata": {
        "ExecuteTime": {
          "end_time": "2021-07-29T17:31:13.593946Z",
          "start_time": "2021-07-29T17:31:13.586903Z"
        },
        "id": "7ZHHxGjY9ZVV"
      },
      "source": [
        "def indices_test(fecha_pred):\n",
        "  indices=[]\n",
        "  for i in range(len(test_date)):\n",
        "    f=test_date[i]\n",
        "    if fecha_pred==f:\n",
        "      indices.append(i)\n",
        "  return indices"
      ],
      "execution_count": null,
      "outputs": []
    },
    {
      "cell_type": "code",
      "metadata": {
        "id": "6TFuu-eG6Irg"
      },
      "source": [
        "evaluar = np.load(path+'velocidad-viento/train_completo.npy',allow_pickle=True)"
      ],
      "execution_count": null,
      "outputs": []
    },
    {
      "cell_type": "code",
      "metadata": {
        "ExecuteTime": {
          "end_time": "2021-07-29T17:31:40.741701Z",
          "start_time": "2021-07-29T17:31:40.726021Z"
        },
        "id": "Mz5y-wFSp7Vx"
      },
      "source": [
        "evaluar= np.array(Todos_los_X_Y_completo)"
      ],
      "execution_count": null,
      "outputs": []
    },
    {
      "cell_type": "code",
      "metadata": {
        "ExecuteTime": {
          "end_time": "2021-07-30T04:57:06.962651Z",
          "start_time": "2021-07-29T21:52:59.282134Z"
        },
        "id": "zqfXVuWYmUsj",
        "scrolled": false,
        "outputId": "7dd6de30-aad4-4782-a15b-3331514fc5b4"
      },
      "source": [
        "for i in range(largo_seq_predecir.shape[0]): #cada uno de los dias a predecir\n",
        "    largo_pred= largo_seq_predecir[i]\n",
        "    fecha_pred= largo_seq_predecir.index[i]\n",
        "    dia_pred= fecha_pred.strftime(\"%d-%m-%Y\")\n",
        "    X_train=evaluar[i][0]\n",
        "    Y_train= evaluar[i][1]\n",
        "\n",
        "    if largo_pred == 1: #lstm bidirectional\n",
        "        predicciones=biLSTM(X_train,Y_test,X_test)\n",
        "        completar_entregable(predicciones, fecha_pred)\n",
        "\n",
        "    if largo_pred>=2: #atencion\n",
        "        predicciones= atencionLuong(X_train, Y_train, X_test)\n",
        "        completar_entregable(predicciones, fecha_pred)\n",
        "        \n",
        "    print(i) "
      ],
      "execution_count": null,
      "outputs": [
        {
          "output_type": "stream",
          "text": [
            "WARNING:tensorflow:11 out of the last 11 calls to <function Model.make_predict_function.<locals>.predict_function at 0x0000010A25BE4EE8> triggered tf.function retracing. Tracing is expensive and the excessive number of tracings could be due to (1) creating @tf.function repeatedly in a loop, (2) passing tensors with different shapes, (3) passing Python objects instead of tensors. For (1), please define your @tf.function outside of the loop. For (2), @tf.function has experimental_relax_shapes=True option that relaxes argument shapes that can avoid unnecessary retracing. For (3), please refer to https://www.tensorflow.org/tutorials/customization/performance#python_or_tensor_args and https://www.tensorflow.org/api_docs/python/tf/function for  more details.\n",
            "0\n",
            "WARNING:tensorflow:11 out of the last 11 calls to <function Model.make_predict_function.<locals>.predict_function at 0x0000010A21D54C18> triggered tf.function retracing. Tracing is expensive and the excessive number of tracings could be due to (1) creating @tf.function repeatedly in a loop, (2) passing tensors with different shapes, (3) passing Python objects instead of tensors. For (1), please define your @tf.function outside of the loop. For (2), @tf.function has experimental_relax_shapes=True option that relaxes argument shapes that can avoid unnecessary retracing. For (3), please refer to https://www.tensorflow.org/tutorials/customization/performance#python_or_tensor_args and https://www.tensorflow.org/api_docs/python/tf/function for  more details.\n",
            "1\n",
            "WARNING:tensorflow:11 out of the last 11 calls to <function Model.make_predict_function.<locals>.predict_function at 0x0000010A212CEA68> triggered tf.function retracing. Tracing is expensive and the excessive number of tracings could be due to (1) creating @tf.function repeatedly in a loop, (2) passing tensors with different shapes, (3) passing Python objects instead of tensors. For (1), please define your @tf.function outside of the loop. For (2), @tf.function has experimental_relax_shapes=True option that relaxes argument shapes that can avoid unnecessary retracing. For (3), please refer to https://www.tensorflow.org/tutorials/customization/performance#python_or_tensor_args and https://www.tensorflow.org/api_docs/python/tf/function for  more details.\n",
            "2\n",
            "WARNING:tensorflow:11 out of the last 11 calls to <function Model.make_predict_function.<locals>.predict_function at 0x0000010A6021DA68> triggered tf.function retracing. Tracing is expensive and the excessive number of tracings could be due to (1) creating @tf.function repeatedly in a loop, (2) passing tensors with different shapes, (3) passing Python objects instead of tensors. For (1), please define your @tf.function outside of the loop. For (2), @tf.function has experimental_relax_shapes=True option that relaxes argument shapes that can avoid unnecessary retracing. For (3), please refer to https://www.tensorflow.org/tutorials/customization/performance#python_or_tensor_args and https://www.tensorflow.org/api_docs/python/tf/function for  more details.\n",
            "3\n",
            "WARNING:tensorflow:11 out of the last 11 calls to <function Model.make_predict_function.<locals>.predict_function at 0x0000010A6E323708> triggered tf.function retracing. Tracing is expensive and the excessive number of tracings could be due to (1) creating @tf.function repeatedly in a loop, (2) passing tensors with different shapes, (3) passing Python objects instead of tensors. For (1), please define your @tf.function outside of the loop. For (2), @tf.function has experimental_relax_shapes=True option that relaxes argument shapes that can avoid unnecessary retracing. For (3), please refer to https://www.tensorflow.org/tutorials/customization/performance#python_or_tensor_args and https://www.tensorflow.org/api_docs/python/tf/function for  more details.\n",
            "4\n",
            "WARNING:tensorflow:11 out of the last 11 calls to <function Model.make_predict_function.<locals>.predict_function at 0x0000010A222BEA68> triggered tf.function retracing. Tracing is expensive and the excessive number of tracings could be due to (1) creating @tf.function repeatedly in a loop, (2) passing tensors with different shapes, (3) passing Python objects instead of tensors. For (1), please define your @tf.function outside of the loop. For (2), @tf.function has experimental_relax_shapes=True option that relaxes argument shapes that can avoid unnecessary retracing. For (3), please refer to https://www.tensorflow.org/tutorials/customization/performance#python_or_tensor_args and https://www.tensorflow.org/api_docs/python/tf/function for  more details.\n",
            "5\n",
            "WARNING:tensorflow:11 out of the last 11 calls to <function Model.make_predict_function.<locals>.predict_function at 0x0000010A0A2450D8> triggered tf.function retracing. Tracing is expensive and the excessive number of tracings could be due to (1) creating @tf.function repeatedly in a loop, (2) passing tensors with different shapes, (3) passing Python objects instead of tensors. For (1), please define your @tf.function outside of the loop. For (2), @tf.function has experimental_relax_shapes=True option that relaxes argument shapes that can avoid unnecessary retracing. For (3), please refer to https://www.tensorflow.org/tutorials/customization/performance#python_or_tensor_args and https://www.tensorflow.org/api_docs/python/tf/function for  more details.\n",
            "6\n",
            "WARNING:tensorflow:11 out of the last 11 calls to <function Model.make_predict_function.<locals>.predict_function at 0x00000109CCA244C8> triggered tf.function retracing. Tracing is expensive and the excessive number of tracings could be due to (1) creating @tf.function repeatedly in a loop, (2) passing tensors with different shapes, (3) passing Python objects instead of tensors. For (1), please define your @tf.function outside of the loop. For (2), @tf.function has experimental_relax_shapes=True option that relaxes argument shapes that can avoid unnecessary retracing. For (3), please refer to https://www.tensorflow.org/tutorials/customization/performance#python_or_tensor_args and https://www.tensorflow.org/api_docs/python/tf/function for  more details.\n",
            "7\n",
            "WARNING:tensorflow:11 out of the last 11 calls to <function Model.make_predict_function.<locals>.predict_function at 0x0000010A4C993A68> triggered tf.function retracing. Tracing is expensive and the excessive number of tracings could be due to (1) creating @tf.function repeatedly in a loop, (2) passing tensors with different shapes, (3) passing Python objects instead of tensors. For (1), please define your @tf.function outside of the loop. For (2), @tf.function has experimental_relax_shapes=True option that relaxes argument shapes that can avoid unnecessary retracing. For (3), please refer to https://www.tensorflow.org/tutorials/customization/performance#python_or_tensor_args and https://www.tensorflow.org/api_docs/python/tf/function for  more details.\n",
            "8\n",
            "WARNING:tensorflow:11 out of the last 11 calls to <function Model.make_predict_function.<locals>.predict_function at 0x0000010A64678708> triggered tf.function retracing. Tracing is expensive and the excessive number of tracings could be due to (1) creating @tf.function repeatedly in a loop, (2) passing tensors with different shapes, (3) passing Python objects instead of tensors. For (1), please define your @tf.function outside of the loop. For (2), @tf.function has experimental_relax_shapes=True option that relaxes argument shapes that can avoid unnecessary retracing. For (3), please refer to https://www.tensorflow.org/tutorials/customization/performance#python_or_tensor_args and https://www.tensorflow.org/api_docs/python/tf/function for  more details.\n",
            "9\n",
            "WARNING:tensorflow:11 out of the last 11 calls to <function Model.make_predict_function.<locals>.predict_function at 0x0000010A7D96E3A8> triggered tf.function retracing. Tracing is expensive and the excessive number of tracings could be due to (1) creating @tf.function repeatedly in a loop, (2) passing tensors with different shapes, (3) passing Python objects instead of tensors. For (1), please define your @tf.function outside of the loop. For (2), @tf.function has experimental_relax_shapes=True option that relaxes argument shapes that can avoid unnecessary retracing. For (3), please refer to https://www.tensorflow.org/tutorials/customization/performance#python_or_tensor_args and https://www.tensorflow.org/api_docs/python/tf/function for  more details.\n",
            "10\n",
            "WARNING:tensorflow:11 out of the last 11 calls to <function Model.make_predict_function.<locals>.predict_function at 0x0000010A64718558> triggered tf.function retracing. Tracing is expensive and the excessive number of tracings could be due to (1) creating @tf.function repeatedly in a loop, (2) passing tensors with different shapes, (3) passing Python objects instead of tensors. For (1), please define your @tf.function outside of the loop. For (2), @tf.function has experimental_relax_shapes=True option that relaxes argument shapes that can avoid unnecessary retracing. For (3), please refer to https://www.tensorflow.org/tutorials/customization/performance#python_or_tensor_args and https://www.tensorflow.org/api_docs/python/tf/function for  more details.\n",
            "11\n",
            "WARNING:tensorflow:11 out of the last 11 calls to <function Model.make_predict_function.<locals>.predict_function at 0x0000010A41E59EE8> triggered tf.function retracing. Tracing is expensive and the excessive number of tracings could be due to (1) creating @tf.function repeatedly in a loop, (2) passing tensors with different shapes, (3) passing Python objects instead of tensors. For (1), please define your @tf.function outside of the loop. For (2), @tf.function has experimental_relax_shapes=True option that relaxes argument shapes that can avoid unnecessary retracing. For (3), please refer to https://www.tensorflow.org/tutorials/customization/performance#python_or_tensor_args and https://www.tensorflow.org/api_docs/python/tf/function for  more details.\n",
            "12\n",
            "WARNING:tensorflow:11 out of the last 11 calls to <function Model.make_predict_function.<locals>.predict_function at 0x0000010A7D926828> triggered tf.function retracing. Tracing is expensive and the excessive number of tracings could be due to (1) creating @tf.function repeatedly in a loop, (2) passing tensors with different shapes, (3) passing Python objects instead of tensors. For (1), please define your @tf.function outside of the loop. For (2), @tf.function has experimental_relax_shapes=True option that relaxes argument shapes that can avoid unnecessary retracing. For (3), please refer to https://www.tensorflow.org/tutorials/customization/performance#python_or_tensor_args and https://www.tensorflow.org/api_docs/python/tf/function for  more details.\n",
            "13\n",
            "WARNING:tensorflow:11 out of the last 11 calls to <function Model.make_predict_function.<locals>.predict_function at 0x0000010A5CDAA4C8> triggered tf.function retracing. Tracing is expensive and the excessive number of tracings could be due to (1) creating @tf.function repeatedly in a loop, (2) passing tensors with different shapes, (3) passing Python objects instead of tensors. For (1), please define your @tf.function outside of the loop. For (2), @tf.function has experimental_relax_shapes=True option that relaxes argument shapes that can avoid unnecessary retracing. For (3), please refer to https://www.tensorflow.org/tutorials/customization/performance#python_or_tensor_args and https://www.tensorflow.org/api_docs/python/tf/function for  more details.\n",
            "14\n",
            "WARNING:tensorflow:11 out of the last 11 calls to <function Model.make_predict_function.<locals>.predict_function at 0x0000010A70A973A8> triggered tf.function retracing. Tracing is expensive and the excessive number of tracings could be due to (1) creating @tf.function repeatedly in a loop, (2) passing tensors with different shapes, (3) passing Python objects instead of tensors. For (1), please define your @tf.function outside of the loop. For (2), @tf.function has experimental_relax_shapes=True option that relaxes argument shapes that can avoid unnecessary retracing. For (3), please refer to https://www.tensorflow.org/tutorials/customization/performance#python_or_tensor_args and https://www.tensorflow.org/api_docs/python/tf/function for  more details.\n",
            "15\n",
            "WARNING:tensorflow:11 out of the last 11 calls to <function Model.make_predict_function.<locals>.predict_function at 0x0000010A70BCF048> triggered tf.function retracing. Tracing is expensive and the excessive number of tracings could be due to (1) creating @tf.function repeatedly in a loop, (2) passing tensors with different shapes, (3) passing Python objects instead of tensors. For (1), please define your @tf.function outside of the loop. For (2), @tf.function has experimental_relax_shapes=True option that relaxes argument shapes that can avoid unnecessary retracing. For (3), please refer to https://www.tensorflow.org/tutorials/customization/performance#python_or_tensor_args and https://www.tensorflow.org/api_docs/python/tf/function for  more details.\n",
            "16\n",
            "WARNING:tensorflow:11 out of the last 11 calls to <function Model.make_predict_function.<locals>.predict_function at 0x0000010A2D824EE8> triggered tf.function retracing. Tracing is expensive and the excessive number of tracings could be due to (1) creating @tf.function repeatedly in a loop, (2) passing tensors with different shapes, (3) passing Python objects instead of tensors. For (1), please define your @tf.function outside of the loop. For (2), @tf.function has experimental_relax_shapes=True option that relaxes argument shapes that can avoid unnecessary retracing. For (3), please refer to https://www.tensorflow.org/tutorials/customization/performance#python_or_tensor_args and https://www.tensorflow.org/api_docs/python/tf/function for  more details.\n",
            "17\n",
            "WARNING:tensorflow:11 out of the last 11 calls to <function Model.make_predict_function.<locals>.predict_function at 0x0000010A40AC8318> triggered tf.function retracing. Tracing is expensive and the excessive number of tracings could be due to (1) creating @tf.function repeatedly in a loop, (2) passing tensors with different shapes, (3) passing Python objects instead of tensors. For (1), please define your @tf.function outside of the loop. For (2), @tf.function has experimental_relax_shapes=True option that relaxes argument shapes that can avoid unnecessary retracing. For (3), please refer to https://www.tensorflow.org/tutorials/customization/performance#python_or_tensor_args and https://www.tensorflow.org/api_docs/python/tf/function for  more details.\n",
            "18\n",
            "WARNING:tensorflow:11 out of the last 11 calls to <function Model.make_predict_function.<locals>.predict_function at 0x0000010A5C04E1F8> triggered tf.function retracing. Tracing is expensive and the excessive number of tracings could be due to (1) creating @tf.function repeatedly in a loop, (2) passing tensors with different shapes, (3) passing Python objects instead of tensors. For (1), please define your @tf.function outside of the loop. For (2), @tf.function has experimental_relax_shapes=True option that relaxes argument shapes that can avoid unnecessary retracing. For (3), please refer to https://www.tensorflow.org/tutorials/customization/performance#python_or_tensor_args and https://www.tensorflow.org/api_docs/python/tf/function for  more details.\n",
            "19\n",
            "WARNING:tensorflow:11 out of the last 11 calls to <function Model.make_predict_function.<locals>.predict_function at 0x0000010A753D7C18> triggered tf.function retracing. Tracing is expensive and the excessive number of tracings could be due to (1) creating @tf.function repeatedly in a loop, (2) passing tensors with different shapes, (3) passing Python objects instead of tensors. For (1), please define your @tf.function outside of the loop. For (2), @tf.function has experimental_relax_shapes=True option that relaxes argument shapes that can avoid unnecessary retracing. For (3), please refer to https://www.tensorflow.org/tutorials/customization/performance#python_or_tensor_args and https://www.tensorflow.org/api_docs/python/tf/function for  more details.\n",
            "20\n",
            "WARNING:tensorflow:11 out of the last 11 calls to <function Model.make_predict_function.<locals>.predict_function at 0x0000010A7D880E58> triggered tf.function retracing. Tracing is expensive and the excessive number of tracings could be due to (1) creating @tf.function repeatedly in a loop, (2) passing tensors with different shapes, (3) passing Python objects instead of tensors. For (1), please define your @tf.function outside of the loop. For (2), @tf.function has experimental_relax_shapes=True option that relaxes argument shapes that can avoid unnecessary retracing. For (3), please refer to https://www.tensorflow.org/tutorials/customization/performance#python_or_tensor_args and https://www.tensorflow.org/api_docs/python/tf/function for  more details.\n",
            "21\n",
            "WARNING:tensorflow:11 out of the last 11 calls to <function Model.make_predict_function.<locals>.predict_function at 0x00000109C2231948> triggered tf.function retracing. Tracing is expensive and the excessive number of tracings could be due to (1) creating @tf.function repeatedly in a loop, (2) passing tensors with different shapes, (3) passing Python objects instead of tensors. For (1), please define your @tf.function outside of the loop. For (2), @tf.function has experimental_relax_shapes=True option that relaxes argument shapes that can avoid unnecessary retracing. For (3), please refer to https://www.tensorflow.org/tutorials/customization/performance#python_or_tensor_args and https://www.tensorflow.org/api_docs/python/tf/function for  more details.\n",
            "22\n",
            "WARNING:tensorflow:11 out of the last 11 calls to <function Model.make_predict_function.<locals>.predict_function at 0x0000010A35BCF4C8> triggered tf.function retracing. Tracing is expensive and the excessive number of tracings could be due to (1) creating @tf.function repeatedly in a loop, (2) passing tensors with different shapes, (3) passing Python objects instead of tensors. For (1), please define your @tf.function outside of the loop. For (2), @tf.function has experimental_relax_shapes=True option that relaxes argument shapes that can avoid unnecessary retracing. For (3), please refer to https://www.tensorflow.org/tutorials/customization/performance#python_or_tensor_args and https://www.tensorflow.org/api_docs/python/tf/function for  more details.\n",
            "23\n",
            "WARNING:tensorflow:11 out of the last 11 calls to <function Model.make_predict_function.<locals>.predict_function at 0x0000010A4C3ADC18> triggered tf.function retracing. Tracing is expensive and the excessive number of tracings could be due to (1) creating @tf.function repeatedly in a loop, (2) passing tensors with different shapes, (3) passing Python objects instead of tensors. For (1), please define your @tf.function outside of the loop. For (2), @tf.function has experimental_relax_shapes=True option that relaxes argument shapes that can avoid unnecessary retracing. For (3), please refer to https://www.tensorflow.org/tutorials/customization/performance#python_or_tensor_args and https://www.tensorflow.org/api_docs/python/tf/function for  more details.\n",
            "24\n",
            "WARNING:tensorflow:11 out of the last 11 calls to <function Model.make_predict_function.<locals>.predict_function at 0x0000010A7096AB88> triggered tf.function retracing. Tracing is expensive and the excessive number of tracings could be due to (1) creating @tf.function repeatedly in a loop, (2) passing tensors with different shapes, (3) passing Python objects instead of tensors. For (1), please define your @tf.function outside of the loop. For (2), @tf.function has experimental_relax_shapes=True option that relaxes argument shapes that can avoid unnecessary retracing. For (3), please refer to https://www.tensorflow.org/tutorials/customization/performance#python_or_tensor_args and https://www.tensorflow.org/api_docs/python/tf/function for  more details.\n",
            "25\n",
            "WARNING:tensorflow:11 out of the last 11 calls to <function Model.make_predict_function.<locals>.predict_function at 0x000001094501DCA8> triggered tf.function retracing. Tracing is expensive and the excessive number of tracings could be due to (1) creating @tf.function repeatedly in a loop, (2) passing tensors with different shapes, (3) passing Python objects instead of tensors. For (1), please define your @tf.function outside of the loop. For (2), @tf.function has experimental_relax_shapes=True option that relaxes argument shapes that can avoid unnecessary retracing. For (3), please refer to https://www.tensorflow.org/tutorials/customization/performance#python_or_tensor_args and https://www.tensorflow.org/api_docs/python/tf/function for  more details.\n",
            "26\n",
            "WARNING:tensorflow:11 out of the last 11 calls to <function Model.make_predict_function.<locals>.predict_function at 0x0000010A6E323318> triggered tf.function retracing. Tracing is expensive and the excessive number of tracings could be due to (1) creating @tf.function repeatedly in a loop, (2) passing tensors with different shapes, (3) passing Python objects instead of tensors. For (1), please define your @tf.function outside of the loop. For (2), @tf.function has experimental_relax_shapes=True option that relaxes argument shapes that can avoid unnecessary retracing. For (3), please refer to https://www.tensorflow.org/tutorials/customization/performance#python_or_tensor_args and https://www.tensorflow.org/api_docs/python/tf/function for  more details.\n",
            "27\n",
            "WARNING:tensorflow:11 out of the last 11 calls to <function Model.make_predict_function.<locals>.predict_function at 0x0000010A09848708> triggered tf.function retracing. Tracing is expensive and the excessive number of tracings could be due to (1) creating @tf.function repeatedly in a loop, (2) passing tensors with different shapes, (3) passing Python objects instead of tensors. For (1), please define your @tf.function outside of the loop. For (2), @tf.function has experimental_relax_shapes=True option that relaxes argument shapes that can avoid unnecessary retracing. For (3), please refer to https://www.tensorflow.org/tutorials/customization/performance#python_or_tensor_args and https://www.tensorflow.org/api_docs/python/tf/function for  more details.\n",
            "28\n",
            "WARNING:tensorflow:11 out of the last 11 calls to <function Model.make_predict_function.<locals>.predict_function at 0x0000010A4C357EE8> triggered tf.function retracing. Tracing is expensive and the excessive number of tracings could be due to (1) creating @tf.function repeatedly in a loop, (2) passing tensors with different shapes, (3) passing Python objects instead of tensors. For (1), please define your @tf.function outside of the loop. For (2), @tf.function has experimental_relax_shapes=True option that relaxes argument shapes that can avoid unnecessary retracing. For (3), please refer to https://www.tensorflow.org/tutorials/customization/performance#python_or_tensor_args and https://www.tensorflow.org/api_docs/python/tf/function for  more details.\n",
            "29\n",
            "WARNING:tensorflow:11 out of the last 11 calls to <function Model.make_predict_function.<locals>.predict_function at 0x0000010A6F263AF8> triggered tf.function retracing. Tracing is expensive and the excessive number of tracings could be due to (1) creating @tf.function repeatedly in a loop, (2) passing tensors with different shapes, (3) passing Python objects instead of tensors. For (1), please define your @tf.function outside of the loop. For (2), @tf.function has experimental_relax_shapes=True option that relaxes argument shapes that can avoid unnecessary retracing. For (3), please refer to https://www.tensorflow.org/tutorials/customization/performance#python_or_tensor_args and https://www.tensorflow.org/api_docs/python/tf/function for  more details.\n",
            "30\n",
            "WARNING:tensorflow:11 out of the last 11 calls to <function Model.make_predict_function.<locals>.predict_function at 0x0000010A8FED6438> triggered tf.function retracing. Tracing is expensive and the excessive number of tracings could be due to (1) creating @tf.function repeatedly in a loop, (2) passing tensors with different shapes, (3) passing Python objects instead of tensors. For (1), please define your @tf.function outside of the loop. For (2), @tf.function has experimental_relax_shapes=True option that relaxes argument shapes that can avoid unnecessary retracing. For (3), please refer to https://www.tensorflow.org/tutorials/customization/performance#python_or_tensor_args and https://www.tensorflow.org/api_docs/python/tf/function for  more details.\n",
            "31\n",
            "WARNING:tensorflow:11 out of the last 11 calls to <function Model.make_predict_function.<locals>.predict_function at 0x0000010A1A4FCE58> triggered tf.function retracing. Tracing is expensive and the excessive number of tracings could be due to (1) creating @tf.function repeatedly in a loop, (2) passing tensors with different shapes, (3) passing Python objects instead of tensors. For (1), please define your @tf.function outside of the loop. For (2), @tf.function has experimental_relax_shapes=True option that relaxes argument shapes that can avoid unnecessary retracing. For (3), please refer to https://www.tensorflow.org/tutorials/customization/performance#python_or_tensor_args and https://www.tensorflow.org/api_docs/python/tf/function for  more details.\n",
            "32\n",
            "WARNING:tensorflow:11 out of the last 11 calls to <function Model.make_predict_function.<locals>.predict_function at 0x0000010A44CCADC8> triggered tf.function retracing. Tracing is expensive and the excessive number of tracings could be due to (1) creating @tf.function repeatedly in a loop, (2) passing tensors with different shapes, (3) passing Python objects instead of tensors. For (1), please define your @tf.function outside of the loop. For (2), @tf.function has experimental_relax_shapes=True option that relaxes argument shapes that can avoid unnecessary retracing. For (3), please refer to https://www.tensorflow.org/tutorials/customization/performance#python_or_tensor_args and https://www.tensorflow.org/api_docs/python/tf/function for  more details.\n",
            "33\n",
            "WARNING:tensorflow:11 out of the last 11 calls to <function Model.make_predict_function.<locals>.predict_function at 0x0000010A4EBDEC18> triggered tf.function retracing. Tracing is expensive and the excessive number of tracings could be due to (1) creating @tf.function repeatedly in a loop, (2) passing tensors with different shapes, (3) passing Python objects instead of tensors. For (1), please define your @tf.function outside of the loop. For (2), @tf.function has experimental_relax_shapes=True option that relaxes argument shapes that can avoid unnecessary retracing. For (3), please refer to https://www.tensorflow.org/tutorials/customization/performance#python_or_tensor_args and https://www.tensorflow.org/api_docs/python/tf/function for  more details.\n",
            "34\n",
            "WARNING:tensorflow:11 out of the last 11 calls to <function Model.make_predict_function.<locals>.predict_function at 0x0000010A6D23B8B8> triggered tf.function retracing. Tracing is expensive and the excessive number of tracings could be due to (1) creating @tf.function repeatedly in a loop, (2) passing tensors with different shapes, (3) passing Python objects instead of tensors. For (1), please define your @tf.function outside of the loop. For (2), @tf.function has experimental_relax_shapes=True option that relaxes argument shapes that can avoid unnecessary retracing. For (3), please refer to https://www.tensorflow.org/tutorials/customization/performance#python_or_tensor_args and https://www.tensorflow.org/api_docs/python/tf/function for  more details.\n",
            "35\n",
            "WARNING:tensorflow:11 out of the last 11 calls to <function Model.make_predict_function.<locals>.predict_function at 0x0000010A7DCF6558> triggered tf.function retracing. Tracing is expensive and the excessive number of tracings could be due to (1) creating @tf.function repeatedly in a loop, (2) passing tensors with different shapes, (3) passing Python objects instead of tensors. For (1), please define your @tf.function outside of the loop. For (2), @tf.function has experimental_relax_shapes=True option that relaxes argument shapes that can avoid unnecessary retracing. For (3), please refer to https://www.tensorflow.org/tutorials/customization/performance#python_or_tensor_args and https://www.tensorflow.org/api_docs/python/tf/function for  more details.\n",
            "36\n",
            "WARNING:tensorflow:11 out of the last 11 calls to <function Model.make_predict_function.<locals>.predict_function at 0x0000010A8FBF3438> triggered tf.function retracing. Tracing is expensive and the excessive number of tracings could be due to (1) creating @tf.function repeatedly in a loop, (2) passing tensors with different shapes, (3) passing Python objects instead of tensors. For (1), please define your @tf.function outside of the loop. For (2), @tf.function has experimental_relax_shapes=True option that relaxes argument shapes that can avoid unnecessary retracing. For (3), please refer to https://www.tensorflow.org/tutorials/customization/performance#python_or_tensor_args and https://www.tensorflow.org/api_docs/python/tf/function for  more details.\n",
            "37\n",
            "WARNING:tensorflow:11 out of the last 11 calls to <function Model.make_predict_function.<locals>.predict_function at 0x0000010A65157DC8> triggered tf.function retracing. Tracing is expensive and the excessive number of tracings could be due to (1) creating @tf.function repeatedly in a loop, (2) passing tensors with different shapes, (3) passing Python objects instead of tensors. For (1), please define your @tf.function outside of the loop. For (2), @tf.function has experimental_relax_shapes=True option that relaxes argument shapes that can avoid unnecessary retracing. For (3), please refer to https://www.tensorflow.org/tutorials/customization/performance#python_or_tensor_args and https://www.tensorflow.org/api_docs/python/tf/function for  more details.\n",
            "38\n",
            "WARNING:tensorflow:11 out of the last 11 calls to <function Model.make_predict_function.<locals>.predict_function at 0x0000010A57B17318> triggered tf.function retracing. Tracing is expensive and the excessive number of tracings could be due to (1) creating @tf.function repeatedly in a loop, (2) passing tensors with different shapes, (3) passing Python objects instead of tensors. For (1), please define your @tf.function outside of the loop. For (2), @tf.function has experimental_relax_shapes=True option that relaxes argument shapes that can avoid unnecessary retracing. For (3), please refer to https://www.tensorflow.org/tutorials/customization/performance#python_or_tensor_args and https://www.tensorflow.org/api_docs/python/tf/function for  more details.\n",
            "39\n",
            "WARNING:tensorflow:11 out of the last 11 calls to <function Model.make_predict_function.<locals>.predict_function at 0x0000010A47F5F438> triggered tf.function retracing. Tracing is expensive and the excessive number of tracings could be due to (1) creating @tf.function repeatedly in a loop, (2) passing tensors with different shapes, (3) passing Python objects instead of tensors. For (1), please define your @tf.function outside of the loop. For (2), @tf.function has experimental_relax_shapes=True option that relaxes argument shapes that can avoid unnecessary retracing. For (3), please refer to https://www.tensorflow.org/tutorials/customization/performance#python_or_tensor_args and https://www.tensorflow.org/api_docs/python/tf/function for  more details.\n",
            "40\n",
            "WARNING:tensorflow:11 out of the last 11 calls to <function Model.make_predict_function.<locals>.predict_function at 0x0000010A716DCEE8> triggered tf.function retracing. Tracing is expensive and the excessive number of tracings could be due to (1) creating @tf.function repeatedly in a loop, (2) passing tensors with different shapes, (3) passing Python objects instead of tensors. For (1), please define your @tf.function outside of the loop. For (2), @tf.function has experimental_relax_shapes=True option that relaxes argument shapes that can avoid unnecessary retracing. For (3), please refer to https://www.tensorflow.org/tutorials/customization/performance#python_or_tensor_args and https://www.tensorflow.org/api_docs/python/tf/function for  more details.\n",
            "41\n",
            "WARNING:tensorflow:11 out of the last 11 calls to <function Model.make_predict_function.<locals>.predict_function at 0x0000010A87698AF8> triggered tf.function retracing. Tracing is expensive and the excessive number of tracings could be due to (1) creating @tf.function repeatedly in a loop, (2) passing tensors with different shapes, (3) passing Python objects instead of tensors. For (1), please define your @tf.function outside of the loop. For (2), @tf.function has experimental_relax_shapes=True option that relaxes argument shapes that can avoid unnecessary retracing. For (3), please refer to https://www.tensorflow.org/tutorials/customization/performance#python_or_tensor_args and https://www.tensorflow.org/api_docs/python/tf/function for  more details.\n",
            "42\n",
            "WARNING:tensorflow:11 out of the last 11 calls to <function Model.make_predict_function.<locals>.predict_function at 0x0000010A9D98C798> triggered tf.function retracing. Tracing is expensive and the excessive number of tracings could be due to (1) creating @tf.function repeatedly in a loop, (2) passing tensors with different shapes, (3) passing Python objects instead of tensors. For (1), please define your @tf.function outside of the loop. For (2), @tf.function has experimental_relax_shapes=True option that relaxes argument shapes that can avoid unnecessary retracing. For (3), please refer to https://www.tensorflow.org/tutorials/customization/performance#python_or_tensor_args and https://www.tensorflow.org/api_docs/python/tf/function for  more details.\n",
            "43\n",
            "WARNING:tensorflow:11 out of the last 11 calls to <function Model.make_predict_function.<locals>.predict_function at 0x0000010A70DAB828> triggered tf.function retracing. Tracing is expensive and the excessive number of tracings could be due to (1) creating @tf.function repeatedly in a loop, (2) passing tensors with different shapes, (3) passing Python objects instead of tensors. For (1), please define your @tf.function outside of the loop. For (2), @tf.function has experimental_relax_shapes=True option that relaxes argument shapes that can avoid unnecessary retracing. For (3), please refer to https://www.tensorflow.org/tutorials/customization/performance#python_or_tensor_args and https://www.tensorflow.org/api_docs/python/tf/function for  more details.\n",
            "44\n",
            "WARNING:tensorflow:11 out of the last 11 calls to <function Model.make_predict_function.<locals>.predict_function at 0x0000010A09848558> triggered tf.function retracing. Tracing is expensive and the excessive number of tracings could be due to (1) creating @tf.function repeatedly in a loop, (2) passing tensors with different shapes, (3) passing Python objects instead of tensors. For (1), please define your @tf.function outside of the loop. For (2), @tf.function has experimental_relax_shapes=True option that relaxes argument shapes that can avoid unnecessary retracing. For (3), please refer to https://www.tensorflow.org/tutorials/customization/performance#python_or_tensor_args and https://www.tensorflow.org/api_docs/python/tf/function for  more details.\n",
            "45\n",
            "WARNING:tensorflow:11 out of the last 11 calls to <function Model.make_predict_function.<locals>.predict_function at 0x0000010A91ADA798> triggered tf.function retracing. Tracing is expensive and the excessive number of tracings could be due to (1) creating @tf.function repeatedly in a loop, (2) passing tensors with different shapes, (3) passing Python objects instead of tensors. For (1), please define your @tf.function outside of the loop. For (2), @tf.function has experimental_relax_shapes=True option that relaxes argument shapes that can avoid unnecessary retracing. For (3), please refer to https://www.tensorflow.org/tutorials/customization/performance#python_or_tensor_args and https://www.tensorflow.org/api_docs/python/tf/function for  more details.\n",
            "46\n",
            "WARNING:tensorflow:11 out of the last 11 calls to <function Model.make_predict_function.<locals>.predict_function at 0x0000010A5BC93438> triggered tf.function retracing. Tracing is expensive and the excessive number of tracings could be due to (1) creating @tf.function repeatedly in a loop, (2) passing tensors with different shapes, (3) passing Python objects instead of tensors. For (1), please define your @tf.function outside of the loop. For (2), @tf.function has experimental_relax_shapes=True option that relaxes argument shapes that can avoid unnecessary retracing. For (3), please refer to https://www.tensorflow.org/tutorials/customization/performance#python_or_tensor_args and https://www.tensorflow.org/api_docs/python/tf/function for  more details.\n",
            "47\n",
            "WARNING:tensorflow:11 out of the last 11 calls to <function Model.make_predict_function.<locals>.predict_function at 0x0000010A92034318> triggered tf.function retracing. Tracing is expensive and the excessive number of tracings could be due to (1) creating @tf.function repeatedly in a loop, (2) passing tensors with different shapes, (3) passing Python objects instead of tensors. For (1), please define your @tf.function outside of the loop. For (2), @tf.function has experimental_relax_shapes=True option that relaxes argument shapes that can avoid unnecessary retracing. For (3), please refer to https://www.tensorflow.org/tutorials/customization/performance#python_or_tensor_args and https://www.tensorflow.org/api_docs/python/tf/function for  more details.\n",
            "48\n",
            "WARNING:tensorflow:11 out of the last 11 calls to <function Model.make_predict_function.<locals>.predict_function at 0x0000010AA3647D38> triggered tf.function retracing. Tracing is expensive and the excessive number of tracings could be due to (1) creating @tf.function repeatedly in a loop, (2) passing tensors with different shapes, (3) passing Python objects instead of tensors. For (1), please define your @tf.function outside of the loop. For (2), @tf.function has experimental_relax_shapes=True option that relaxes argument shapes that can avoid unnecessary retracing. For (3), please refer to https://www.tensorflow.org/tutorials/customization/performance#python_or_tensor_args and https://www.tensorflow.org/api_docs/python/tf/function for  more details.\n",
            "49\n",
            "WARNING:tensorflow:11 out of the last 11 calls to <function Model.make_predict_function.<locals>.predict_function at 0x0000010A56FEB4C8> triggered tf.function retracing. Tracing is expensive and the excessive number of tracings could be due to (1) creating @tf.function repeatedly in a loop, (2) passing tensors with different shapes, (3) passing Python objects instead of tensors. For (1), please define your @tf.function outside of the loop. For (2), @tf.function has experimental_relax_shapes=True option that relaxes argument shapes that can avoid unnecessary retracing. For (3), please refer to https://www.tensorflow.org/tutorials/customization/performance#python_or_tensor_args and https://www.tensorflow.org/api_docs/python/tf/function for  more details.\n",
            "50\n",
            "WARNING:tensorflow:11 out of the last 11 calls to <function Model.make_predict_function.<locals>.predict_function at 0x0000010A4C3CBE58> triggered tf.function retracing. Tracing is expensive and the excessive number of tracings could be due to (1) creating @tf.function repeatedly in a loop, (2) passing tensors with different shapes, (3) passing Python objects instead of tensors. For (1), please define your @tf.function outside of the loop. For (2), @tf.function has experimental_relax_shapes=True option that relaxes argument shapes that can avoid unnecessary retracing. For (3), please refer to https://www.tensorflow.org/tutorials/customization/performance#python_or_tensor_args and https://www.tensorflow.org/api_docs/python/tf/function for  more details.\n",
            "51\n",
            "WARNING:tensorflow:11 out of the last 11 calls to <function Model.make_predict_function.<locals>.predict_function at 0x0000010A21AA2288> triggered tf.function retracing. Tracing is expensive and the excessive number of tracings could be due to (1) creating @tf.function repeatedly in a loop, (2) passing tensors with different shapes, (3) passing Python objects instead of tensors. For (1), please define your @tf.function outside of the loop. For (2), @tf.function has experimental_relax_shapes=True option that relaxes argument shapes that can avoid unnecessary retracing. For (3), please refer to https://www.tensorflow.org/tutorials/customization/performance#python_or_tensor_args and https://www.tensorflow.org/api_docs/python/tf/function for  more details.\n",
            "52\n",
            "WARNING:tensorflow:11 out of the last 11 calls to <function Model.make_predict_function.<locals>.predict_function at 0x0000010A87BC1CA8> triggered tf.function retracing. Tracing is expensive and the excessive number of tracings could be due to (1) creating @tf.function repeatedly in a loop, (2) passing tensors with different shapes, (3) passing Python objects instead of tensors. For (1), please define your @tf.function outside of the loop. For (2), @tf.function has experimental_relax_shapes=True option that relaxes argument shapes that can avoid unnecessary retracing. For (3), please refer to https://www.tensorflow.org/tutorials/customization/performance#python_or_tensor_args and https://www.tensorflow.org/api_docs/python/tf/function for  more details.\n",
            "53\n",
            "WARNING:tensorflow:11 out of the last 11 calls to <function Model.make_predict_function.<locals>.predict_function at 0x0000010AA6815948> triggered tf.function retracing. Tracing is expensive and the excessive number of tracings could be due to (1) creating @tf.function repeatedly in a loop, (2) passing tensors with different shapes, (3) passing Python objects instead of tensors. For (1), please define your @tf.function outside of the loop. For (2), @tf.function has experimental_relax_shapes=True option that relaxes argument shapes that can avoid unnecessary retracing. For (3), please refer to https://www.tensorflow.org/tutorials/customization/performance#python_or_tensor_args and https://www.tensorflow.org/api_docs/python/tf/function for  more details.\n",
            "54\n",
            "WARNING:tensorflow:11 out of the last 11 calls to <function Model.make_predict_function.<locals>.predict_function at 0x0000010AAF9635E8> triggered tf.function retracing. Tracing is expensive and the excessive number of tracings could be due to (1) creating @tf.function repeatedly in a loop, (2) passing tensors with different shapes, (3) passing Python objects instead of tensors. For (1), please define your @tf.function outside of the loop. For (2), @tf.function has experimental_relax_shapes=True option that relaxes argument shapes that can avoid unnecessary retracing. For (3), please refer to https://www.tensorflow.org/tutorials/customization/performance#python_or_tensor_args and https://www.tensorflow.org/api_docs/python/tf/function for  more details.\n",
            "55\n",
            "WARNING:tensorflow:11 out of the last 11 calls to <function Model.make_predict_function.<locals>.predict_function at 0x0000010A882B1558> triggered tf.function retracing. Tracing is expensive and the excessive number of tracings could be due to (1) creating @tf.function repeatedly in a loop, (2) passing tensors with different shapes, (3) passing Python objects instead of tensors. For (1), please define your @tf.function outside of the loop. For (2), @tf.function has experimental_relax_shapes=True option that relaxes argument shapes that can avoid unnecessary retracing. For (3), please refer to https://www.tensorflow.org/tutorials/customization/performance#python_or_tensor_args and https://www.tensorflow.org/api_docs/python/tf/function for  more details.\n",
            "56\n",
            "WARNING:tensorflow:11 out of the last 11 calls to <function Model.make_predict_function.<locals>.predict_function at 0x00000109D5D76AF8> triggered tf.function retracing. Tracing is expensive and the excessive number of tracings could be due to (1) creating @tf.function repeatedly in a loop, (2) passing tensors with different shapes, (3) passing Python objects instead of tensors. For (1), please define your @tf.function outside of the loop. For (2), @tf.function has experimental_relax_shapes=True option that relaxes argument shapes that can avoid unnecessary retracing. For (3), please refer to https://www.tensorflow.org/tutorials/customization/performance#python_or_tensor_args and https://www.tensorflow.org/api_docs/python/tf/function for  more details.\n",
            "57\n",
            "WARNING:tensorflow:11 out of the last 11 calls to <function Model.make_predict_function.<locals>.predict_function at 0x0000010A87ED9438> triggered tf.function retracing. Tracing is expensive and the excessive number of tracings could be due to (1) creating @tf.function repeatedly in a loop, (2) passing tensors with different shapes, (3) passing Python objects instead of tensors. For (1), please define your @tf.function outside of the loop. For (2), @tf.function has experimental_relax_shapes=True option that relaxes argument shapes that can avoid unnecessary retracing. For (3), please refer to https://www.tensorflow.org/tutorials/customization/performance#python_or_tensor_args and https://www.tensorflow.org/api_docs/python/tf/function for  more details.\n",
            "58\n",
            "WARNING:tensorflow:11 out of the last 11 calls to <function Model.make_predict_function.<locals>.predict_function at 0x0000010AB1C9CEE8> triggered tf.function retracing. Tracing is expensive and the excessive number of tracings could be due to (1) creating @tf.function repeatedly in a loop, (2) passing tensors with different shapes, (3) passing Python objects instead of tensors. For (1), please define your @tf.function outside of the loop. For (2), @tf.function has experimental_relax_shapes=True option that relaxes argument shapes that can avoid unnecessary retracing. For (3), please refer to https://www.tensorflow.org/tutorials/customization/performance#python_or_tensor_args and https://www.tensorflow.org/api_docs/python/tf/function for  more details.\n",
            "59\n",
            "WARNING:tensorflow:11 out of the last 11 calls to <function Model.make_predict_function.<locals>.predict_function at 0x0000010A901BFAF8> triggered tf.function retracing. Tracing is expensive and the excessive number of tracings could be due to (1) creating @tf.function repeatedly in a loop, (2) passing tensors with different shapes, (3) passing Python objects instead of tensors. For (1), please define your @tf.function outside of the loop. For (2), @tf.function has experimental_relax_shapes=True option that relaxes argument shapes that can avoid unnecessary retracing. For (3), please refer to https://www.tensorflow.org/tutorials/customization/performance#python_or_tensor_args and https://www.tensorflow.org/api_docs/python/tf/function for  more details.\n",
            "60\n",
            "WARNING:tensorflow:11 out of the last 11 calls to <function Model.make_predict_function.<locals>.predict_function at 0x0000010AA87B7798> triggered tf.function retracing. Tracing is expensive and the excessive number of tracings could be due to (1) creating @tf.function repeatedly in a loop, (2) passing tensors with different shapes, (3) passing Python objects instead of tensors. For (1), please define your @tf.function outside of the loop. For (2), @tf.function has experimental_relax_shapes=True option that relaxes argument shapes that can avoid unnecessary retracing. For (3), please refer to https://www.tensorflow.org/tutorials/customization/performance#python_or_tensor_args and https://www.tensorflow.org/api_docs/python/tf/function for  more details.\n",
            "61\n",
            "WARNING:tensorflow:11 out of the last 11 calls to <function Model.make_predict_function.<locals>.predict_function at 0x0000010A92455048> triggered tf.function retracing. Tracing is expensive and the excessive number of tracings could be due to (1) creating @tf.function repeatedly in a loop, (2) passing tensors with different shapes, (3) passing Python objects instead of tensors. For (1), please define your @tf.function outside of the loop. For (2), @tf.function has experimental_relax_shapes=True option that relaxes argument shapes that can avoid unnecessary retracing. For (3), please refer to https://www.tensorflow.org/tutorials/customization/performance#python_or_tensor_args and https://www.tensorflow.org/api_docs/python/tf/function for  more details.\n",
            "62\n",
            "WARNING:tensorflow:11 out of the last 11 calls to <function Model.make_predict_function.<locals>.predict_function at 0x0000010A033F7708> triggered tf.function retracing. Tracing is expensive and the excessive number of tracings could be due to (1) creating @tf.function repeatedly in a loop, (2) passing tensors with different shapes, (3) passing Python objects instead of tensors. For (1), please define your @tf.function outside of the loop. For (2), @tf.function has experimental_relax_shapes=True option that relaxes argument shapes that can avoid unnecessary retracing. For (3), please refer to https://www.tensorflow.org/tutorials/customization/performance#python_or_tensor_args and https://www.tensorflow.org/api_docs/python/tf/function for  more details.\n",
            "63\n",
            "WARNING:tensorflow:11 out of the last 11 calls to <function Model.make_predict_function.<locals>.predict_function at 0x0000010A92BEB8B8> triggered tf.function retracing. Tracing is expensive and the excessive number of tracings could be due to (1) creating @tf.function repeatedly in a loop, (2) passing tensors with different shapes, (3) passing Python objects instead of tensors. For (1), please define your @tf.function outside of the loop. For (2), @tf.function has experimental_relax_shapes=True option that relaxes argument shapes that can avoid unnecessary retracing. For (3), please refer to https://www.tensorflow.org/tutorials/customization/performance#python_or_tensor_args and https://www.tensorflow.org/api_docs/python/tf/function for  more details.\n",
            "64\n",
            "WARNING:tensorflow:11 out of the last 11 calls to <function Model.make_predict_function.<locals>.predict_function at 0x0000010AA0558558> triggered tf.function retracing. Tracing is expensive and the excessive number of tracings could be due to (1) creating @tf.function repeatedly in a loop, (2) passing tensors with different shapes, (3) passing Python objects instead of tensors. For (1), please define your @tf.function outside of the loop. For (2), @tf.function has experimental_relax_shapes=True option that relaxes argument shapes that can avoid unnecessary retracing. For (3), please refer to https://www.tensorflow.org/tutorials/customization/performance#python_or_tensor_args and https://www.tensorflow.org/api_docs/python/tf/function for  more details.\n",
            "65\n",
            "WARNING:tensorflow:11 out of the last 11 calls to <function Model.make_predict_function.<locals>.predict_function at 0x0000010A90250438> triggered tf.function retracing. Tracing is expensive and the excessive number of tracings could be due to (1) creating @tf.function repeatedly in a loop, (2) passing tensors with different shapes, (3) passing Python objects instead of tensors. For (1), please define your @tf.function outside of the loop. For (2), @tf.function has experimental_relax_shapes=True option that relaxes argument shapes that can avoid unnecessary retracing. For (3), please refer to https://www.tensorflow.org/tutorials/customization/performance#python_or_tensor_args and https://www.tensorflow.org/api_docs/python/tf/function for  more details.\n",
            "66\n",
            "WARNING:tensorflow:11 out of the last 11 calls to <function Model.make_predict_function.<locals>.predict_function at 0x0000010AAF790EE8> triggered tf.function retracing. Tracing is expensive and the excessive number of tracings could be due to (1) creating @tf.function repeatedly in a loop, (2) passing tensors with different shapes, (3) passing Python objects instead of tensors. For (1), please define your @tf.function outside of the loop. For (2), @tf.function has experimental_relax_shapes=True option that relaxes argument shapes that can avoid unnecessary retracing. For (3), please refer to https://www.tensorflow.org/tutorials/customization/performance#python_or_tensor_args and https://www.tensorflow.org/api_docs/python/tf/function for  more details.\n",
            "67\n",
            "WARNING:tensorflow:11 out of the last 11 calls to <function Model.make_predict_function.<locals>.predict_function at 0x0000010A20A865E8> triggered tf.function retracing. Tracing is expensive and the excessive number of tracings could be due to (1) creating @tf.function repeatedly in a loop, (2) passing tensors with different shapes, (3) passing Python objects instead of tensors. For (1), please define your @tf.function outside of the loop. For (2), @tf.function has experimental_relax_shapes=True option that relaxes argument shapes that can avoid unnecessary retracing. For (3), please refer to https://www.tensorflow.org/tutorials/customization/performance#python_or_tensor_args and https://www.tensorflow.org/api_docs/python/tf/function for  more details.\n",
            "68\n",
            "WARNING:tensorflow:11 out of the last 11 calls to <function Model.make_predict_function.<locals>.predict_function at 0x0000010A4EBDEE58> triggered tf.function retracing. Tracing is expensive and the excessive number of tracings could be due to (1) creating @tf.function repeatedly in a loop, (2) passing tensors with different shapes, (3) passing Python objects instead of tensors. For (1), please define your @tf.function outside of the loop. For (2), @tf.function has experimental_relax_shapes=True option that relaxes argument shapes that can avoid unnecessary retracing. For (3), please refer to https://www.tensorflow.org/tutorials/customization/performance#python_or_tensor_args and https://www.tensorflow.org/api_docs/python/tf/function for  more details.\n",
            "69\n",
            "WARNING:tensorflow:11 out of the last 11 calls to <function Model.make_predict_function.<locals>.predict_function at 0x0000010A20B7FEE8> triggered tf.function retracing. Tracing is expensive and the excessive number of tracings could be due to (1) creating @tf.function repeatedly in a loop, (2) passing tensors with different shapes, (3) passing Python objects instead of tensors. For (1), please define your @tf.function outside of the loop. For (2), @tf.function has experimental_relax_shapes=True option that relaxes argument shapes that can avoid unnecessary retracing. For (3), please refer to https://www.tensorflow.org/tutorials/customization/performance#python_or_tensor_args and https://www.tensorflow.org/api_docs/python/tf/function for  more details.\n",
            "70\n",
            "WARNING:tensorflow:11 out of the last 11 calls to <function Model.make_predict_function.<locals>.predict_function at 0x0000010A5CA8DAF8> triggered tf.function retracing. Tracing is expensive and the excessive number of tracings could be due to (1) creating @tf.function repeatedly in a loop, (2) passing tensors with different shapes, (3) passing Python objects instead of tensors. For (1), please define your @tf.function outside of the loop. For (2), @tf.function has experimental_relax_shapes=True option that relaxes argument shapes that can avoid unnecessary retracing. For (3), please refer to https://www.tensorflow.org/tutorials/customization/performance#python_or_tensor_args and https://www.tensorflow.org/api_docs/python/tf/function for  more details.\n",
            "71\n",
            "WARNING:tensorflow:11 out of the last 11 calls to <function Model.make_predict_function.<locals>.predict_function at 0x0000010A86F2E798> triggered tf.function retracing. Tracing is expensive and the excessive number of tracings could be due to (1) creating @tf.function repeatedly in a loop, (2) passing tensors with different shapes, (3) passing Python objects instead of tensors. For (1), please define your @tf.function outside of the loop. For (2), @tf.function has experimental_relax_shapes=True option that relaxes argument shapes that can avoid unnecessary retracing. For (3), please refer to https://www.tensorflow.org/tutorials/customization/performance#python_or_tensor_args and https://www.tensorflow.org/api_docs/python/tf/function for  more details.\n",
            "72\n",
            "WARNING:tensorflow:11 out of the last 11 calls to <function Model.make_predict_function.<locals>.predict_function at 0x0000010AAA416438> triggered tf.function retracing. Tracing is expensive and the excessive number of tracings could be due to (1) creating @tf.function repeatedly in a loop, (2) passing tensors with different shapes, (3) passing Python objects instead of tensors. For (1), please define your @tf.function outside of the loop. For (2), @tf.function has experimental_relax_shapes=True option that relaxes argument shapes that can avoid unnecessary retracing. For (3), please refer to https://www.tensorflow.org/tutorials/customization/performance#python_or_tensor_args and https://www.tensorflow.org/api_docs/python/tf/function for  more details.\n",
            "73\n",
            "WARNING:tensorflow:11 out of the last 11 calls to <function Model.make_predict_function.<locals>.predict_function at 0x0000010AC4289318> triggered tf.function retracing. Tracing is expensive and the excessive number of tracings could be due to (1) creating @tf.function repeatedly in a loop, (2) passing tensors with different shapes, (3) passing Python objects instead of tensors. For (1), please define your @tf.function outside of the loop. For (2), @tf.function has experimental_relax_shapes=True option that relaxes argument shapes that can avoid unnecessary retracing. For (3), please refer to https://www.tensorflow.org/tutorials/customization/performance#python_or_tensor_args and https://www.tensorflow.org/api_docs/python/tf/function for  more details.\n",
            "74\n",
            "WARNING:tensorflow:11 out of the last 11 calls to <function Model.make_predict_function.<locals>.predict_function at 0x0000010A6687D3A8> triggered tf.function retracing. Tracing is expensive and the excessive number of tracings could be due to (1) creating @tf.function repeatedly in a loop, (2) passing tensors with different shapes, (3) passing Python objects instead of tensors. For (1), please define your @tf.function outside of the loop. For (2), @tf.function has experimental_relax_shapes=True option that relaxes argument shapes that can avoid unnecessary retracing. For (3), please refer to https://www.tensorflow.org/tutorials/customization/performance#python_or_tensor_args and https://www.tensorflow.org/api_docs/python/tf/function for  more details.\n",
            "75\n",
            "WARNING:tensorflow:11 out of the last 11 calls to <function Model.make_predict_function.<locals>.predict_function at 0x0000010A21236798> triggered tf.function retracing. Tracing is expensive and the excessive number of tracings could be due to (1) creating @tf.function repeatedly in a loop, (2) passing tensors with different shapes, (3) passing Python objects instead of tensors. For (1), please define your @tf.function outside of the loop. For (2), @tf.function has experimental_relax_shapes=True option that relaxes argument shapes that can avoid unnecessary retracing. For (3), please refer to https://www.tensorflow.org/tutorials/customization/performance#python_or_tensor_args and https://www.tensorflow.org/api_docs/python/tf/function for  more details.\n",
            "76\n",
            "WARNING:tensorflow:11 out of the last 11 calls to <function Model.make_predict_function.<locals>.predict_function at 0x0000010A4C0DBC18> triggered tf.function retracing. Tracing is expensive and the excessive number of tracings could be due to (1) creating @tf.function repeatedly in a loop, (2) passing tensors with different shapes, (3) passing Python objects instead of tensors. For (1), please define your @tf.function outside of the loop. For (2), @tf.function has experimental_relax_shapes=True option that relaxes argument shapes that can avoid unnecessary retracing. For (3), please refer to https://www.tensorflow.org/tutorials/customization/performance#python_or_tensor_args and https://www.tensorflow.org/api_docs/python/tf/function for  more details.\n",
            "77\n",
            "WARNING:tensorflow:11 out of the last 11 calls to <function Model.make_predict_function.<locals>.predict_function at 0x0000010AA241AB88> triggered tf.function retracing. Tracing is expensive and the excessive number of tracings could be due to (1) creating @tf.function repeatedly in a loop, (2) passing tensors with different shapes, (3) passing Python objects instead of tensors. For (1), please define your @tf.function outside of the loop. For (2), @tf.function has experimental_relax_shapes=True option that relaxes argument shapes that can avoid unnecessary retracing. For (3), please refer to https://www.tensorflow.org/tutorials/customization/performance#python_or_tensor_args and https://www.tensorflow.org/api_docs/python/tf/function for  more details.\n",
            "78\n",
            "WARNING:tensorflow:11 out of the last 11 calls to <function Model.make_predict_function.<locals>.predict_function at 0x0000010AA5E5E828> triggered tf.function retracing. Tracing is expensive and the excessive number of tracings could be due to (1) creating @tf.function repeatedly in a loop, (2) passing tensors with different shapes, (3) passing Python objects instead of tensors. For (1), please define your @tf.function outside of the loop. For (2), @tf.function has experimental_relax_shapes=True option that relaxes argument shapes that can avoid unnecessary retracing. For (3), please refer to https://www.tensorflow.org/tutorials/customization/performance#python_or_tensor_args and https://www.tensorflow.org/api_docs/python/tf/function for  more details.\n",
            "79\n",
            "WARNING:tensorflow:11 out of the last 11 calls to <function Model.make_predict_function.<locals>.predict_function at 0x0000010ABD80B4C8> triggered tf.function retracing. Tracing is expensive and the excessive number of tracings could be due to (1) creating @tf.function repeatedly in a loop, (2) passing tensors with different shapes, (3) passing Python objects instead of tensors. For (1), please define your @tf.function outside of the loop. For (2), @tf.function has experimental_relax_shapes=True option that relaxes argument shapes that can avoid unnecessary retracing. For (3), please refer to https://www.tensorflow.org/tutorials/customization/performance#python_or_tensor_args and https://www.tensorflow.org/api_docs/python/tf/function for  more details.\n",
            "80\n",
            "WARNING:tensorflow:11 out of the last 11 calls to <function Model.make_predict_function.<locals>.predict_function at 0x0000010AA88105E8> triggered tf.function retracing. Tracing is expensive and the excessive number of tracings could be due to (1) creating @tf.function repeatedly in a loop, (2) passing tensors with different shapes, (3) passing Python objects instead of tensors. For (1), please define your @tf.function outside of the loop. For (2), @tf.function has experimental_relax_shapes=True option that relaxes argument shapes that can avoid unnecessary retracing. For (3), please refer to https://www.tensorflow.org/tutorials/customization/performance#python_or_tensor_args and https://www.tensorflow.org/api_docs/python/tf/function for  more details.\n",
            "81\n",
            "WARNING:tensorflow:11 out of the last 11 calls to <function Model.make_predict_function.<locals>.predict_function at 0x0000010A75261B88> triggered tf.function retracing. Tracing is expensive and the excessive number of tracings could be due to (1) creating @tf.function repeatedly in a loop, (2) passing tensors with different shapes, (3) passing Python objects instead of tensors. For (1), please define your @tf.function outside of the loop. For (2), @tf.function has experimental_relax_shapes=True option that relaxes argument shapes that can avoid unnecessary retracing. For (3), please refer to https://www.tensorflow.org/tutorials/customization/performance#python_or_tensor_args and https://www.tensorflow.org/api_docs/python/tf/function for  more details.\n",
            "82\n",
            "WARNING:tensorflow:11 out of the last 11 calls to <function Model.make_predict_function.<locals>.predict_function at 0x0000010A57406288> triggered tf.function retracing. Tracing is expensive and the excessive number of tracings could be due to (1) creating @tf.function repeatedly in a loop, (2) passing tensors with different shapes, (3) passing Python objects instead of tensors. For (1), please define your @tf.function outside of the loop. For (2), @tf.function has experimental_relax_shapes=True option that relaxes argument shapes that can avoid unnecessary retracing. For (3), please refer to https://www.tensorflow.org/tutorials/customization/performance#python_or_tensor_args and https://www.tensorflow.org/api_docs/python/tf/function for  more details.\n",
            "83\n",
            "WARNING:tensorflow:11 out of the last 11 calls to <function Model.make_predict_function.<locals>.predict_function at 0x0000010A63742CA8> triggered tf.function retracing. Tracing is expensive and the excessive number of tracings could be due to (1) creating @tf.function repeatedly in a loop, (2) passing tensors with different shapes, (3) passing Python objects instead of tensors. For (1), please define your @tf.function outside of the loop. For (2), @tf.function has experimental_relax_shapes=True option that relaxes argument shapes that can avoid unnecessary retracing. For (3), please refer to https://www.tensorflow.org/tutorials/customization/performance#python_or_tensor_args and https://www.tensorflow.org/api_docs/python/tf/function for  more details.\n",
            "84\n",
            "WARNING:tensorflow:11 out of the last 11 calls to <function Model.make_predict_function.<locals>.predict_function at 0x0000010A84F2F948> triggered tf.function retracing. Tracing is expensive and the excessive number of tracings could be due to (1) creating @tf.function repeatedly in a loop, (2) passing tensors with different shapes, (3) passing Python objects instead of tensors. For (1), please define your @tf.function outside of the loop. For (2), @tf.function has experimental_relax_shapes=True option that relaxes argument shapes that can avoid unnecessary retracing. For (3), please refer to https://www.tensorflow.org/tutorials/customization/performance#python_or_tensor_args and https://www.tensorflow.org/api_docs/python/tf/function for  more details.\n",
            "85\n",
            "WARNING:tensorflow:11 out of the last 11 calls to <function Model.make_predict_function.<locals>.predict_function at 0x0000010AB8F245E8> triggered tf.function retracing. Tracing is expensive and the excessive number of tracings could be due to (1) creating @tf.function repeatedly in a loop, (2) passing tensors with different shapes, (3) passing Python objects instead of tensors. For (1), please define your @tf.function outside of the loop. For (2), @tf.function has experimental_relax_shapes=True option that relaxes argument shapes that can avoid unnecessary retracing. For (3), please refer to https://www.tensorflow.org/tutorials/customization/performance#python_or_tensor_args and https://www.tensorflow.org/api_docs/python/tf/function for  more details.\n",
            "86\n",
            "WARNING:tensorflow:11 out of the last 11 calls to <function Model.make_predict_function.<locals>.predict_function at 0x0000010AD455C4C8> triggered tf.function retracing. Tracing is expensive and the excessive number of tracings could be due to (1) creating @tf.function repeatedly in a loop, (2) passing tensors with different shapes, (3) passing Python objects instead of tensors. For (1), please define your @tf.function outside of the loop. For (2), @tf.function has experimental_relax_shapes=True option that relaxes argument shapes that can avoid unnecessary retracing. For (3), please refer to https://www.tensorflow.org/tutorials/customization/performance#python_or_tensor_args and https://www.tensorflow.org/api_docs/python/tf/function for  more details.\n",
            "87\n",
            "WARNING:tensorflow:11 out of the last 11 calls to <function Model.make_predict_function.<locals>.predict_function at 0x0000010AA36FFCA8> triggered tf.function retracing. Tracing is expensive and the excessive number of tracings could be due to (1) creating @tf.function repeatedly in a loop, (2) passing tensors with different shapes, (3) passing Python objects instead of tensors. For (1), please define your @tf.function outside of the loop. For (2), @tf.function has experimental_relax_shapes=True option that relaxes argument shapes that can avoid unnecessary retracing. For (3), please refer to https://www.tensorflow.org/tutorials/customization/performance#python_or_tensor_args and https://www.tensorflow.org/api_docs/python/tf/function for  more details.\n",
            "88\n",
            "WARNING:tensorflow:11 out of the last 11 calls to <function Model.make_predict_function.<locals>.predict_function at 0x0000010AA5EF8048> triggered tf.function retracing. Tracing is expensive and the excessive number of tracings could be due to (1) creating @tf.function repeatedly in a loop, (2) passing tensors with different shapes, (3) passing Python objects instead of tensors. For (1), please define your @tf.function outside of the loop. For (2), @tf.function has experimental_relax_shapes=True option that relaxes argument shapes that can avoid unnecessary retracing. For (3), please refer to https://www.tensorflow.org/tutorials/customization/performance#python_or_tensor_args and https://www.tensorflow.org/api_docs/python/tf/function for  more details.\n",
            "89\n",
            "WARNING:tensorflow:11 out of the last 11 calls to <function Model.make_predict_function.<locals>.predict_function at 0x0000010AA1777318> triggered tf.function retracing. Tracing is expensive and the excessive number of tracings could be due to (1) creating @tf.function repeatedly in a loop, (2) passing tensors with different shapes, (3) passing Python objects instead of tensors. For (1), please define your @tf.function outside of the loop. For (2), @tf.function has experimental_relax_shapes=True option that relaxes argument shapes that can avoid unnecessary retracing. For (3), please refer to https://www.tensorflow.org/tutorials/customization/performance#python_or_tensor_args and https://www.tensorflow.org/api_docs/python/tf/function for  more details.\n",
            "90\n",
            "WARNING:tensorflow:11 out of the last 11 calls to <function Model.make_predict_function.<locals>.predict_function at 0x0000010AAB3C4D38> triggered tf.function retracing. Tracing is expensive and the excessive number of tracings could be due to (1) creating @tf.function repeatedly in a loop, (2) passing tensors with different shapes, (3) passing Python objects instead of tensors. For (1), please define your @tf.function outside of the loop. For (2), @tf.function has experimental_relax_shapes=True option that relaxes argument shapes that can avoid unnecessary retracing. For (3), please refer to https://www.tensorflow.org/tutorials/customization/performance#python_or_tensor_args and https://www.tensorflow.org/api_docs/python/tf/function for  more details.\n",
            "91\n",
            "WARNING:tensorflow:11 out of the last 11 calls to <function Model.make_predict_function.<locals>.predict_function at 0x0000010AA212E9D8> triggered tf.function retracing. Tracing is expensive and the excessive number of tracings could be due to (1) creating @tf.function repeatedly in a loop, (2) passing tensors with different shapes, (3) passing Python objects instead of tensors. For (1), please define your @tf.function outside of the loop. For (2), @tf.function has experimental_relax_shapes=True option that relaxes argument shapes that can avoid unnecessary retracing. For (3), please refer to https://www.tensorflow.org/tutorials/customization/performance#python_or_tensor_args and https://www.tensorflow.org/api_docs/python/tf/function for  more details.\n",
            "92\n",
            "WARNING:tensorflow:11 out of the last 11 calls to <function Model.make_predict_function.<locals>.predict_function at 0x0000010AC7E77678> triggered tf.function retracing. Tracing is expensive and the excessive number of tracings could be due to (1) creating @tf.function repeatedly in a loop, (2) passing tensors with different shapes, (3) passing Python objects instead of tensors. For (1), please define your @tf.function outside of the loop. For (2), @tf.function has experimental_relax_shapes=True option that relaxes argument shapes that can avoid unnecessary retracing. For (3), please refer to https://www.tensorflow.org/tutorials/customization/performance#python_or_tensor_args and https://www.tensorflow.org/api_docs/python/tf/function for  more details.\n",
            "93\n",
            "WARNING:tensorflow:11 out of the last 11 calls to <function Model.make_predict_function.<locals>.predict_function at 0x0000010ADC99D318> triggered tf.function retracing. Tracing is expensive and the excessive number of tracings could be due to (1) creating @tf.function repeatedly in a loop, (2) passing tensors with different shapes, (3) passing Python objects instead of tensors. For (1), please define your @tf.function outside of the loop. For (2), @tf.function has experimental_relax_shapes=True option that relaxes argument shapes that can avoid unnecessary retracing. For (3), please refer to https://www.tensorflow.org/tutorials/customization/performance#python_or_tensor_args and https://www.tensorflow.org/api_docs/python/tf/function for  more details.\n",
            "94\n",
            "WARNING:tensorflow:11 out of the last 11 calls to <function Model.make_predict_function.<locals>.predict_function at 0x0000010A6EC3CAF8> triggered tf.function retracing. Tracing is expensive and the excessive number of tracings could be due to (1) creating @tf.function repeatedly in a loop, (2) passing tensors with different shapes, (3) passing Python objects instead of tensors. For (1), please define your @tf.function outside of the loop. For (2), @tf.function has experimental_relax_shapes=True option that relaxes argument shapes that can avoid unnecessary retracing. For (3), please refer to https://www.tensorflow.org/tutorials/customization/performance#python_or_tensor_args and https://www.tensorflow.org/api_docs/python/tf/function for  more details.\n",
            "95\n",
            "WARNING:tensorflow:11 out of the last 11 calls to <function Model.make_predict_function.<locals>.predict_function at 0x0000010AB8F864C8> triggered tf.function retracing. Tracing is expensive and the excessive number of tracings could be due to (1) creating @tf.function repeatedly in a loop, (2) passing tensors with different shapes, (3) passing Python objects instead of tensors. For (1), please define your @tf.function outside of the loop. For (2), @tf.function has experimental_relax_shapes=True option that relaxes argument shapes that can avoid unnecessary retracing. For (3), please refer to https://www.tensorflow.org/tutorials/customization/performance#python_or_tensor_args and https://www.tensorflow.org/api_docs/python/tf/function for  more details.\n",
            "96\n",
            "WARNING:tensorflow:11 out of the last 11 calls to <function Model.make_predict_function.<locals>.predict_function at 0x0000010AD013F558> triggered tf.function retracing. Tracing is expensive and the excessive number of tracings could be due to (1) creating @tf.function repeatedly in a loop, (2) passing tensors with different shapes, (3) passing Python objects instead of tensors. For (1), please define your @tf.function outside of the loop. For (2), @tf.function has experimental_relax_shapes=True option that relaxes argument shapes that can avoid unnecessary retracing. For (3), please refer to https://www.tensorflow.org/tutorials/customization/performance#python_or_tensor_args and https://www.tensorflow.org/api_docs/python/tf/function for  more details.\n",
            "97\n",
            "WARNING:tensorflow:11 out of the last 11 calls to <function Model.make_predict_function.<locals>.predict_function at 0x0000010ABEF62438> triggered tf.function retracing. Tracing is expensive and the excessive number of tracings could be due to (1) creating @tf.function repeatedly in a loop, (2) passing tensors with different shapes, (3) passing Python objects instead of tensors. For (1), please define your @tf.function outside of the loop. For (2), @tf.function has experimental_relax_shapes=True option that relaxes argument shapes that can avoid unnecessary retracing. For (3), please refer to https://www.tensorflow.org/tutorials/customization/performance#python_or_tensor_args and https://www.tensorflow.org/api_docs/python/tf/function for  more details.\n",
            "98\n",
            "WARNING:tensorflow:11 out of the last 11 calls to <function Model.make_predict_function.<locals>.predict_function at 0x0000010AB8033EE8> triggered tf.function retracing. Tracing is expensive and the excessive number of tracings could be due to (1) creating @tf.function repeatedly in a loop, (2) passing tensors with different shapes, (3) passing Python objects instead of tensors. For (1), please define your @tf.function outside of the loop. For (2), @tf.function has experimental_relax_shapes=True option that relaxes argument shapes that can avoid unnecessary retracing. For (3), please refer to https://www.tensorflow.org/tutorials/customization/performance#python_or_tensor_args and https://www.tensorflow.org/api_docs/python/tf/function for  more details.\n",
            "99\n",
            "WARNING:tensorflow:11 out of the last 11 calls to <function Model.make_predict_function.<locals>.predict_function at 0x0000010AE2439AF8> triggered tf.function retracing. Tracing is expensive and the excessive number of tracings could be due to (1) creating @tf.function repeatedly in a loop, (2) passing tensors with different shapes, (3) passing Python objects instead of tensors. For (1), please define your @tf.function outside of the loop. For (2), @tf.function has experimental_relax_shapes=True option that relaxes argument shapes that can avoid unnecessary retracing. For (3), please refer to https://www.tensorflow.org/tutorials/customization/performance#python_or_tensor_args and https://www.tensorflow.org/api_docs/python/tf/function for  more details.\n",
            "100\n",
            "WARNING:tensorflow:11 out of the last 11 calls to <function Model.make_predict_function.<locals>.predict_function at 0x0000010AF0598798> triggered tf.function retracing. Tracing is expensive and the excessive number of tracings could be due to (1) creating @tf.function repeatedly in a loop, (2) passing tensors with different shapes, (3) passing Python objects instead of tensors. For (1), please define your @tf.function outside of the loop. For (2), @tf.function has experimental_relax_shapes=True option that relaxes argument shapes that can avoid unnecessary retracing. For (3), please refer to https://www.tensorflow.org/tutorials/customization/performance#python_or_tensor_args and https://www.tensorflow.org/api_docs/python/tf/function for  more details.\n",
            "101\n",
            "WARNING:tensorflow:11 out of the last 11 calls to <function Model.make_predict_function.<locals>.predict_function at 0x0000010AD461D3A8> triggered tf.function retracing. Tracing is expensive and the excessive number of tracings could be due to (1) creating @tf.function repeatedly in a loop, (2) passing tensors with different shapes, (3) passing Python objects instead of tensors. For (1), please define your @tf.function outside of the loop. For (2), @tf.function has experimental_relax_shapes=True option that relaxes argument shapes that can avoid unnecessary retracing. For (3), please refer to https://www.tensorflow.org/tutorials/customization/performance#python_or_tensor_args and https://www.tensorflow.org/api_docs/python/tf/function for  more details.\n",
            "102\n",
            "WARNING:tensorflow:11 out of the last 11 calls to <function Model.make_predict_function.<locals>.predict_function at 0x0000010AAA416CA8> triggered tf.function retracing. Tracing is expensive and the excessive number of tracings could be due to (1) creating @tf.function repeatedly in a loop, (2) passing tensors with different shapes, (3) passing Python objects instead of tensors. For (1), please define your @tf.function outside of the loop. For (2), @tf.function has experimental_relax_shapes=True option that relaxes argument shapes that can avoid unnecessary retracing. For (3), please refer to https://www.tensorflow.org/tutorials/customization/performance#python_or_tensor_args and https://www.tensorflow.org/api_docs/python/tf/function for  more details.\n",
            "103\n",
            "WARNING:tensorflow:11 out of the last 11 calls to <function Model.make_predict_function.<locals>.predict_function at 0x0000010A84FF8D38> triggered tf.function retracing. Tracing is expensive and the excessive number of tracings could be due to (1) creating @tf.function repeatedly in a loop, (2) passing tensors with different shapes, (3) passing Python objects instead of tensors. For (1), please define your @tf.function outside of the loop. For (2), @tf.function has experimental_relax_shapes=True option that relaxes argument shapes that can avoid unnecessary retracing. For (3), please refer to https://www.tensorflow.org/tutorials/customization/performance#python_or_tensor_args and https://www.tensorflow.org/api_docs/python/tf/function for  more details.\n",
            "104\n",
            "WARNING:tensorflow:11 out of the last 11 calls to <function Model.make_predict_function.<locals>.predict_function at 0x0000010ACCCBA9D8> triggered tf.function retracing. Tracing is expensive and the excessive number of tracings could be due to (1) creating @tf.function repeatedly in a loop, (2) passing tensors with different shapes, (3) passing Python objects instead of tensors. For (1), please define your @tf.function outside of the loop. For (2), @tf.function has experimental_relax_shapes=True option that relaxes argument shapes that can avoid unnecessary retracing. For (3), please refer to https://www.tensorflow.org/tutorials/customization/performance#python_or_tensor_args and https://www.tensorflow.org/api_docs/python/tf/function for  more details.\n",
            "105\n",
            "WARNING:tensorflow:11 out of the last 11 calls to <function Model.make_predict_function.<locals>.predict_function at 0x0000010AA5C3B678> triggered tf.function retracing. Tracing is expensive and the excessive number of tracings could be due to (1) creating @tf.function repeatedly in a loop, (2) passing tensors with different shapes, (3) passing Python objects instead of tensors. For (1), please define your @tf.function outside of the loop. For (2), @tf.function has experimental_relax_shapes=True option that relaxes argument shapes that can avoid unnecessary retracing. For (3), please refer to https://www.tensorflow.org/tutorials/customization/performance#python_or_tensor_args and https://www.tensorflow.org/api_docs/python/tf/function for  more details.\n",
            "106\n",
            "WARNING:tensorflow:11 out of the last 11 calls to <function Model.make_predict_function.<locals>.predict_function at 0x0000010ACFEA1318> triggered tf.function retracing. Tracing is expensive and the excessive number of tracings could be due to (1) creating @tf.function repeatedly in a loop, (2) passing tensors with different shapes, (3) passing Python objects instead of tensors. For (1), please define your @tf.function outside of the loop. For (2), @tf.function has experimental_relax_shapes=True option that relaxes argument shapes that can avoid unnecessary retracing. For (3), please refer to https://www.tensorflow.org/tutorials/customization/performance#python_or_tensor_args and https://www.tensorflow.org/api_docs/python/tf/function for  more details.\n",
            "107\n",
            "WARNING:tensorflow:11 out of the last 11 calls to <function Model.make_predict_function.<locals>.predict_function at 0x0000010AE7F8F1F8> triggered tf.function retracing. Tracing is expensive and the excessive number of tracings could be due to (1) creating @tf.function repeatedly in a loop, (2) passing tensors with different shapes, (3) passing Python objects instead of tensors. For (1), please define your @tf.function outside of the loop. For (2), @tf.function has experimental_relax_shapes=True option that relaxes argument shapes that can avoid unnecessary retracing. For (3), please refer to https://www.tensorflow.org/tutorials/customization/performance#python_or_tensor_args and https://www.tensorflow.org/api_docs/python/tf/function for  more details.\n",
            "108\n",
            "WARNING:tensorflow:11 out of the last 11 calls to <function Model.make_predict_function.<locals>.predict_function at 0x0000010AC6521A68> triggered tf.function retracing. Tracing is expensive and the excessive number of tracings could be due to (1) creating @tf.function repeatedly in a loop, (2) passing tensors with different shapes, (3) passing Python objects instead of tensors. For (1), please define your @tf.function outside of the loop. For (2), @tf.function has experimental_relax_shapes=True option that relaxes argument shapes that can avoid unnecessary retracing. For (3), please refer to https://www.tensorflow.org/tutorials/customization/performance#python_or_tensor_args and https://www.tensorflow.org/api_docs/python/tf/function for  more details.\n",
            "109\n",
            "WARNING:tensorflow:11 out of the last 11 calls to <function Model.make_predict_function.<locals>.predict_function at 0x0000010AE479A8B8> triggered tf.function retracing. Tracing is expensive and the excessive number of tracings could be due to (1) creating @tf.function repeatedly in a loop, (2) passing tensors with different shapes, (3) passing Python objects instead of tensors. For (1), please define your @tf.function outside of the loop. For (2), @tf.function has experimental_relax_shapes=True option that relaxes argument shapes that can avoid unnecessary retracing. For (3), please refer to https://www.tensorflow.org/tutorials/customization/performance#python_or_tensor_args and https://www.tensorflow.org/api_docs/python/tf/function for  more details.\n",
            "110\n",
            "WARNING:tensorflow:11 out of the last 11 calls to <function Model.make_predict_function.<locals>.predict_function at 0x0000010ACFAB8D38> triggered tf.function retracing. Tracing is expensive and the excessive number of tracings could be due to (1) creating @tf.function repeatedly in a loop, (2) passing tensors with different shapes, (3) passing Python objects instead of tensors. For (1), please define your @tf.function outside of the loop. For (2), @tf.function has experimental_relax_shapes=True option that relaxes argument shapes that can avoid unnecessary retracing. For (3), please refer to https://www.tensorflow.org/tutorials/customization/performance#python_or_tensor_args and https://www.tensorflow.org/api_docs/python/tf/function for  more details.\n",
            "111\n",
            "WARNING:tensorflow:11 out of the last 11 calls to <function Model.make_predict_function.<locals>.predict_function at 0x0000010ADC68B9D8> triggered tf.function retracing. Tracing is expensive and the excessive number of tracings could be due to (1) creating @tf.function repeatedly in a loop, (2) passing tensors with different shapes, (3) passing Python objects instead of tensors. For (1), please define your @tf.function outside of the loop. For (2), @tf.function has experimental_relax_shapes=True option that relaxes argument shapes that can avoid unnecessary retracing. For (3), please refer to https://www.tensorflow.org/tutorials/customization/performance#python_or_tensor_args and https://www.tensorflow.org/api_docs/python/tf/function for  more details.\n",
            "112\n",
            "WARNING:tensorflow:11 out of the last 11 calls to <function Model.make_predict_function.<locals>.predict_function at 0x0000010ABEC57678> triggered tf.function retracing. Tracing is expensive and the excessive number of tracings could be due to (1) creating @tf.function repeatedly in a loop, (2) passing tensors with different shapes, (3) passing Python objects instead of tensors. For (1), please define your @tf.function outside of the loop. For (2), @tf.function has experimental_relax_shapes=True option that relaxes argument shapes that can avoid unnecessary retracing. For (3), please refer to https://www.tensorflow.org/tutorials/customization/performance#python_or_tensor_args and https://www.tensorflow.org/api_docs/python/tf/function for  more details.\n",
            "113\n",
            "WARNING:tensorflow:11 out of the last 11 calls to <function Model.make_predict_function.<locals>.predict_function at 0x0000010AF439D318> triggered tf.function retracing. Tracing is expensive and the excessive number of tracings could be due to (1) creating @tf.function repeatedly in a loop, (2) passing tensors with different shapes, (3) passing Python objects instead of tensors. For (1), please define your @tf.function outside of the loop. For (2), @tf.function has experimental_relax_shapes=True option that relaxes argument shapes that can avoid unnecessary retracing. For (3), please refer to https://www.tensorflow.org/tutorials/customization/performance#python_or_tensor_args and https://www.tensorflow.org/api_docs/python/tf/function for  more details.\n",
            "114\n",
            "WARNING:tensorflow:11 out of the last 11 calls to <function Model.make_predict_function.<locals>.predict_function at 0x0000010AFD28E1F8> triggered tf.function retracing. Tracing is expensive and the excessive number of tracings could be due to (1) creating @tf.function repeatedly in a loop, (2) passing tensors with different shapes, (3) passing Python objects instead of tensors. For (1), please define your @tf.function outside of the loop. For (2), @tf.function has experimental_relax_shapes=True option that relaxes argument shapes that can avoid unnecessary retracing. For (3), please refer to https://www.tensorflow.org/tutorials/customization/performance#python_or_tensor_args and https://www.tensorflow.org/api_docs/python/tf/function for  more details.\n",
            "115\n",
            "WARNING:tensorflow:11 out of the last 11 calls to <function Model.make_predict_function.<locals>.predict_function at 0x0000010ADC68BB88> triggered tf.function retracing. Tracing is expensive and the excessive number of tracings could be due to (1) creating @tf.function repeatedly in a loop, (2) passing tensors with different shapes, (3) passing Python objects instead of tensors. For (1), please define your @tf.function outside of the loop. For (2), @tf.function has experimental_relax_shapes=True option that relaxes argument shapes that can avoid unnecessary retracing. For (3), please refer to https://www.tensorflow.org/tutorials/customization/performance#python_or_tensor_args and https://www.tensorflow.org/api_docs/python/tf/function for  more details.\n",
            "116\n",
            "WARNING:tensorflow:11 out of the last 11 calls to <function Model.make_predict_function.<locals>.predict_function at 0x0000010A41A930D8> triggered tf.function retracing. Tracing is expensive and the excessive number of tracings could be due to (1) creating @tf.function repeatedly in a loop, (2) passing tensors with different shapes, (3) passing Python objects instead of tensors. For (1), please define your @tf.function outside of the loop. For (2), @tf.function has experimental_relax_shapes=True option that relaxes argument shapes that can avoid unnecessary retracing. For (3), please refer to https://www.tensorflow.org/tutorials/customization/performance#python_or_tensor_args and https://www.tensorflow.org/api_docs/python/tf/function for  more details.\n",
            "117\n",
            "WARNING:tensorflow:11 out of the last 11 calls to <function Model.make_predict_function.<locals>.predict_function at 0x0000010AAA883558> triggered tf.function retracing. Tracing is expensive and the excessive number of tracings could be due to (1) creating @tf.function repeatedly in a loop, (2) passing tensors with different shapes, (3) passing Python objects instead of tensors. For (1), please define your @tf.function outside of the loop. For (2), @tf.function has experimental_relax_shapes=True option that relaxes argument shapes that can avoid unnecessary retracing. For (3), please refer to https://www.tensorflow.org/tutorials/customization/performance#python_or_tensor_args and https://www.tensorflow.org/api_docs/python/tf/function for  more details.\n",
            "118\n",
            "WARNING:tensorflow:11 out of the last 11 calls to <function Model.make_predict_function.<locals>.predict_function at 0x0000010AA7DD7438> triggered tf.function retracing. Tracing is expensive and the excessive number of tracings could be due to (1) creating @tf.function repeatedly in a loop, (2) passing tensors with different shapes, (3) passing Python objects instead of tensors. For (1), please define your @tf.function outside of the loop. For (2), @tf.function has experimental_relax_shapes=True option that relaxes argument shapes that can avoid unnecessary retracing. For (3), please refer to https://www.tensorflow.org/tutorials/customization/performance#python_or_tensor_args and https://www.tensorflow.org/api_docs/python/tf/function for  more details.\n",
            "119\n",
            "WARNING:tensorflow:11 out of the last 11 calls to <function Model.make_predict_function.<locals>.predict_function at 0x0000010ACD828EE8> triggered tf.function retracing. Tracing is expensive and the excessive number of tracings could be due to (1) creating @tf.function repeatedly in a loop, (2) passing tensors with different shapes, (3) passing Python objects instead of tensors. For (1), please define your @tf.function outside of the loop. For (2), @tf.function has experimental_relax_shapes=True option that relaxes argument shapes that can avoid unnecessary retracing. For (3), please refer to https://www.tensorflow.org/tutorials/customization/performance#python_or_tensor_args and https://www.tensorflow.org/api_docs/python/tf/function for  more details.\n",
            "120\n",
            "WARNING:tensorflow:11 out of the last 11 calls to <function Model.make_predict_function.<locals>.predict_function at 0x0000010AD8B28AF8> triggered tf.function retracing. Tracing is expensive and the excessive number of tracings could be due to (1) creating @tf.function repeatedly in a loop, (2) passing tensors with different shapes, (3) passing Python objects instead of tensors. For (1), please define your @tf.function outside of the loop. For (2), @tf.function has experimental_relax_shapes=True option that relaxes argument shapes that can avoid unnecessary retracing. For (3), please refer to https://www.tensorflow.org/tutorials/customization/performance#python_or_tensor_args and https://www.tensorflow.org/api_docs/python/tf/function for  more details.\n",
            "121\n",
            "WARNING:tensorflow:11 out of the last 11 calls to <function Model.make_predict_function.<locals>.predict_function at 0x0000010AF4246798> triggered tf.function retracing. Tracing is expensive and the excessive number of tracings could be due to (1) creating @tf.function repeatedly in a loop, (2) passing tensors with different shapes, (3) passing Python objects instead of tensors. For (1), please define your @tf.function outside of the loop. For (2), @tf.function has experimental_relax_shapes=True option that relaxes argument shapes that can avoid unnecessary retracing. For (3), please refer to https://www.tensorflow.org/tutorials/customization/performance#python_or_tensor_args and https://www.tensorflow.org/api_docs/python/tf/function for  more details.\n",
            "122\n",
            "WARNING:tensorflow:11 out of the last 11 calls to <function Model.make_predict_function.<locals>.predict_function at 0x0000010AB8F86438> triggered tf.function retracing. Tracing is expensive and the excessive number of tracings could be due to (1) creating @tf.function repeatedly in a loop, (2) passing tensors with different shapes, (3) passing Python objects instead of tensors. For (1), please define your @tf.function outside of the loop. For (2), @tf.function has experimental_relax_shapes=True option that relaxes argument shapes that can avoid unnecessary retracing. For (3), please refer to https://www.tensorflow.org/tutorials/customization/performance#python_or_tensor_args and https://www.tensorflow.org/api_docs/python/tf/function for  more details.\n",
            "123\n",
            "WARNING:tensorflow:11 out of the last 11 calls to <function Model.make_predict_function.<locals>.predict_function at 0x0000010AAA4F48B8> triggered tf.function retracing. Tracing is expensive and the excessive number of tracings could be due to (1) creating @tf.function repeatedly in a loop, (2) passing tensors with different shapes, (3) passing Python objects instead of tensors. For (1), please define your @tf.function outside of the loop. For (2), @tf.function has experimental_relax_shapes=True option that relaxes argument shapes that can avoid unnecessary retracing. For (3), please refer to https://www.tensorflow.org/tutorials/customization/performance#python_or_tensor_args and https://www.tensorflow.org/api_docs/python/tf/function for  more details.\n",
            "124\n",
            "WARNING:tensorflow:11 out of the last 11 calls to <function Model.make_predict_function.<locals>.predict_function at 0x0000010AD41DBCA8> triggered tf.function retracing. Tracing is expensive and the excessive number of tracings could be due to (1) creating @tf.function repeatedly in a loop, (2) passing tensors with different shapes, (3) passing Python objects instead of tensors. For (1), please define your @tf.function outside of the loop. For (2), @tf.function has experimental_relax_shapes=True option that relaxes argument shapes that can avoid unnecessary retracing. For (3), please refer to https://www.tensorflow.org/tutorials/customization/performance#python_or_tensor_args and https://www.tensorflow.org/api_docs/python/tf/function for  more details.\n",
            "125\n",
            "WARNING:tensorflow:11 out of the last 11 calls to <function Model.make_predict_function.<locals>.predict_function at 0x0000010AF4098948> triggered tf.function retracing. Tracing is expensive and the excessive number of tracings could be due to (1) creating @tf.function repeatedly in a loop, (2) passing tensors with different shapes, (3) passing Python objects instead of tensors. For (1), please define your @tf.function outside of the loop. For (2), @tf.function has experimental_relax_shapes=True option that relaxes argument shapes that can avoid unnecessary retracing. For (3), please refer to https://www.tensorflow.org/tutorials/customization/performance#python_or_tensor_args and https://www.tensorflow.org/api_docs/python/tf/function for  more details.\n",
            "126\n",
            "WARNING:tensorflow:11 out of the last 11 calls to <function Model.make_predict_function.<locals>.predict_function at 0x0000010AF1CBD288> triggered tf.function retracing. Tracing is expensive and the excessive number of tracings could be due to (1) creating @tf.function repeatedly in a loop, (2) passing tensors with different shapes, (3) passing Python objects instead of tensors. For (1), please define your @tf.function outside of the loop. For (2), @tf.function has experimental_relax_shapes=True option that relaxes argument shapes that can avoid unnecessary retracing. For (3), please refer to https://www.tensorflow.org/tutorials/customization/performance#python_or_tensor_args and https://www.tensorflow.org/api_docs/python/tf/function for  more details.\n",
            "127\n",
            "WARNING:tensorflow:11 out of the last 11 calls to <function Model.make_predict_function.<locals>.predict_function at 0x0000010ABECABCA8> triggered tf.function retracing. Tracing is expensive and the excessive number of tracings could be due to (1) creating @tf.function repeatedly in a loop, (2) passing tensors with different shapes, (3) passing Python objects instead of tensors. For (1), please define your @tf.function outside of the loop. For (2), @tf.function has experimental_relax_shapes=True option that relaxes argument shapes that can avoid unnecessary retracing. For (3), please refer to https://www.tensorflow.org/tutorials/customization/performance#python_or_tensor_args and https://www.tensorflow.org/api_docs/python/tf/function for  more details.\n",
            "128\n",
            "WARNING:tensorflow:11 out of the last 11 calls to <function Model.make_predict_function.<locals>.predict_function at 0x0000010AE9DD09D8> triggered tf.function retracing. Tracing is expensive and the excessive number of tracings could be due to (1) creating @tf.function repeatedly in a loop, (2) passing tensors with different shapes, (3) passing Python objects instead of tensors. For (1), please define your @tf.function outside of the loop. For (2), @tf.function has experimental_relax_shapes=True option that relaxes argument shapes that can avoid unnecessary retracing. For (3), please refer to https://www.tensorflow.org/tutorials/customization/performance#python_or_tensor_args and https://www.tensorflow.org/api_docs/python/tf/function for  more details.\n",
            "129\n",
            "WARNING:tensorflow:11 out of the last 11 calls to <function Model.make_predict_function.<locals>.predict_function at 0x0000010B058F9948> triggered tf.function retracing. Tracing is expensive and the excessive number of tracings could be due to (1) creating @tf.function repeatedly in a loop, (2) passing tensors with different shapes, (3) passing Python objects instead of tensors. For (1), please define your @tf.function outside of the loop. For (2), @tf.function has experimental_relax_shapes=True option that relaxes argument shapes that can avoid unnecessary retracing. For (3), please refer to https://www.tensorflow.org/tutorials/customization/performance#python_or_tensor_args and https://www.tensorflow.org/api_docs/python/tf/function for  more details.\n",
            "130\n",
            "WARNING:tensorflow:11 out of the last 11 calls to <function Model.make_predict_function.<locals>.predict_function at 0x0000010ACD3CB8B8> triggered tf.function retracing. Tracing is expensive and the excessive number of tracings could be due to (1) creating @tf.function repeatedly in a loop, (2) passing tensors with different shapes, (3) passing Python objects instead of tensors. For (1), please define your @tf.function outside of the loop. For (2), @tf.function has experimental_relax_shapes=True option that relaxes argument shapes that can avoid unnecessary retracing. For (3), please refer to https://www.tensorflow.org/tutorials/customization/performance#python_or_tensor_args and https://www.tensorflow.org/api_docs/python/tf/function for  more details.\n",
            "131\n",
            "WARNING:tensorflow:11 out of the last 11 calls to <function Model.make_predict_function.<locals>.predict_function at 0x0000010A7057BB88> triggered tf.function retracing. Tracing is expensive and the excessive number of tracings could be due to (1) creating @tf.function repeatedly in a loop, (2) passing tensors with different shapes, (3) passing Python objects instead of tensors. For (1), please define your @tf.function outside of the loop. For (2), @tf.function has experimental_relax_shapes=True option that relaxes argument shapes that can avoid unnecessary retracing. For (3), please refer to https://www.tensorflow.org/tutorials/customization/performance#python_or_tensor_args and https://www.tensorflow.org/api_docs/python/tf/function for  more details.\n",
            "132\n",
            "WARNING:tensorflow:11 out of the last 11 calls to <function Model.make_predict_function.<locals>.predict_function at 0x0000010AE9DFDAF8> triggered tf.function retracing. Tracing is expensive and the excessive number of tracings could be due to (1) creating @tf.function repeatedly in a loop, (2) passing tensors with different shapes, (3) passing Python objects instead of tensors. For (1), please define your @tf.function outside of the loop. For (2), @tf.function has experimental_relax_shapes=True option that relaxes argument shapes that can avoid unnecessary retracing. For (3), please refer to https://www.tensorflow.org/tutorials/customization/performance#python_or_tensor_args and https://www.tensorflow.org/api_docs/python/tf/function for  more details.\n",
            "133\n",
            "WARNING:tensorflow:11 out of the last 11 calls to <function Model.make_predict_function.<locals>.predict_function at 0x0000010ABEA03A68> triggered tf.function retracing. Tracing is expensive and the excessive number of tracings could be due to (1) creating @tf.function repeatedly in a loop, (2) passing tensors with different shapes, (3) passing Python objects instead of tensors. For (1), please define your @tf.function outside of the loop. For (2), @tf.function has experimental_relax_shapes=True option that relaxes argument shapes that can avoid unnecessary retracing. For (3), please refer to https://www.tensorflow.org/tutorials/customization/performance#python_or_tensor_args and https://www.tensorflow.org/api_docs/python/tf/function for  more details.\n",
            "134\n",
            "WARNING:tensorflow:11 out of the last 11 calls to <function Model.make_predict_function.<locals>.predict_function at 0x0000010ACDA349D8> triggered tf.function retracing. Tracing is expensive and the excessive number of tracings could be due to (1) creating @tf.function repeatedly in a loop, (2) passing tensors with different shapes, (3) passing Python objects instead of tensors. For (1), please define your @tf.function outside of the loop. For (2), @tf.function has experimental_relax_shapes=True option that relaxes argument shapes that can avoid unnecessary retracing. For (3), please refer to https://www.tensorflow.org/tutorials/customization/performance#python_or_tensor_args and https://www.tensorflow.org/api_docs/python/tf/function for  more details.\n",
            "135\n",
            "WARNING:tensorflow:11 out of the last 11 calls to <function Model.make_predict_function.<locals>.predict_function at 0x0000010A9AC8E948> triggered tf.function retracing. Tracing is expensive and the excessive number of tracings could be due to (1) creating @tf.function repeatedly in a loop, (2) passing tensors with different shapes, (3) passing Python objects instead of tensors. For (1), please define your @tf.function outside of the loop. For (2), @tf.function has experimental_relax_shapes=True option that relaxes argument shapes that can avoid unnecessary retracing. For (3), please refer to https://www.tensorflow.org/tutorials/customization/performance#python_or_tensor_args and https://www.tensorflow.org/api_docs/python/tf/function for  more details.\n",
            "136\n",
            "WARNING:tensorflow:11 out of the last 11 calls to <function Model.make_predict_function.<locals>.predict_function at 0x0000010ADF1568B8> triggered tf.function retracing. Tracing is expensive and the excessive number of tracings could be due to (1) creating @tf.function repeatedly in a loop, (2) passing tensors with different shapes, (3) passing Python objects instead of tensors. For (1), please define your @tf.function outside of the loop. For (2), @tf.function has experimental_relax_shapes=True option that relaxes argument shapes that can avoid unnecessary retracing. For (3), please refer to https://www.tensorflow.org/tutorials/customization/performance#python_or_tensor_args and https://www.tensorflow.org/api_docs/python/tf/function for  more details.\n",
            "137\n",
            "WARNING:tensorflow:11 out of the last 11 calls to <function Model.make_predict_function.<locals>.predict_function at 0x0000010AF747B828> triggered tf.function retracing. Tracing is expensive and the excessive number of tracings could be due to (1) creating @tf.function repeatedly in a loop, (2) passing tensors with different shapes, (3) passing Python objects instead of tensors. For (1), please define your @tf.function outside of the loop. For (2), @tf.function has experimental_relax_shapes=True option that relaxes argument shapes that can avoid unnecessary retracing. For (3), please refer to https://www.tensorflow.org/tutorials/customization/performance#python_or_tensor_args and https://www.tensorflow.org/api_docs/python/tf/function for  more details.\n",
            "138\n",
            "WARNING:tensorflow:11 out of the last 11 calls to <function Model.make_predict_function.<locals>.predict_function at 0x0000010B110DF798> triggered tf.function retracing. Tracing is expensive and the excessive number of tracings could be due to (1) creating @tf.function repeatedly in a loop, (2) passing tensors with different shapes, (3) passing Python objects instead of tensors. For (1), please define your @tf.function outside of the loop. For (2), @tf.function has experimental_relax_shapes=True option that relaxes argument shapes that can avoid unnecessary retracing. For (3), please refer to https://www.tensorflow.org/tutorials/customization/performance#python_or_tensor_args and https://www.tensorflow.org/api_docs/python/tf/function for  more details.\n",
            "139\n",
            "WARNING:tensorflow:11 out of the last 11 calls to <function Model.make_predict_function.<locals>.predict_function at 0x0000010B11256798> triggered tf.function retracing. Tracing is expensive and the excessive number of tracings could be due to (1) creating @tf.function repeatedly in a loop, (2) passing tensors with different shapes, (3) passing Python objects instead of tensors. For (1), please define your @tf.function outside of the loop. For (2), @tf.function has experimental_relax_shapes=True option that relaxes argument shapes that can avoid unnecessary retracing. For (3), please refer to https://www.tensorflow.org/tutorials/customization/performance#python_or_tensor_args and https://www.tensorflow.org/api_docs/python/tf/function for  more details.\n",
            "140\n",
            "WARNING:tensorflow:11 out of the last 11 calls to <function Model.make_predict_function.<locals>.predict_function at 0x0000010ABE980E58> triggered tf.function retracing. Tracing is expensive and the excessive number of tracings could be due to (1) creating @tf.function repeatedly in a loop, (2) passing tensors with different shapes, (3) passing Python objects instead of tensors. For (1), please define your @tf.function outside of the loop. For (2), @tf.function has experimental_relax_shapes=True option that relaxes argument shapes that can avoid unnecessary retracing. For (3), please refer to https://www.tensorflow.org/tutorials/customization/performance#python_or_tensor_args and https://www.tensorflow.org/api_docs/python/tf/function for  more details.\n",
            "141\n",
            "WARNING:tensorflow:11 out of the last 11 calls to <function Model.make_predict_function.<locals>.predict_function at 0x0000010AF4232D38> triggered tf.function retracing. Tracing is expensive and the excessive number of tracings could be due to (1) creating @tf.function repeatedly in a loop, (2) passing tensors with different shapes, (3) passing Python objects instead of tensors. For (1), please define your @tf.function outside of the loop. For (2), @tf.function has experimental_relax_shapes=True option that relaxes argument shapes that can avoid unnecessary retracing. For (3), please refer to https://www.tensorflow.org/tutorials/customization/performance#python_or_tensor_args and https://www.tensorflow.org/api_docs/python/tf/function for  more details.\n",
            "142\n",
            "WARNING:tensorflow:11 out of the last 11 calls to <function Model.make_predict_function.<locals>.predict_function at 0x0000010ACCD8DCA8> triggered tf.function retracing. Tracing is expensive and the excessive number of tracings could be due to (1) creating @tf.function repeatedly in a loop, (2) passing tensors with different shapes, (3) passing Python objects instead of tensors. For (1), please define your @tf.function outside of the loop. For (2), @tf.function has experimental_relax_shapes=True option that relaxes argument shapes that can avoid unnecessary retracing. For (3), please refer to https://www.tensorflow.org/tutorials/customization/performance#python_or_tensor_args and https://www.tensorflow.org/api_docs/python/tf/function for  more details.\n",
            "143\n",
            "WARNING:tensorflow:11 out of the last 11 calls to <function Model.make_predict_function.<locals>.predict_function at 0x0000010AE7D05C18> triggered tf.function retracing. Tracing is expensive and the excessive number of tracings could be due to (1) creating @tf.function repeatedly in a loop, (2) passing tensors with different shapes, (3) passing Python objects instead of tensors. For (1), please define your @tf.function outside of the loop. For (2), @tf.function has experimental_relax_shapes=True option that relaxes argument shapes that can avoid unnecessary retracing. For (3), please refer to https://www.tensorflow.org/tutorials/customization/performance#python_or_tensor_args and https://www.tensorflow.org/api_docs/python/tf/function for  more details.\n",
            "144\n",
            "WARNING:tensorflow:11 out of the last 11 calls to <function Model.make_predict_function.<locals>.predict_function at 0x0000010B10FF0B88> triggered tf.function retracing. Tracing is expensive and the excessive number of tracings could be due to (1) creating @tf.function repeatedly in a loop, (2) passing tensors with different shapes, (3) passing Python objects instead of tensors. For (1), please define your @tf.function outside of the loop. For (2), @tf.function has experimental_relax_shapes=True option that relaxes argument shapes that can avoid unnecessary retracing. For (3), please refer to https://www.tensorflow.org/tutorials/customization/performance#python_or_tensor_args and https://www.tensorflow.org/api_docs/python/tf/function for  more details.\n",
            "145\n"
          ],
          "name": "stdout"
        }
      ]
    },
    {
      "cell_type": "code",
      "metadata": {
        "ExecuteTime": {
          "end_time": "2021-07-30T04:57:47.260077Z",
          "start_time": "2021-07-30T04:57:47.247077Z"
        },
        "id": "QzEM3061p7Vx",
        "outputId": "d884e1c5-9edb-4dfb-d073-d43278b7ecb5"
      },
      "source": [
        "entregable"
      ],
      "execution_count": null,
      "outputs": [
        {
          "output_type": "execute_result",
          "data": {
            "text/plain": [
              "'Fecha'\n",
              "26-04-2015 01:50     5.2\n",
              "26-04-2015 03:10     4.8\n",
              "26-04-2015 04:20     4.1\n",
              "26-04-2015 05:20     3.4\n",
              "26-04-2015 06:40     3.1\n",
              "                    ... \n",
              "19-09-2015 08:10     1.8\n",
              "21-09-2015 11:20     4.6\n",
              "22-09-2015 10:30     4.2\n",
              "23-09-2015 17:30    12.0\n",
              "24-09-2015 00:10     7.1\n",
              "Name: 'Velocidad de viento en 20.0 metros [mean]', Length: 2000, dtype: float64"
            ]
          },
          "metadata": {
            "tags": []
          },
          "execution_count": 221
        }
      ]
    },
    {
      "cell_type": "code",
      "metadata": {
        "ExecuteTime": {
          "end_time": "2021-07-29T21:37:32.018226Z",
          "start_time": "2021-07-29T21:37:32.001220Z"
        },
        "id": "UzqWABZKp7Vx",
        "outputId": "e075fa46-0fd3-4040-aae1-0d0f7444990e"
      },
      "source": [
        "indices_test(fecha_pred)"
      ],
      "execution_count": null,
      "outputs": [
        {
          "output_type": "execute_result",
          "data": {
            "text/plain": [
              "[1544,\n",
              " 1545,\n",
              " 1546,\n",
              " 1547,\n",
              " 1548,\n",
              " 1549,\n",
              " 1550,\n",
              " 1551,\n",
              " 1552,\n",
              " 1553,\n",
              " 1554,\n",
              " 1555,\n",
              " 1556,\n",
              " 1557,\n",
              " 1558,\n",
              " 1559,\n",
              " 1560,\n",
              " 1561,\n",
              " 1562,\n",
              " 1563,\n",
              " 1564,\n",
              " 1565,\n",
              " 1566,\n",
              " 1567,\n",
              " 1568,\n",
              " 1569,\n",
              " 1570]"
            ]
          },
          "metadata": {
            "tags": []
          },
          "execution_count": 177
        }
      ]
    },
    {
      "cell_type": "code",
      "metadata": {
        "ExecuteTime": {
          "end_time": "2021-07-29T21:44:04.545901Z",
          "start_time": "2021-07-29T21:44:04.529901Z"
        },
        "id": "zKLCIoxEp7Vx"
      },
      "source": [
        "def k():\n",
        "    entregable[0]= 0.3223\n",
        "    entregable[2]= 9999999"
      ],
      "execution_count": null,
      "outputs": []
    },
    {
      "cell_type": "code",
      "metadata": {
        "ExecuteTime": {
          "end_time": "2021-07-29T21:44:07.883722Z",
          "start_time": "2021-07-29T21:44:07.872708Z"
        },
        "id": "PLXoSlUup7Vx"
      },
      "source": [
        "k()"
      ],
      "execution_count": null,
      "outputs": []
    },
    {
      "cell_type": "code",
      "metadata": {
        "ExecuteTime": {
          "end_time": "2021-07-30T05:01:54.712306Z",
          "start_time": "2021-07-30T05:01:54.702305Z"
        },
        "id": "EBF41I3np7Vx",
        "outputId": "e4a70944-3385-44e3-e342-b04214effb71"
      },
      "source": [
        "entregable[1]"
      ],
      "execution_count": null,
      "outputs": [
        {
          "output_type": "execute_result",
          "data": {
            "text/plain": [
              "4.800000190734863"
            ]
          },
          "metadata": {
            "tags": []
          },
          "execution_count": 225
        }
      ]
    },
    {
      "cell_type": "code",
      "metadata": {
        "ExecuteTime": {
          "end_time": "2021-07-29T21:46:35.989631Z",
          "start_time": "2021-07-29T21:46:35.984631Z"
        },
        "id": "QMOazdrup7Vx"
      },
      "source": [
        "def completar_entregable(predicciones, fecha_pred):\n",
        "    indices= indices_test(fecha_pred)\n",
        "\n",
        "    for i in range(len(indices)):\n",
        "        entregable[indices[i]]=  predicciones[i]\n",
        "        lista_resultados.append(predicciones[i])\n",
        "    return entregable"
      ],
      "execution_count": null,
      "outputs": []
    },
    {
      "cell_type": "code",
      "metadata": {
        "id": "hdtr3TWYp7Vx"
      },
      "source": [
        ""
      ],
      "execution_count": null,
      "outputs": []
    },
    {
      "cell_type": "code",
      "metadata": {
        "ExecuteTime": {
          "end_time": "2021-07-29T21:44:47.126862Z",
          "start_time": "2021-07-29T21:44:47.120862Z"
        },
        "id": "Bo5M4Wi7p7Vx"
      },
      "source": [
        "indices= indices_test(fecha_pred)"
      ],
      "execution_count": null,
      "outputs": []
    },
    {
      "cell_type": "code",
      "metadata": {
        "ExecuteTime": {
          "end_time": "2021-07-29T21:44:51.449772Z",
          "start_time": "2021-07-29T21:44:51.432779Z"
        },
        "id": "6eXg6Yb9p7Vx",
        "outputId": "6ddd0d19-9367-4ece-a3aa-156c0210843b"
      },
      "source": [
        "indices"
      ],
      "execution_count": null,
      "outputs": [
        {
          "output_type": "execute_result",
          "data": {
            "text/plain": [
              "[1544,\n",
              " 1545,\n",
              " 1546,\n",
              " 1547,\n",
              " 1548,\n",
              " 1549,\n",
              " 1550,\n",
              " 1551,\n",
              " 1552,\n",
              " 1553,\n",
              " 1554,\n",
              " 1555,\n",
              " 1556,\n",
              " 1557,\n",
              " 1558,\n",
              " 1559,\n",
              " 1560,\n",
              " 1561,\n",
              " 1562,\n",
              " 1563,\n",
              " 1564,\n",
              " 1565,\n",
              " 1566,\n",
              " 1567,\n",
              " 1568,\n",
              " 1569,\n",
              " 1570]"
            ]
          },
          "metadata": {
            "tags": []
          },
          "execution_count": 204
        }
      ]
    },
    {
      "cell_type": "code",
      "metadata": {
        "ExecuteTime": {
          "end_time": "2021-07-29T21:45:35.824957Z",
          "start_time": "2021-07-29T21:45:35.808937Z"
        },
        "id": "dVAIyB4cp7Vx",
        "outputId": "aa2364e9-27f2-42e5-b4b0-dcb79a5be83c"
      },
      "source": [
        "entregable[1554:1570]"
      ],
      "execution_count": null,
      "outputs": [
        {
          "output_type": "execute_result",
          "data": {
            "text/plain": [
              "'Fecha'\n",
              "20-07-2015 07:00     5.8\n",
              "20-07-2015 07:50     6.3\n",
              "20-07-2015 10:00     6.8\n",
              "20-07-2015 10:10     7.4\n",
              "20-07-2015 11:20     8.0\n",
              "20-07-2015 13:10     8.7\n",
              "20-07-2015 16:50     9.4\n",
              "20-07-2015 17:40    10.0\n",
              "20-07-2015 18:40    10.6\n",
              "20-07-2015 19:00    11.1\n",
              "20-07-2015 20:00    11.4\n",
              "20-07-2015 20:20    11.6\n",
              "20-07-2015 20:50    11.6\n",
              "20-07-2015 21:30    11.5\n",
              "20-07-2015 22:50    11.2\n",
              "20-07-2015 23:30    10.7\n",
              "Name: 'Velocidad de viento en 20.0 metros [mean]', dtype: float64"
            ]
          },
          "metadata": {
            "tags": []
          },
          "execution_count": 206
        }
      ]
    },
    {
      "cell_type": "code",
      "metadata": {
        "ExecuteTime": {
          "end_time": "2021-07-29T21:46:10.671704Z",
          "start_time": "2021-07-29T21:46:10.664703Z"
        },
        "id": "dmUaBXllp7Vy"
      },
      "source": [
        "for i in range(len(indices)):\n",
        "    entregable[indices[i]]=  predicciones[i]\n",
        "    lista_resultados.append(predicciones[i])"
      ],
      "execution_count": null,
      "outputs": []
    },
    {
      "cell_type": "code",
      "metadata": {
        "ExecuteTime": {
          "end_time": "2021-07-29T21:41:16.923679Z",
          "start_time": "2021-07-29T21:41:16.913633Z"
        },
        "id": "htdbhVeup7Vy"
      },
      "source": [
        "entregable[0]=  1.3"
      ],
      "execution_count": null,
      "outputs": []
    },
    {
      "cell_type": "code",
      "metadata": {
        "ExecuteTime": {
          "end_time": "2021-07-29T21:41:39.822107Z",
          "start_time": "2021-07-29T21:41:39.801101Z"
        },
        "id": "-6GxzpFSp7Vy",
        "outputId": "4e661187-4b73-4e59-835e-620761795565"
      },
      "source": [
        "entregable"
      ],
      "execution_count": null,
      "outputs": [
        {
          "output_type": "execute_result",
          "data": {
            "text/plain": [
              "'Fecha'\n",
              "26-04-2015 01:50    1.3\n",
              "26-04-2015 03:10    2.0\n",
              "26-04-2015 04:20    0.0\n",
              "26-04-2015 05:20    0.0\n",
              "26-04-2015 06:40    0.0\n",
              "                   ... \n",
              "19-09-2015 08:10    0.0\n",
              "21-09-2015 11:20    0.0\n",
              "22-09-2015 10:30    0.0\n",
              "23-09-2015 17:30    0.0\n",
              "24-09-2015 00:10    0.0\n",
              "Name: 'Velocidad de viento en 20.0 metros [mean]', Length: 2000, dtype: float64"
            ]
          },
          "metadata": {
            "tags": []
          },
          "execution_count": 192
        }
      ]
    },
    {
      "cell_type": "code",
      "metadata": {
        "ExecuteTime": {
          "end_time": "2021-07-29T21:41:42.315445Z",
          "start_time": "2021-07-29T21:41:42.297423Z"
        },
        "id": "Nbp7vOR1p7Vy",
        "outputId": "b2a5a940-49a5-4ad7-c53a-03d56b116bea"
      },
      "source": [
        "entregable[1554:1570]"
      ],
      "execution_count": null,
      "outputs": [
        {
          "output_type": "execute_result",
          "data": {
            "text/plain": [
              "'Fecha'\n",
              "20-07-2015 07:00    0.0\n",
              "20-07-2015 07:50    0.0\n",
              "20-07-2015 10:00    0.0\n",
              "20-07-2015 10:10    0.0\n",
              "20-07-2015 11:20    0.0\n",
              "20-07-2015 13:10    0.0\n",
              "20-07-2015 16:50    0.0\n",
              "20-07-2015 17:40    0.0\n",
              "20-07-2015 18:40    0.0\n",
              "20-07-2015 19:00    0.0\n",
              "20-07-2015 20:00    0.0\n",
              "20-07-2015 20:20    0.0\n",
              "20-07-2015 20:50    0.0\n",
              "20-07-2015 21:30    0.0\n",
              "20-07-2015 22:50    0.0\n",
              "20-07-2015 23:30    0.0\n",
              "Name: 'Velocidad de viento en 20.0 metros [mean]', dtype: float64"
            ]
          },
          "metadata": {
            "tags": []
          },
          "execution_count": 193
        }
      ]
    },
    {
      "cell_type": "code",
      "metadata": {
        "ExecuteTime": {
          "end_time": "2021-07-29T21:39:59.929314Z",
          "start_time": "2021-07-29T21:39:59.913318Z"
        },
        "id": "KJRYYFyvp7Vy",
        "outputId": "0645b862-950c-4e80-f777-f26e2075b8ad"
      },
      "source": [
        "entregable"
      ],
      "execution_count": null,
      "outputs": [
        {
          "output_type": "execute_result",
          "data": {
            "text/plain": [
              "'Fecha'\n",
              "26-04-2015 01:50    0.0\n",
              "26-04-2015 03:10    2.0\n",
              "26-04-2015 04:20    0.0\n",
              "26-04-2015 05:20    0.0\n",
              "26-04-2015 06:40    0.0\n",
              "                   ... \n",
              "19-09-2015 08:10    0.0\n",
              "21-09-2015 11:20    0.0\n",
              "22-09-2015 10:30    0.0\n",
              "23-09-2015 17:30    0.0\n",
              "24-09-2015 00:10    0.0\n",
              "Name: 'Velocidad de viento en 20.0 metros [mean]', Length: 2000, dtype: float64"
            ]
          },
          "metadata": {
            "tags": []
          },
          "execution_count": 185
        }
      ]
    },
    {
      "cell_type": "code",
      "metadata": {
        "ExecuteTime": {
          "end_time": "2021-07-30T04:58:50.797150Z",
          "start_time": "2021-07-30T04:58:50.783155Z"
        },
        "id": "p68TUSLWp7Vy",
        "outputId": "b6f83044-61c4-4e5f-fcc5-470e810503c2"
      },
      "source": [
        "entregable"
      ],
      "execution_count": null,
      "outputs": [
        {
          "output_type": "execute_result",
          "data": {
            "text/plain": [
              "'Fecha'\n",
              "26-04-2015 01:50     5.2\n",
              "26-04-2015 03:10     4.8\n",
              "26-04-2015 04:20     4.1\n",
              "26-04-2015 05:20     3.4\n",
              "26-04-2015 06:40     3.1\n",
              "                    ... \n",
              "19-09-2015 08:10     1.8\n",
              "21-09-2015 11:20     4.6\n",
              "22-09-2015 10:30     4.2\n",
              "23-09-2015 17:30    12.0\n",
              "24-09-2015 00:10     7.1\n",
              "Name: 'Velocidad de viento en 20.0 metros [mean]', Length: 2000, dtype: float64"
            ]
          },
          "metadata": {
            "tags": []
          },
          "execution_count": 223
        }
      ]
    },
    {
      "cell_type": "code",
      "metadata": {
        "ExecuteTime": {
          "end_time": "2021-07-29T21:20:37.936225Z",
          "start_time": "2021-07-29T21:20:37.922208Z"
        },
        "id": "WfUbFDMDp7Vy",
        "outputId": "d9094202-69c9-4565-e1d4-5a4c726b50ff"
      },
      "source": [
        "float(ejemplo[ejemplo.columns[1]][1994])"
      ],
      "execution_count": null,
      "outputs": [
        {
          "output_type": "execute_result",
          "data": {
            "text/plain": [
              "2.0"
            ]
          },
          "metadata": {
            "tags": []
          },
          "execution_count": 142
        }
      ]
    },
    {
      "cell_type": "code",
      "metadata": {
        "ExecuteTime": {
          "end_time": "2021-07-30T05:04:13.131637Z",
          "start_time": "2021-07-30T05:04:13.118630Z"
        },
        "id": "BBockKvIp7Vy"
      },
      "source": [
        "entregable_2.to_csv(\"sampleSubmission_mario_redondeado.csv\")"
      ],
      "execution_count": null,
      "outputs": []
    },
    {
      "cell_type": "code",
      "metadata": {
        "ExecuteTime": {
          "end_time": "2021-07-29T21:20:58.099339Z",
          "start_time": "2021-07-29T21:20:58.082302Z"
        },
        "id": "72pmI7sSp7Vy",
        "outputId": "b1ec81e0-f826-42e3-da44-4710949d74de"
      },
      "source": [
        "type(predicciones[0])"
      ],
      "execution_count": null,
      "outputs": [
        {
          "output_type": "execute_result",
          "data": {
            "text/plain": [
              "numpy.float32"
            ]
          },
          "metadata": {
            "tags": []
          },
          "execution_count": 144
        }
      ]
    },
    {
      "cell_type": "code",
      "metadata": {
        "ExecuteTime": {
          "end_time": "2021-07-29T21:18:38.474003Z",
          "start_time": "2021-07-29T21:18:38.466003Z"
        },
        "id": "vnhCoCufp7Vy",
        "outputId": "3596af4d-cb32-4e19-8550-1c986c63b798"
      },
      "source": [
        "indices= indices_test(fecha_pred)\n",
        "\n",
        "for i in range(len(indices)):\n",
        "    print(predicciones[i])\n",
        "    ejemplo[ejemplo.columns[1]][indices[i]]=  predicciones[i]"
      ],
      "execution_count": null,
      "outputs": [
        {
          "output_type": "stream",
          "text": [
            "2.3\n"
          ],
          "name": "stdout"
        }
      ]
    },
    {
      "cell_type": "code",
      "metadata": {
        "ExecuteTime": {
          "end_time": "2021-07-29T21:18:52.997058Z",
          "start_time": "2021-07-29T21:18:52.986022Z"
        },
        "id": "SPrsqmKFp7Vy",
        "outputId": "b2f80cf5-2149-47b6-d08d-4f8d761d946c"
      },
      "source": [
        "indices[i]"
      ],
      "execution_count": null,
      "outputs": [
        {
          "output_type": "execute_result",
          "data": {
            "text/plain": [
              "1994"
            ]
          },
          "metadata": {
            "tags": []
          },
          "execution_count": 135
        }
      ]
    },
    {
      "cell_type": "code",
      "metadata": {
        "ExecuteTime": {
          "end_time": "2021-07-29T21:19:52.099400Z",
          "start_time": "2021-07-29T21:19:52.081402Z"
        },
        "id": "ee1aAUp1p7Vy"
      },
      "source": [
        "ejemplo[ejemplo.columns[1]][indices[i]]=  predicciones[i]"
      ],
      "execution_count": null,
      "outputs": []
    },
    {
      "cell_type": "code",
      "metadata": {
        "ExecuteTime": {
          "end_time": "2021-07-29T21:47:01.272514Z",
          "start_time": "2021-07-29T21:47:01.258507Z"
        },
        "id": "I5NYAD9Jp7Vz"
      },
      "source": [
        "def vector(listatupla):\n",
        "    summit=pd.DataFrame(listatupla)\n",
        "    summit.columns=[\"'Fecha'\",\"'Velocidad de viento en 20.0 metros [mean]'\"]\n",
        "    summit=summit.set_index(\"'Fecha'\")\n",
        "    summit= summit[summit.columns[0]].astype(float)\n",
        "    return summit"
      ],
      "execution_count": null,
      "outputs": []
    },
    {
      "cell_type": "code",
      "metadata": {
        "ExecuteTime": {
          "end_time": "2021-07-29T21:47:02.821059Z",
          "start_time": "2021-07-29T21:47:02.816100Z"
        },
        "id": "bP5BLJtTp7Vz"
      },
      "source": [
        "entregable=vector(ejemplo)"
      ],
      "execution_count": null,
      "outputs": []
    },
    {
      "cell_type": "code",
      "metadata": {
        "ExecuteTime": {
          "end_time": "2021-07-30T05:02:39.145766Z",
          "start_time": "2021-07-30T05:02:39.134764Z"
        },
        "id": "ZCYvmfTVp7Vz"
      },
      "source": [
        "copia= entregable.copy()"
      ],
      "execution_count": null,
      "outputs": []
    },
    {
      "cell_type": "code",
      "metadata": {
        "ExecuteTime": {
          "end_time": "2021-07-30T05:03:19.909752Z",
          "start_time": "2021-07-30T05:03:19.901751Z"
        },
        "id": "pUaxMh9Ep7Vz"
      },
      "source": [
        "entregable_2=np.round(entregable,1)"
      ],
      "execution_count": null,
      "outputs": []
    },
    {
      "cell_type": "code",
      "metadata": {
        "ExecuteTime": {
          "end_time": "2021-07-30T05:03:27.552692Z",
          "start_time": "2021-07-30T05:03:27.534686Z"
        },
        "id": "XRHysF7Op7Vz",
        "outputId": "d04e5386-4e55-4296-ce81-06d3854f1700"
      },
      "source": [
        "entregable_2[0]"
      ],
      "execution_count": null,
      "outputs": [
        {
          "output_type": "execute_result",
          "data": {
            "text/plain": [
              "5.2"
            ]
          },
          "metadata": {
            "tags": []
          },
          "execution_count": 231
        }
      ]
    },
    {
      "cell_type": "code",
      "metadata": {
        "id": "8_S8dRyjp7Vz"
      },
      "source": [
        "for x in "
      ],
      "execution_count": null,
      "outputs": []
    },
    {
      "cell_type": "code",
      "metadata": {
        "ExecuteTime": {
          "end_time": "2021-07-30T05:02:18.407893Z",
          "start_time": "2021-07-30T05:02:18.389924Z"
        },
        "id": "eRjqlxogp7Vz",
        "outputId": "d18d6ead-b98a-421c-c5b4-c793183d51cb"
      },
      "source": [
        "entregable"
      ],
      "execution_count": null,
      "outputs": [
        {
          "output_type": "execute_result",
          "data": {
            "text/plain": [
              "'Fecha'\n",
              "26-04-2015 01:50     5.2\n",
              "26-04-2015 03:10     4.8\n",
              "26-04-2015 04:20     4.1\n",
              "26-04-2015 05:20     3.4\n",
              "26-04-2015 06:40     3.1\n",
              "                    ... \n",
              "19-09-2015 08:10     1.8\n",
              "21-09-2015 11:20     4.6\n",
              "22-09-2015 10:30     4.2\n",
              "23-09-2015 17:30    12.0\n",
              "24-09-2015 00:10     7.1\n",
              "Name: 'Velocidad de viento en 20.0 metros [mean]', Length: 2000, dtype: float64"
            ]
          },
          "metadata": {
            "tags": []
          },
          "execution_count": 226
        }
      ]
    },
    {
      "cell_type": "markdown",
      "metadata": {
        "id": "rUeJZKG-p7Vz"
      },
      "source": [
        "# 2) Idea Tendencias\n"
      ]
    },
    {
      "cell_type": "code",
      "metadata": {
        "ExecuteTime": {
          "end_time": "2021-08-05T21:58:25.917318Z",
          "start_time": "2021-08-05T21:58:25.904314Z"
        },
        "id": "nB7lvV5Hp7Vz"
      },
      "source": [
        "def preprocesamiento_sem(data, n_input, n_output, n_step):\n",
        "\n",
        "  for i in range(0, data.shape[0], n_step):\n",
        "    try:\n",
        "      x = data[i:i+n_input].reshape(1,n_input)\n",
        "      y = data[i+n_input: i+n_input+n_output].reshape(1,n_output)\n",
        "      \n",
        "      if i == 0:\n",
        "        X = x\n",
        "        Y = y\n",
        "      else:\n",
        "        X = np.vstack((X,x))\n",
        "        Y = np.vstack((Y,y))\n",
        "    except:\n",
        "      pass\n",
        "\n",
        "  return X.reshape(X.shape[0], X.shape[1], 1), Y"
      ],
      "execution_count": null,
      "outputs": []
    },
    {
      "cell_type": "code",
      "metadata": {
        "ExecuteTime": {
          "end_time": "2021-08-05T21:58:31.627863Z",
          "start_time": "2021-08-05T21:58:31.623821Z"
        },
        "id": "WDfKFbN4p7Vz"
      },
      "source": [
        "def distancia_h(data, prom):\n",
        "    k=[]\n",
        "    for hora in range(144):\n",
        "        r=[]\n",
        "        for d in range(7):\n",
        "            r.append(prom-data.iloc[d*144+hora]) \n",
        "        k.append(np.mean(r))\n",
        "    return k\n",
        "        "
      ],
      "execution_count": null,
      "outputs": []
    },
    {
      "cell_type": "code",
      "metadata": {
        "ExecuteTime": {
          "end_time": "2021-08-05T21:58:46.382722Z",
          "start_time": "2021-08-05T21:58:45.503689Z"
        },
        "id": "W9rm1_qep7Vz"
      },
      "source": [
        "i=train.shape[0]\n",
        "prom_sem=[]\n",
        "prom_d_horas=[]\n",
        "while(i-7*144>0):\n",
        "    data=train[\"Velocidad\"][i-7*144:i]\n",
        "    prom=data.mean()\n",
        "    prom_sem.append(prom)\n",
        "    prom_d_horas.append(distancia_h(data, prom))\n",
        "    i-= 7*144\n",
        "    \n",
        "    \n",
        "    \n",
        "    "
      ],
      "execution_count": null,
      "outputs": []
    },
    {
      "cell_type": "code",
      "metadata": {
        "ExecuteTime": {
          "end_time": "2021-08-05T21:58:48.958112Z",
          "start_time": "2021-08-05T21:58:48.939079Z"
        },
        "id": "cJk9H8eyp7V0",
        "outputId": "42a398bc-d406-4663-8f23-7cb3d62dc804"
      },
      "source": [
        "len(prom_sem)"
      ],
      "execution_count": null,
      "outputs": [
        {
          "output_type": "execute_result",
          "data": {
            "text/plain": [
              "122"
            ]
          },
          "metadata": {
            "tags": []
          },
          "execution_count": 194
        }
      ]
    },
    {
      "cell_type": "code",
      "metadata": {
        "ExecuteTime": {
          "end_time": "2021-08-05T21:58:50.582364Z",
          "start_time": "2021-08-05T21:58:50.576356Z"
        },
        "id": "g2_HsoDrp7V0",
        "outputId": "91cd1b52-0e72-483e-b122-a645591997b7"
      },
      "source": [
        "len(prom_d_horas)"
      ],
      "execution_count": null,
      "outputs": [
        {
          "output_type": "execute_result",
          "data": {
            "text/plain": [
              "122"
            ]
          },
          "metadata": {
            "tags": []
          },
          "execution_count": 195
        }
      ]
    },
    {
      "cell_type": "code",
      "metadata": {
        "ExecuteTime": {
          "end_time": "2021-08-05T22:03:53.364689Z",
          "start_time": "2021-08-05T22:03:53.352691Z"
        },
        "id": "_4STW_yqp7V0"
      },
      "source": [
        "X_train_s, Y_train_s = preprocesamiento_sem(np.array(prom_sem), 30, 22, 1)"
      ],
      "execution_count": null,
      "outputs": []
    },
    {
      "cell_type": "code",
      "metadata": {
        "ExecuteTime": {
          "end_time": "2021-08-05T22:03:56.886703Z",
          "start_time": "2021-08-05T22:03:56.880695Z"
        },
        "id": "mXCU_HiNp7V0",
        "outputId": "263297a2-f6c9-4308-c17e-2f02f759f37d"
      },
      "source": [
        "print(X_train_s.shape, Y_train_s.shape)"
      ],
      "execution_count": null,
      "outputs": [
        {
          "output_type": "stream",
          "text": [
            "(71, 30, 1) (71, 22)\n"
          ],
          "name": "stdout"
        }
      ]
    },
    {
      "cell_type": "code",
      "metadata": {
        "ExecuteTime": {
          "end_time": "2021-08-05T22:04:45.797342Z",
          "start_time": "2021-08-05T22:04:45.784343Z"
        },
        "id": "yDwIQe_vp7V0"
      },
      "source": [
        "X_val= X_train_s[-1]\n",
        "Y_val=Y_train_s[-1]\n",
        "\n",
        "X_train=X_train_s[:-1]\n",
        "Y_train= Y_train_s[:-1]"
      ],
      "execution_count": null,
      "outputs": []
    },
    {
      "cell_type": "code",
      "metadata": {
        "ExecuteTime": {
          "end_time": "2021-08-05T22:04:49.914188Z",
          "start_time": "2021-08-05T22:04:49.903186Z"
        },
        "id": "c1ENKaCXp7V0"
      },
      "source": [
        "X_test_s= np.array(prom_sem[-30:]).reshape(1,30,1)"
      ],
      "execution_count": null,
      "outputs": []
    },
    {
      "cell_type": "code",
      "metadata": {
        "ExecuteTime": {
          "end_time": "2021-08-05T22:04:53.488246Z",
          "start_time": "2021-08-05T22:04:53.471247Z"
        },
        "id": "6hKQRN1wp7V0",
        "outputId": "326a5f0a-b3da-4991-cca7-836c6763abb9"
      },
      "source": [
        "X_test_s.shape"
      ],
      "execution_count": null,
      "outputs": [
        {
          "output_type": "execute_result",
          "data": {
            "text/plain": [
              "(1, 30, 1)"
            ]
          },
          "metadata": {
            "tags": []
          },
          "execution_count": 210
        }
      ]
    },
    {
      "cell_type": "code",
      "metadata": {
        "ExecuteTime": {
          "end_time": "2021-08-05T22:05:53.296712Z",
          "start_time": "2021-08-05T22:05:49.327362Z"
        },
        "id": "ItUm5jNLp7V0",
        "outputId": "34a181a5-291f-4bab-dd53-f56dbf0a3eaf"
      },
      "source": [
        "# define model\n",
        "model = Sequential()\n",
        "#enconder\n",
        "model.add(LSTM(100, activation='relu',\n",
        "               kernel_initializer=tf.keras.initializers.GlorotNormal(seed=None), input_shape=(X_train.shape[1], 1)))\n",
        "model.add(RepeatVector(22))\n",
        "\n",
        "#decoder\n",
        "model.add(LSTM(100, activation='relu',\n",
        "               kernel_initializer=tf.keras.initializers.GlorotNormal(seed=None), return_sequences=True))\n",
        "model.add(TimeDistributed(Dense(1)))\n",
        "\n",
        "model.compile(optimizer='adam', loss='mse')\n",
        "my_callbacks = [History(), EarlyStopping(patience=3, monitor=\"val_loss\",restore_best_weights=True)]\n",
        "history= model.fit(X_train_s, Y_train_s, epochs=300, verbose=1, batch_size=16,validation_split=0.2, callbacks= my_callbacks)"
      ],
      "execution_count": null,
      "outputs": [
        {
          "output_type": "stream",
          "text": [
            "Epoch 1/300\n",
            "4/4 [==============================] - 0s 74ms/step - loss: 54.6163 - val_loss: 36.6376\n",
            "Epoch 2/300\n",
            "4/4 [==============================] - 0s 15ms/step - loss: 23.6118 - val_loss: 10.2348\n",
            "Epoch 3/300\n",
            "4/4 [==============================] - 0s 14ms/step - loss: 9.8390 - val_loss: 6.4892\n",
            "Epoch 4/300\n",
            "4/4 [==============================] - 0s 14ms/step - loss: 6.6792 - val_loss: 5.2623\n",
            "Epoch 5/300\n",
            "4/4 [==============================] - 0s 14ms/step - loss: 4.8665 - val_loss: 4.0515\n",
            "Epoch 6/300\n",
            "4/4 [==============================] - 0s 14ms/step - loss: 3.8380 - val_loss: 3.9061\n",
            "Epoch 7/300\n",
            "4/4 [==============================] - 0s 14ms/step - loss: 3.5411 - val_loss: 3.2313\n",
            "Epoch 8/300\n",
            "4/4 [==============================] - 0s 14ms/step - loss: 2.9131 - val_loss: 2.9963\n",
            "Epoch 9/300\n",
            "4/4 [==============================] - 0s 13ms/step - loss: 2.5855 - val_loss: 2.9262\n",
            "Epoch 10/300\n",
            "4/4 [==============================] - 0s 13ms/step - loss: 2.3841 - val_loss: 2.7426\n",
            "Epoch 11/300\n",
            "4/4 [==============================] - 0s 13ms/step - loss: 2.4656 - val_loss: 2.6948\n",
            "Epoch 12/300\n",
            "4/4 [==============================] - 0s 14ms/step - loss: 2.1783 - val_loss: 2.6895\n",
            "Epoch 13/300\n",
            "4/4 [==============================] - 0s 13ms/step - loss: 2.0595 - val_loss: 2.6507\n",
            "Epoch 14/300\n",
            "4/4 [==============================] - 0s 14ms/step - loss: 1.9616 - val_loss: 2.6462\n",
            "Epoch 15/300\n",
            "4/4 [==============================] - 0s 14ms/step - loss: 1.9517 - val_loss: 2.7247\n",
            "Epoch 16/300\n",
            "4/4 [==============================] - 0s 14ms/step - loss: 1.9935 - val_loss: 2.6328\n",
            "Epoch 17/300\n",
            "4/4 [==============================] - 0s 15ms/step - loss: 1.9676 - val_loss: 2.6443\n",
            "Epoch 18/300\n",
            "4/4 [==============================] - 0s 14ms/step - loss: 1.9394 - val_loss: 2.7124\n",
            "Epoch 19/300\n",
            "4/4 [==============================] - 0s 14ms/step - loss: 1.9527 - val_loss: 2.5865\n",
            "Epoch 20/300\n",
            "4/4 [==============================] - 0s 13ms/step - loss: 1.9105 - val_loss: 2.5674\n",
            "Epoch 21/300\n",
            "4/4 [==============================] - 0s 13ms/step - loss: 1.8690 - val_loss: 2.6464\n",
            "Epoch 22/300\n",
            "4/4 [==============================] - 0s 14ms/step - loss: 1.8842 - val_loss: 2.5321\n",
            "Epoch 23/300\n",
            "4/4 [==============================] - 0s 14ms/step - loss: 1.8578 - val_loss: 2.6785\n",
            "Epoch 24/300\n",
            "4/4 [==============================] - 0s 14ms/step - loss: 1.8845 - val_loss: 2.5835\n",
            "Epoch 25/300\n",
            "4/4 [==============================] - 0s 14ms/step - loss: 1.8952 - val_loss: 2.5209\n",
            "Epoch 26/300\n",
            "4/4 [==============================] - 0s 14ms/step - loss: 1.8726 - val_loss: 2.6858\n",
            "Epoch 27/300\n",
            "4/4 [==============================] - 0s 14ms/step - loss: 1.8899 - val_loss: 2.5413\n",
            "Epoch 28/300\n",
            "4/4 [==============================] - 0s 14ms/step - loss: 1.8963 - val_loss: 2.7158\n"
          ],
          "name": "stdout"
        }
      ]
    },
    {
      "cell_type": "code",
      "metadata": {
        "ExecuteTime": {
          "end_time": "2021-08-05T21:18:20.699109Z",
          "start_time": "2021-08-05T21:18:20.440075Z"
        },
        "id": "270VgP1vp7V0",
        "outputId": "f2285b41-7e74-46b4-a84f-a41ff3cdcb0c"
      },
      "source": [
        "x_input = X_val.reshape((1, X_train.shape[1], 1))\n",
        "y_pred = model.predict(x_input, verbose=0)"
      ],
      "execution_count": null,
      "outputs": [
        {
          "output_type": "stream",
          "text": [
            "WARNING:tensorflow:7 out of the last 7 calls to <function Model.make_predict_function.<locals>.predict_function at 0x000002C48A73F438> triggered tf.function retracing. Tracing is expensive and the excessive number of tracings could be due to (1) creating @tf.function repeatedly in a loop, (2) passing tensors with different shapes, (3) passing Python objects instead of tensors. For (1), please define your @tf.function outside of the loop. For (2), @tf.function has experimental_relax_shapes=True option that relaxes argument shapes that can avoid unnecessary retracing. For (3), please refer to https://www.tensorflow.org/tutorials/customization/performance#python_or_tensor_args and https://www.tensorflow.org/api_docs/python/tf/function for  more details.\n"
          ],
          "name": "stdout"
        }
      ]
    },
    {
      "cell_type": "code",
      "metadata": {
        "ExecuteTime": {
          "end_time": "2021-08-05T21:22:02.353940Z",
          "start_time": "2021-08-05T21:22:02.336908Z"
        },
        "id": "FQ1MjOn6p7V0",
        "outputId": "2fd79bc4-186e-4345-c620-1648e6e6617a"
      },
      "source": [
        "len(prom_sem)"
      ],
      "execution_count": null,
      "outputs": [
        {
          "output_type": "execute_result",
          "data": {
            "text/plain": [
              "122"
            ]
          },
          "metadata": {
            "tags": []
          },
          "execution_count": 120
        }
      ]
    },
    {
      "cell_type": "code",
      "metadata": {
        "ExecuteTime": {
          "end_time": "2021-08-05T21:22:53.607906Z",
          "start_time": "2021-08-05T21:22:53.591906Z"
        },
        "id": "EbRS0Jtnp7V1",
        "outputId": "16e25307-bcd4-4814-9061-9b8e8076b5b5"
      },
      "source": [
        "len(prom_d_horas)"
      ],
      "execution_count": null,
      "outputs": [
        {
          "output_type": "execute_result",
          "data": {
            "text/plain": [
              "122"
            ]
          },
          "metadata": {
            "tags": []
          },
          "execution_count": 123
        }
      ]
    },
    {
      "cell_type": "code",
      "metadata": {
        "ExecuteTime": {
          "end_time": "2021-08-05T22:07:19.943920Z",
          "start_time": "2021-08-05T22:07:19.927907Z"
        },
        "id": "VQm0sfz4p7V1"
      },
      "source": [
        "Y_horas= np.array(prom_d_horas).reshape(122,144)"
      ],
      "execution_count": null,
      "outputs": []
    },
    {
      "cell_type": "code",
      "metadata": {
        "ExecuteTime": {
          "end_time": "2021-08-05T22:07:39.568607Z",
          "start_time": "2021-08-05T22:07:39.551614Z"
        },
        "id": "Fb15AHApp7V1",
        "outputId": "54746b87-efaa-41cc-81b6-bc0299c293e9"
      },
      "source": [
        "Y_horas.shape"
      ],
      "execution_count": null,
      "outputs": [
        {
          "output_type": "execute_result",
          "data": {
            "text/plain": [
              "(122, 144)"
            ]
          },
          "metadata": {
            "tags": []
          },
          "execution_count": 216
        }
      ]
    },
    {
      "cell_type": "code",
      "metadata": {
        "ExecuteTime": {
          "end_time": "2021-08-05T22:07:44.709779Z",
          "start_time": "2021-08-05T22:07:44.696739Z"
        },
        "id": "uEwtE-IJp7V1"
      },
      "source": [
        "def preprocesamiento_h(data, n_input, n_output, n_step):\n",
        "\n",
        "  for i in range(0, data.shape[0], n_step):\n",
        "    try:\n",
        "      x = data[i:i+n_input].reshape(n_input,144)\n",
        "      y = data[i+n_input: i+n_input+n_output].reshape(n_output,144)\n",
        "      \n",
        "      if i == 0:\n",
        "        X = x\n",
        "        Y = y\n",
        "      else:\n",
        "        X = np.vstack((X,x))\n",
        "        Y = np.vstack((Y,y))\n",
        "    except:\n",
        "      pass\n",
        "\n",
        "  return X.reshape(X.shape[0], X.shape[1], 1), Y"
      ],
      "execution_count": null,
      "outputs": []
    },
    {
      "cell_type": "code",
      "metadata": {
        "ExecuteTime": {
          "end_time": "2021-08-05T22:07:50.942907Z",
          "start_time": "2021-08-05T22:07:50.935899Z"
        },
        "id": "1HGQicG3p7V1"
      },
      "source": [
        "X,Y= preprocesamiento_h(Y_horas,1,1,1)"
      ],
      "execution_count": null,
      "outputs": []
    },
    {
      "cell_type": "code",
      "metadata": {
        "ExecuteTime": {
          "end_time": "2021-08-05T22:07:52.767478Z",
          "start_time": "2021-08-05T22:07:52.759486Z"
        },
        "id": "FJetas8Dp7V1",
        "outputId": "a5d20f71-8748-4ad1-b188-dd43960de6d2"
      },
      "source": [
        "X.shape"
      ],
      "execution_count": null,
      "outputs": [
        {
          "output_type": "execute_result",
          "data": {
            "text/plain": [
              "(121, 144, 1)"
            ]
          },
          "metadata": {
            "tags": []
          },
          "execution_count": 219
        }
      ]
    },
    {
      "cell_type": "code",
      "metadata": {
        "ExecuteTime": {
          "end_time": "2021-08-05T22:07:54.566486Z",
          "start_time": "2021-08-05T22:07:54.559452Z"
        },
        "id": "RbYI663jp7V1",
        "outputId": "4962fc88-9abb-4a5c-919b-a396d2da89ba"
      },
      "source": [
        "Y.shape"
      ],
      "execution_count": null,
      "outputs": [
        {
          "output_type": "execute_result",
          "data": {
            "text/plain": [
              "(121, 144)"
            ]
          },
          "metadata": {
            "tags": []
          },
          "execution_count": 220
        }
      ]
    },
    {
      "cell_type": "code",
      "metadata": {
        "ExecuteTime": {
          "end_time": "2021-08-05T22:08:04.148688Z",
          "start_time": "2021-08-05T22:07:59.135356Z"
        },
        "id": "0nOItJjtp7V2",
        "outputId": "6eb3f4bf-05b4-432b-b97c-795ec6acb0df"
      },
      "source": [
        "# define model\n",
        "model_h = Sequential()\n",
        "#enconder\n",
        "model_h.add(LSTM(5, activation='relu',\n",
        "               kernel_initializer=tf.keras.initializers.GlorotNormal(seed=None), input_shape=(144, 1)))\n",
        "model_h.add(Dense(144))\n",
        "\n",
        "model_h.compile(optimizer='adam', loss='mse')\n",
        "\n",
        "my_callbacks = [History(), EarlyStopping(patience=3, monitor=\"val_loss\",restore_best_weights=True)]\n",
        "\n",
        "history= model_h.fit(X, Y, epochs=300, verbose=1,validation_split=0.2, callbacks= my_callbacks)"
      ],
      "execution_count": null,
      "outputs": [
        {
          "output_type": "stream",
          "text": [
            "Epoch 1/300\n",
            "3/3 [==============================] - 0s 66ms/step - loss: 8.9338 - val_loss: 7.8138\n",
            "Epoch 2/300\n",
            "3/3 [==============================] - 0s 15ms/step - loss: 8.9123 - val_loss: 7.7932\n",
            "Epoch 3/300\n",
            "3/3 [==============================] - 0s 14ms/step - loss: 8.8908 - val_loss: 7.7730\n",
            "Epoch 4/300\n",
            "3/3 [==============================] - 0s 17ms/step - loss: 8.8702 - val_loss: 7.7527\n",
            "Epoch 5/300\n",
            "3/3 [==============================] - 0s 13ms/step - loss: 8.8488 - val_loss: 7.7322\n",
            "Epoch 6/300\n",
            "3/3 [==============================] - 0s 14ms/step - loss: 8.8278 - val_loss: 7.7113\n",
            "Epoch 7/300\n",
            "3/3 [==============================] - 0s 14ms/step - loss: 8.8066 - val_loss: 7.6900\n",
            "Epoch 8/300\n",
            "3/3 [==============================] - 0s 14ms/step - loss: 8.7838 - val_loss: 7.6682\n",
            "Epoch 9/300\n",
            "3/3 [==============================] - 0s 14ms/step - loss: 8.7615 - val_loss: 7.6455\n",
            "Epoch 10/300\n",
            "3/3 [==============================] - 0s 14ms/step - loss: 8.7380 - val_loss: 7.6219\n",
            "Epoch 11/300\n",
            "3/3 [==============================] - 0s 14ms/step - loss: 8.7128 - val_loss: 7.5973\n",
            "Epoch 12/300\n",
            "3/3 [==============================] - 0s 13ms/step - loss: 8.6878 - val_loss: 7.5714\n",
            "Epoch 13/300\n",
            "3/3 [==============================] - 0s 14ms/step - loss: 8.6610 - val_loss: 7.5439\n",
            "Epoch 14/300\n",
            "3/3 [==============================] - 0s 14ms/step - loss: 8.6317 - val_loss: 7.5149\n",
            "Epoch 15/300\n",
            "3/3 [==============================] - 0s 13ms/step - loss: 8.6010 - val_loss: 7.4839\n",
            "Epoch 16/300\n",
            "3/3 [==============================] - 0s 15ms/step - loss: 8.5687 - val_loss: 7.4504\n",
            "Epoch 17/300\n",
            "3/3 [==============================] - 0s 14ms/step - loss: 8.5326 - val_loss: 7.4139\n",
            "Epoch 18/300\n",
            "3/3 [==============================] - 0s 14ms/step - loss: 8.4929 - val_loss: 7.3729\n",
            "Epoch 19/300\n",
            "3/3 [==============================] - 0s 14ms/step - loss: 8.4457 - val_loss: 7.3247\n",
            "Epoch 20/300\n",
            "3/3 [==============================] - 0s 14ms/step - loss: 8.3921 - val_loss: 7.2618\n",
            "Epoch 21/300\n",
            "3/3 [==============================] - 0s 14ms/step - loss: 8.3159 - val_loss: 7.1641\n",
            "Epoch 22/300\n",
            "3/3 [==============================] - 0s 14ms/step - loss: 8.1842 - val_loss: 6.9750\n",
            "Epoch 23/300\n",
            "3/3 [==============================] - 0s 14ms/step - loss: 7.9164 - val_loss: 6.5772\n",
            "Epoch 24/300\n",
            "3/3 [==============================] - 0s 13ms/step - loss: 7.3482 - val_loss: 5.8464\n",
            "Epoch 25/300\n",
            "3/3 [==============================] - 0s 12ms/step - loss: 6.5867 - val_loss: 5.4399\n",
            "Epoch 26/300\n",
            "3/3 [==============================] - 0s 13ms/step - loss: 6.2915 - val_loss: 5.4327\n",
            "Epoch 27/300\n",
            "3/3 [==============================] - 0s 13ms/step - loss: 6.1574 - val_loss: 5.5101\n",
            "Epoch 28/300\n",
            "3/3 [==============================] - 0s 13ms/step - loss: 5.9162 - val_loss: 5.0916\n",
            "Epoch 29/300\n",
            "3/3 [==============================] - 0s 12ms/step - loss: 5.6255 - val_loss: 4.8004\n",
            "Epoch 30/300\n",
            "3/3 [==============================] - 0s 13ms/step - loss: 5.4265 - val_loss: 4.6360\n",
            "Epoch 31/300\n",
            "3/3 [==============================] - 0s 13ms/step - loss: 5.2853 - val_loss: 4.4745\n",
            "Epoch 32/300\n",
            "3/3 [==============================] - 0s 13ms/step - loss: 5.1500 - val_loss: 4.3437\n",
            "Epoch 33/300\n",
            "3/3 [==============================] - 0s 13ms/step - loss: 4.9001 - val_loss: 4.2874\n",
            "Epoch 34/300\n",
            "3/3 [==============================] - 0s 13ms/step - loss: 4.7411 - val_loss: 4.2247\n",
            "Epoch 35/300\n",
            "3/3 [==============================] - 0s 13ms/step - loss: 4.6470 - val_loss: 4.1120\n",
            "Epoch 36/300\n",
            "3/3 [==============================] - 0s 13ms/step - loss: 4.4470 - val_loss: 3.9420\n",
            "Epoch 37/300\n",
            "3/3 [==============================] - 0s 14ms/step - loss: 4.3284 - val_loss: 3.8286\n",
            "Epoch 38/300\n",
            "3/3 [==============================] - 0s 13ms/step - loss: 4.2349 - val_loss: 3.7538\n",
            "Epoch 39/300\n",
            "3/3 [==============================] - 0s 14ms/step - loss: 4.0968 - val_loss: 3.7132\n",
            "Epoch 40/300\n",
            "3/3 [==============================] - 0s 13ms/step - loss: 4.0279 - val_loss: 3.6297\n",
            "Epoch 41/300\n",
            "3/3 [==============================] - 0s 14ms/step - loss: 3.9343 - val_loss: 3.5435\n",
            "Epoch 42/300\n",
            "3/3 [==============================] - 0s 14ms/step - loss: 3.8490 - val_loss: 3.4748\n",
            "Epoch 43/300\n",
            "3/3 [==============================] - 0s 13ms/step - loss: 3.7850 - val_loss: 3.4167\n",
            "Epoch 44/300\n",
            "3/3 [==============================] - 0s 15ms/step - loss: 3.7028 - val_loss: 3.3653\n",
            "Epoch 45/300\n",
            "3/3 [==============================] - 0s 16ms/step - loss: 3.6410 - val_loss: 3.3076\n",
            "Epoch 46/300\n",
            "3/3 [==============================] - 0s 16ms/step - loss: 3.5600 - val_loss: 3.2933\n",
            "Epoch 47/300\n",
            "3/3 [==============================] - 0s 13ms/step - loss: 3.4895 - val_loss: 3.2433\n",
            "Epoch 48/300\n",
            "3/3 [==============================] - 0s 13ms/step - loss: 3.4627 - val_loss: 3.1471\n",
            "Epoch 49/300\n",
            "3/3 [==============================] - 0s 14ms/step - loss: 3.4092 - val_loss: 3.0919\n",
            "Epoch 50/300\n",
            "3/3 [==============================] - 0s 13ms/step - loss: 3.3760 - val_loss: 3.1330\n",
            "Epoch 51/300\n",
            "3/3 [==============================] - 0s 14ms/step - loss: 3.3462 - val_loss: 3.0223\n",
            "Epoch 52/300\n",
            "3/3 [==============================] - 0s 14ms/step - loss: 3.2714 - val_loss: 2.9607\n",
            "Epoch 53/300\n",
            "3/3 [==============================] - 0s 14ms/step - loss: 3.2325 - val_loss: 2.9336\n",
            "Epoch 54/300\n",
            "3/3 [==============================] - 0s 14ms/step - loss: 3.1879 - val_loss: 2.9300\n",
            "Epoch 55/300\n",
            "3/3 [==============================] - 0s 15ms/step - loss: 3.1609 - val_loss: 2.8929\n",
            "Epoch 56/300\n",
            "3/3 [==============================] - 0s 14ms/step - loss: 3.0837 - val_loss: 2.8380\n",
            "Epoch 57/300\n",
            "3/3 [==============================] - 0s 14ms/step - loss: 3.0626 - val_loss: 2.8236\n",
            "Epoch 58/300\n",
            "3/3 [==============================] - 0s 13ms/step - loss: 3.0966 - val_loss: 2.9026\n",
            "Epoch 59/300\n",
            "3/3 [==============================] - 0s 14ms/step - loss: 3.0748 - val_loss: 2.7450\n",
            "Epoch 60/300\n",
            "3/3 [==============================] - 0s 14ms/step - loss: 2.9658 - val_loss: 2.7107\n",
            "Epoch 61/300\n",
            "3/3 [==============================] - 0s 13ms/step - loss: 2.9876 - val_loss: 2.7000\n",
            "Epoch 62/300\n",
            "3/3 [==============================] - 0s 14ms/step - loss: 2.9789 - val_loss: 2.7148\n",
            "Epoch 63/300\n",
            "3/3 [==============================] - 0s 13ms/step - loss: 2.9566 - val_loss: 2.7692\n",
            "Epoch 64/300\n",
            "3/3 [==============================] - 0s 14ms/step - loss: 2.9220 - val_loss: 2.8010\n"
          ],
          "name": "stdout"
        }
      ]
    },
    {
      "cell_type": "code",
      "metadata": {
        "ExecuteTime": {
          "end_time": "2021-08-05T21:47:22.691214Z",
          "start_time": "2021-08-05T21:47:22.680215Z"
        },
        "id": "IPX4WjDdp7V2",
        "outputId": "55cefaf7-0874-4a25-f2f9-94a1127246f6"
      },
      "source": [
        "X[-1].shape"
      ],
      "execution_count": null,
      "outputs": [
        {
          "output_type": "execute_result",
          "data": {
            "text/plain": [
              "(144, 1)"
            ]
          },
          "metadata": {
            "tags": []
          },
          "execution_count": 160
        }
      ]
    },
    {
      "cell_type": "code",
      "metadata": {
        "ExecuteTime": {
          "end_time": "2021-08-05T21:56:21.410384Z",
          "start_time": "2021-08-05T21:56:21.249398Z"
        },
        "id": "mADa63Wvp7V2",
        "outputId": "cc91b1be-3908-442f-d340-0a1f7d4a3b12"
      },
      "source": [
        "x_input = X[-2].reshape((1, 144, 1))\n",
        "y_pred = model_h.predict(x_input, verbose=0)"
      ],
      "execution_count": null,
      "outputs": [
        {
          "output_type": "stream",
          "text": [
            "WARNING:tensorflow:10 out of the last 11 calls to <function Model.make_predict_function.<locals>.predict_function at 0x000002C48779C048> triggered tf.function retracing. Tracing is expensive and the excessive number of tracings could be due to (1) creating @tf.function repeatedly in a loop, (2) passing tensors with different shapes, (3) passing Python objects instead of tensors. For (1), please define your @tf.function outside of the loop. For (2), @tf.function has experimental_relax_shapes=True option that relaxes argument shapes that can avoid unnecessary retracing. For (3), please refer to https://www.tensorflow.org/tutorials/customization/performance#python_or_tensor_args and https://www.tensorflow.org/api_docs/python/tf/function for  more details.\n"
          ],
          "name": "stdout"
        }
      ]
    },
    {
      "cell_type": "markdown",
      "metadata": {
        "id": "GugTK0_Pp7V2"
      },
      "source": [
        "# test"
      ]
    },
    {
      "cell_type": "code",
      "metadata": {
        "ExecuteTime": {
          "end_time": "2021-08-05T22:02:52.537110Z",
          "start_time": "2021-08-05T22:02:52.533113Z"
        },
        "id": "NZR8V3--p7V2",
        "outputId": "82c36e9a-92da-43fe-ee00-cb93e540c049"
      },
      "source": [
        "152/7"
      ],
      "execution_count": null,
      "outputs": [
        {
          "output_type": "execute_result",
          "data": {
            "text/plain": [
              "21.714285714285715"
            ]
          },
          "metadata": {
            "tags": []
          },
          "execution_count": 205
        }
      ]
    },
    {
      "cell_type": "code",
      "metadata": {
        "ExecuteTime": {
          "end_time": "2021-08-05T22:06:31.832307Z",
          "start_time": "2021-08-05T22:06:31.584917Z"
        },
        "id": "_N5CCfCnp7V2",
        "outputId": "b5077645-3fce-4109-d1a7-f88111755880"
      },
      "source": [
        "x_input = X_test_s.reshape((1,30, 1))\n",
        "y_pred = model.predict(x_input, verbose=0)"
      ],
      "execution_count": null,
      "outputs": [
        {
          "output_type": "stream",
          "text": [
            "WARNING:tensorflow:10 out of the last 11 calls to <function Model.make_predict_function.<locals>.predict_function at 0x000002C494F23828> triggered tf.function retracing. Tracing is expensive and the excessive number of tracings could be due to (1) creating @tf.function repeatedly in a loop, (2) passing tensors with different shapes, (3) passing Python objects instead of tensors. For (1), please define your @tf.function outside of the loop. For (2), @tf.function has experimental_relax_shapes=True option that relaxes argument shapes that can avoid unnecessary retracing. For (3), please refer to https://www.tensorflow.org/tutorials/customization/performance#python_or_tensor_args and https://www.tensorflow.org/api_docs/python/tf/function for  more details.\n"
          ],
          "name": "stdout"
        }
      ]
    },
    {
      "cell_type": "code",
      "metadata": {
        "ExecuteTime": {
          "end_time": "2021-08-05T22:06:40.418049Z",
          "start_time": "2021-08-05T22:06:40.408043Z"
        },
        "id": "sOZaojjCp7V2",
        "outputId": "61c34e19-9f7d-4114-b465-408ee967240b"
      },
      "source": [
        "y_pred.shape"
      ],
      "execution_count": null,
      "outputs": [
        {
          "output_type": "execute_result",
          "data": {
            "text/plain": [
              "(1, 22, 1)"
            ]
          },
          "metadata": {
            "tags": []
          },
          "execution_count": 214
        }
      ]
    },
    {
      "cell_type": "code",
      "metadata": {
        "ExecuteTime": {
          "end_time": "2021-08-05T22:08:39.409559Z",
          "start_time": "2021-08-05T22:08:39.230600Z"
        },
        "id": "Hsf3jCyEp7V2",
        "outputId": "8154bad3-69da-48bc-ba6f-91e03b12049d"
      },
      "source": [
        "x_input = X[-1].reshape((1, 144, 1))\n",
        "y_pred_horas = model_h.predict(x_input, verbose=0)"
      ],
      "execution_count": null,
      "outputs": [
        {
          "output_type": "stream",
          "text": [
            "WARNING:tensorflow:10 out of the last 11 calls to <function Model.make_predict_function.<locals>.predict_function at 0x000002C4F8C9C9D8> triggered tf.function retracing. Tracing is expensive and the excessive number of tracings could be due to (1) creating @tf.function repeatedly in a loop, (2) passing tensors with different shapes, (3) passing Python objects instead of tensors. For (1), please define your @tf.function outside of the loop. For (2), @tf.function has experimental_relax_shapes=True option that relaxes argument shapes that can avoid unnecessary retracing. For (3), please refer to https://www.tensorflow.org/tutorials/customization/performance#python_or_tensor_args and https://www.tensorflow.org/api_docs/python/tf/function for  more details.\n"
          ],
          "name": "stdout"
        }
      ]
    },
    {
      "cell_type": "code",
      "metadata": {
        "ExecuteTime": {
          "end_time": "2021-08-05T22:08:50.765605Z",
          "start_time": "2021-08-05T22:08:50.751656Z"
        },
        "id": "KSIgPNY_p7V2",
        "outputId": "023e8c8d-c880-40ec-d3bc-5e0d9d06b295"
      },
      "source": [
        "y_pred_horas.shape"
      ],
      "execution_count": null,
      "outputs": [
        {
          "output_type": "execute_result",
          "data": {
            "text/plain": [
              "(1, 144)"
            ]
          },
          "metadata": {
            "tags": []
          },
          "execution_count": 223
        }
      ]
    },
    {
      "cell_type": "code",
      "metadata": {
        "ExecuteTime": {
          "end_time": "2021-08-05T22:11:29.725318Z",
          "start_time": "2021-08-05T22:11:29.703281Z"
        },
        "id": "XgL3xHofp7V2"
      },
      "source": [
        "ejemplo= pd.read_csv('velocidad-viento/sampleSubmission.csv')"
      ],
      "execution_count": null,
      "outputs": []
    },
    {
      "cell_type": "code",
      "metadata": {
        "ExecuteTime": {
          "end_time": "2021-08-05T23:27:07.582616Z",
          "start_time": "2021-08-05T23:27:07.575653Z"
        },
        "id": "6H0UvLjFp7V2"
      },
      "source": [
        "def vector(listatupla):\n",
        "    summit=pd.DataFrame(listatupla)\n",
        "    summit.columns=[\"'Fecha'\",\"'Velocidad de viento en 20.0 metros [mean]'\"]\n",
        "    summit=summit.set_index(\"'Fecha'\")\n",
        "    summit= summit[summit.columns[0]].astype(float)\n",
        "    return pd.DataFrame(summit)"
      ],
      "execution_count": null,
      "outputs": []
    },
    {
      "cell_type": "code",
      "metadata": {
        "id": "0LDF2yVdp7V2"
      },
      "source": [
        ""
      ],
      "execution_count": null,
      "outputs": []
    },
    {
      "cell_type": "code",
      "metadata": {
        "ExecuteTime": {
          "end_time": "2021-08-05T22:14:59.588094Z",
          "start_time": "2021-08-05T22:14:59.576059Z"
        },
        "id": "mnGmPIDpp7V3",
        "outputId": "5fdf4dc0-b034-417b-d556-14b581ff4adb"
      },
      "source": [
        "vector(ejemplo)"
      ],
      "execution_count": null,
      "outputs": [
        {
          "output_type": "execute_result",
          "data": {
            "text/html": [
              "<div>\n",
              "<style scoped>\n",
              "    .dataframe tbody tr th:only-of-type {\n",
              "        vertical-align: middle;\n",
              "    }\n",
              "\n",
              "    .dataframe tbody tr th {\n",
              "        vertical-align: top;\n",
              "    }\n",
              "\n",
              "    .dataframe thead th {\n",
              "        text-align: right;\n",
              "    }\n",
              "</style>\n",
              "<table border=\"1\" class=\"dataframe\">\n",
              "  <thead>\n",
              "    <tr style=\"text-align: right;\">\n",
              "      <th></th>\n",
              "      <th>'Velocidad de viento en 20.0 metros [mean]'</th>\n",
              "    </tr>\n",
              "    <tr>\n",
              "      <th>'Fecha'</th>\n",
              "      <th></th>\n",
              "    </tr>\n",
              "  </thead>\n",
              "  <tbody>\n",
              "    <tr>\n",
              "      <th>26-04-2015 01:50</th>\n",
              "      <td>0.0</td>\n",
              "    </tr>\n",
              "    <tr>\n",
              "      <th>26-04-2015 03:10</th>\n",
              "      <td>0.0</td>\n",
              "    </tr>\n",
              "    <tr>\n",
              "      <th>26-04-2015 04:20</th>\n",
              "      <td>0.0</td>\n",
              "    </tr>\n",
              "    <tr>\n",
              "      <th>26-04-2015 05:20</th>\n",
              "      <td>0.0</td>\n",
              "    </tr>\n",
              "    <tr>\n",
              "      <th>26-04-2015 06:40</th>\n",
              "      <td>0.0</td>\n",
              "    </tr>\n",
              "    <tr>\n",
              "      <th>...</th>\n",
              "      <td>...</td>\n",
              "    </tr>\n",
              "    <tr>\n",
              "      <th>19-09-2015 08:10</th>\n",
              "      <td>0.0</td>\n",
              "    </tr>\n",
              "    <tr>\n",
              "      <th>21-09-2015 11:20</th>\n",
              "      <td>0.0</td>\n",
              "    </tr>\n",
              "    <tr>\n",
              "      <th>22-09-2015 10:30</th>\n",
              "      <td>0.0</td>\n",
              "    </tr>\n",
              "    <tr>\n",
              "      <th>23-09-2015 17:30</th>\n",
              "      <td>0.0</td>\n",
              "    </tr>\n",
              "    <tr>\n",
              "      <th>24-09-2015 00:10</th>\n",
              "      <td>0.0</td>\n",
              "    </tr>\n",
              "  </tbody>\n",
              "</table>\n",
              "<p>2000 rows × 1 columns</p>\n",
              "</div>"
            ],
            "text/plain": [
              "                  'Velocidad de viento en 20.0 metros [mean]'\n",
              "'Fecha'                                                      \n",
              "26-04-2015 01:50                                          0.0\n",
              "26-04-2015 03:10                                          0.0\n",
              "26-04-2015 04:20                                          0.0\n",
              "26-04-2015 05:20                                          0.0\n",
              "26-04-2015 06:40                                          0.0\n",
              "...                                                       ...\n",
              "19-09-2015 08:10                                          0.0\n",
              "21-09-2015 11:20                                          0.0\n",
              "22-09-2015 10:30                                          0.0\n",
              "23-09-2015 17:30                                          0.0\n",
              "24-09-2015 00:10                                          0.0\n",
              "\n",
              "[2000 rows x 1 columns]"
            ]
          },
          "metadata": {
            "tags": []
          },
          "execution_count": 234
        }
      ]
    },
    {
      "cell_type": "code",
      "metadata": {
        "ExecuteTime": {
          "end_time": "2021-08-05T22:16:25.382455Z",
          "start_time": "2021-08-05T22:16:25.367456Z"
        },
        "id": "aik_gTEUp7V3",
        "outputId": "96265ea4-950f-4979-c7da-63c385351fa6"
      },
      "source": [
        "l"
      ],
      "execution_count": null,
      "outputs": [
        {
          "output_type": "execute_result",
          "data": {
            "text/plain": [
              "0      2015-04-26 01:50:00\n",
              "1      2015-04-26 03:10:00\n",
              "2      2015-04-26 04:20:00\n",
              "3      2015-04-26 05:20:00\n",
              "4      2015-04-26 06:40:00\n",
              "               ...        \n",
              "1995   2015-09-19 08:10:00\n",
              "1996   2015-09-21 11:20:00\n",
              "1997   2015-09-22 10:30:00\n",
              "1998   2015-09-23 17:30:00\n",
              "1999   2015-09-24 00:10:00\n",
              "Length: 2000, dtype: datetime64[ns]"
            ]
          },
          "metadata": {
            "tags": []
          },
          "execution_count": 240
        }
      ]
    },
    {
      "cell_type": "code",
      "metadata": {
        "ExecuteTime": {
          "end_time": "2021-08-05T22:15:09.373958Z",
          "start_time": "2021-08-05T22:15:09.358927Z"
        },
        "id": "1qXqlbT0p7V3",
        "outputId": "75fc589b-ff31-4945-f2bf-e5c2018e50e6"
      },
      "source": [
        "ejemplo"
      ],
      "execution_count": null,
      "outputs": [
        {
          "output_type": "execute_result",
          "data": {
            "text/html": [
              "<div>\n",
              "<style scoped>\n",
              "    .dataframe tbody tr th:only-of-type {\n",
              "        vertical-align: middle;\n",
              "    }\n",
              "\n",
              "    .dataframe tbody tr th {\n",
              "        vertical-align: top;\n",
              "    }\n",
              "\n",
              "    .dataframe thead th {\n",
              "        text-align: right;\n",
              "    }\n",
              "</style>\n",
              "<table border=\"1\" class=\"dataframe\">\n",
              "  <thead>\n",
              "    <tr style=\"text-align: right;\">\n",
              "      <th></th>\n",
              "      <th>'Fecha'</th>\n",
              "      <th>'Velocidad de viento en 20.0 metros [mean]'</th>\n",
              "    </tr>\n",
              "  </thead>\n",
              "  <tbody>\n",
              "    <tr>\n",
              "      <th>0</th>\n",
              "      <td>26-04-2015 01:50</td>\n",
              "      <td>0</td>\n",
              "    </tr>\n",
              "    <tr>\n",
              "      <th>1</th>\n",
              "      <td>26-04-2015 03:10</td>\n",
              "      <td>0</td>\n",
              "    </tr>\n",
              "    <tr>\n",
              "      <th>2</th>\n",
              "      <td>26-04-2015 04:20</td>\n",
              "      <td>0</td>\n",
              "    </tr>\n",
              "    <tr>\n",
              "      <th>3</th>\n",
              "      <td>26-04-2015 05:20</td>\n",
              "      <td>0</td>\n",
              "    </tr>\n",
              "    <tr>\n",
              "      <th>4</th>\n",
              "      <td>26-04-2015 06:40</td>\n",
              "      <td>0</td>\n",
              "    </tr>\n",
              "    <tr>\n",
              "      <th>...</th>\n",
              "      <td>...</td>\n",
              "      <td>...</td>\n",
              "    </tr>\n",
              "    <tr>\n",
              "      <th>1995</th>\n",
              "      <td>19-09-2015 08:10</td>\n",
              "      <td>0</td>\n",
              "    </tr>\n",
              "    <tr>\n",
              "      <th>1996</th>\n",
              "      <td>21-09-2015 11:20</td>\n",
              "      <td>0</td>\n",
              "    </tr>\n",
              "    <tr>\n",
              "      <th>1997</th>\n",
              "      <td>22-09-2015 10:30</td>\n",
              "      <td>0</td>\n",
              "    </tr>\n",
              "    <tr>\n",
              "      <th>1998</th>\n",
              "      <td>23-09-2015 17:30</td>\n",
              "      <td>0</td>\n",
              "    </tr>\n",
              "    <tr>\n",
              "      <th>1999</th>\n",
              "      <td>24-09-2015 00:10</td>\n",
              "      <td>0</td>\n",
              "    </tr>\n",
              "  </tbody>\n",
              "</table>\n",
              "<p>2000 rows × 2 columns</p>\n",
              "</div>"
            ],
            "text/plain": [
              "               'Fecha'  'Velocidad de viento en 20.0 metros [mean]'\n",
              "0     26-04-2015 01:50                                            0\n",
              "1     26-04-2015 03:10                                            0\n",
              "2     26-04-2015 04:20                                            0\n",
              "3     26-04-2015 05:20                                            0\n",
              "4     26-04-2015 06:40                                            0\n",
              "...                ...                                          ...\n",
              "1995  19-09-2015 08:10                                            0\n",
              "1996  21-09-2015 11:20                                            0\n",
              "1997  22-09-2015 10:30                                            0\n",
              "1998  23-09-2015 17:30                                            0\n",
              "1999  24-09-2015 00:10                                            0\n",
              "\n",
              "[2000 rows x 2 columns]"
            ]
          },
          "metadata": {
            "tags": []
          },
          "execution_count": 235
        }
      ]
    },
    {
      "cell_type": "code",
      "metadata": {
        "ExecuteTime": {
          "end_time": "2021-08-05T22:20:47.770281Z",
          "start_time": "2021-08-05T22:20:47.751628Z"
        },
        "id": "jQ-Syo51p7V3",
        "outputId": "08cfa0fb-baad-4d51-8bb2-ffc8884fd1f1"
      },
      "source": [
        "l[0].date()"
      ],
      "execution_count": null,
      "outputs": [
        {
          "output_type": "execute_result",
          "data": {
            "text/plain": [
              "datetime.date(2015, 4, 26)"
            ]
          },
          "metadata": {
            "tags": []
          },
          "execution_count": 254
        }
      ]
    },
    {
      "cell_type": "code",
      "metadata": {
        "ExecuteTime": {
          "end_time": "2021-08-05T22:20:40.654601Z",
          "start_time": "2021-08-05T22:20:40.639617Z"
        },
        "id": "aY3w-Sbap7V3",
        "outputId": "9505dae5-7468-47e0-8926-f2c95e96299e"
      },
      "source": [
        "l[100].date()"
      ],
      "execution_count": null,
      "outputs": [
        {
          "output_type": "execute_result",
          "data": {
            "text/plain": [
              "datetime.date(2015, 5, 1)"
            ]
          },
          "metadata": {
            "tags": []
          },
          "execution_count": 253
        }
      ]
    },
    {
      "cell_type": "code",
      "metadata": {
        "ExecuteTime": {
          "end_time": "2021-08-05T22:20:28.001149Z",
          "start_time": "2021-08-05T22:20:27.985144Z"
        },
        "id": "_B3vK7aQp7V3",
        "outputId": "aed3623c-721b-4d18-d053-7fb68625e13a"
      },
      "source": [
        "a=l[0].date()-l[100].date()\n",
        "a.days"
      ],
      "execution_count": null,
      "outputs": [
        {
          "output_type": "execute_result",
          "data": {
            "text/plain": [
              "-5"
            ]
          },
          "metadata": {
            "tags": []
          },
          "execution_count": 252
        }
      ]
    },
    {
      "cell_type": "code",
      "metadata": {
        "ExecuteTime": {
          "end_time": "2021-08-05T22:21:57.026190Z",
          "start_time": "2021-08-05T22:21:57.017188Z"
        },
        "id": "oC9eMnX-p7V3",
        "outputId": "e9eb73df-3dec-4178-da13-4d7006eff80f"
      },
      "source": [
        "l"
      ],
      "execution_count": null,
      "outputs": [
        {
          "output_type": "execute_result",
          "data": {
            "text/plain": [
              "0      2015-04-26 01:50:00\n",
              "1      2015-04-26 03:10:00\n",
              "2      2015-04-26 04:20:00\n",
              "3      2015-04-26 05:20:00\n",
              "4      2015-04-26 06:40:00\n",
              "               ...        \n",
              "1995   2015-09-19 08:10:00\n",
              "1996   2015-09-21 11:20:00\n",
              "1997   2015-09-22 10:30:00\n",
              "1998   2015-09-23 17:30:00\n",
              "1999   2015-09-24 00:10:00\n",
              "Length: 2000, dtype: datetime64[ns]"
            ]
          },
          "metadata": {
            "tags": []
          },
          "execution_count": 255
        }
      ]
    },
    {
      "cell_type": "code",
      "metadata": {
        "ExecuteTime": {
          "end_time": "2021-08-05T22:23:06.630179Z",
          "start_time": "2021-08-05T22:23:06.617723Z"
        },
        "id": "Huf7VlmWp7V3",
        "outputId": "c24ded50-c5e5-4934-ec07-a4d4e458fda6"
      },
      "source": [
        "y_pred[0][0]"
      ],
      "execution_count": null,
      "outputs": [
        {
          "output_type": "execute_result",
          "data": {
            "text/plain": [
              "array([7.067201], dtype=float32)"
            ]
          },
          "metadata": {
            "tags": []
          },
          "execution_count": 260
        }
      ]
    },
    {
      "cell_type": "code",
      "metadata": {
        "ExecuteTime": {
          "end_time": "2021-08-05T22:31:05.246209Z",
          "start_time": "2021-08-05T22:31:05.240210Z"
        },
        "id": "KONY6owap7V3",
        "outputId": "64299bdd-1d0b-497e-dbb4-b14ee4d84f7b"
      },
      "source": [
        "l[0].time()"
      ],
      "execution_count": null,
      "outputs": [
        {
          "output_type": "execute_result",
          "data": {
            "text/plain": [
              "datetime.time(1, 50)"
            ]
          },
          "metadata": {
            "tags": []
          },
          "execution_count": 291
        }
      ]
    },
    {
      "cell_type": "code",
      "metadata": {
        "ExecuteTime": {
          "end_time": "2021-08-05T22:30:41.913471Z",
          "start_time": "2021-08-05T22:30:41.904475Z"
        },
        "id": "_lwrkGcOp7V3",
        "outputId": "8a0c3bcf-bb5f-4f9b-f8d1-144a2e3e51d3"
      },
      "source": [
        "int(l[0].time().hour*6+ (l[0].time().minute)/10)"
      ],
      "execution_count": null,
      "outputs": [
        {
          "output_type": "execute_result",
          "data": {
            "text/plain": [
              "11"
            ]
          },
          "metadata": {
            "tags": []
          },
          "execution_count": 290
        }
      ]
    },
    {
      "cell_type": "code",
      "metadata": {
        "ExecuteTime": {
          "end_time": "2021-08-05T22:32:03.001101Z",
          "start_time": "2021-08-05T22:32:02.984060Z"
        },
        "id": "25ryoMNHp7V3",
        "outputId": "32c35623-bebe-4adc-ce5a-9930e558951a"
      },
      "source": [
        "y_pred_horas[0][2]"
      ],
      "execution_count": null,
      "outputs": [
        {
          "output_type": "execute_result",
          "data": {
            "text/plain": [
              "0.5442344"
            ]
          },
          "metadata": {
            "tags": []
          },
          "execution_count": 294
        }
      ]
    },
    {
      "cell_type": "code",
      "metadata": {
        "ExecuteTime": {
          "end_time": "2021-08-05T22:34:05.378190Z",
          "start_time": "2021-08-05T22:34:05.359191Z"
        },
        "id": "hrA8VjZup7V4",
        "outputId": "a521f5bb-525a-4edd-c598-179d687c980f"
      },
      "source": [
        "l[10].date()-l[10-1].date()"
      ],
      "execution_count": null,
      "outputs": [
        {
          "output_type": "execute_result",
          "data": {
            "text/plain": [
              "datetime.timedelta(0)"
            ]
          },
          "metadata": {
            "tags": []
          },
          "execution_count": 298
        }
      ]
    },
    {
      "cell_type": "code",
      "metadata": {
        "ExecuteTime": {
          "end_time": "2021-08-05T22:34:31.749296Z",
          "start_time": "2021-08-05T22:34:31.744294Z"
        },
        "id": "_Bx1xqeDp7V4",
        "outputId": "1faf542c-20bd-4c8b-e14f-fc38e3cb43da"
      },
      "source": [
        "l"
      ],
      "execution_count": null,
      "outputs": [
        {
          "output_type": "execute_result",
          "data": {
            "text/plain": [
              "0      2015-04-26 01:50:00\n",
              "1      2015-04-26 03:10:00\n",
              "2      2015-04-26 04:20:00\n",
              "3      2015-04-26 05:20:00\n",
              "4      2015-04-26 06:40:00\n",
              "               ...        \n",
              "1995   2015-09-19 08:10:00\n",
              "1996   2015-09-21 11:20:00\n",
              "1997   2015-09-22 10:30:00\n",
              "1998   2015-09-23 17:30:00\n",
              "1999   2015-09-24 00:10:00\n",
              "Length: 2000, dtype: datetime64[ns]"
            ]
          },
          "metadata": {
            "tags": []
          },
          "execution_count": 299
        }
      ]
    },
    {
      "cell_type": "code",
      "metadata": {
        "ExecuteTime": {
          "end_time": "2021-08-05T22:38:34.595994Z",
          "start_time": "2021-08-05T22:38:34.585051Z"
        },
        "id": "CSGdk5eAp7V4",
        "outputId": "79cae10b-fe9d-4743-e6d8-61de9e00772f"
      },
      "source": [
        "(l[100].date()-l[0].date()).days"
      ],
      "execution_count": null,
      "outputs": [
        {
          "output_type": "execute_result",
          "data": {
            "text/plain": [
              "5"
            ]
          },
          "metadata": {
            "tags": []
          },
          "execution_count": 306
        }
      ]
    },
    {
      "cell_type": "code",
      "metadata": {
        "ExecuteTime": {
          "end_time": "2021-08-05T22:45:46.150067Z",
          "start_time": "2021-08-05T22:45:46.144068Z"
        },
        "id": "_QlfjFw4p7V4",
        "outputId": "2cd4ff9f-f467-4bd2-f964-fa81707aaff7"
      },
      "source": [
        "l[0]"
      ],
      "execution_count": null,
      "outputs": [
        {
          "output_type": "execute_result",
          "data": {
            "text/plain": [
              "Timestamp('2015-04-26 01:50:00')"
            ]
          },
          "metadata": {
            "tags": []
          },
          "execution_count": 310
        }
      ]
    },
    {
      "cell_type": "code",
      "metadata": {
        "ExecuteTime": {
          "end_time": "2021-08-05T22:45:56.009859Z",
          "start_time": "2021-08-05T22:45:56.000900Z"
        },
        "id": "WBMFgBtOp7V4",
        "outputId": "4e23a0ec-7f6f-4049-90a2-5c0acb95678c"
      },
      "source": [
        "l[0]+timedelta(minutes= 10)"
      ],
      "execution_count": null,
      "outputs": [
        {
          "output_type": "execute_result",
          "data": {
            "text/plain": [
              "Timestamp('2015-04-26 02:00:00')"
            ]
          },
          "metadata": {
            "tags": []
          },
          "execution_count": 311
        }
      ]
    },
    {
      "cell_type": "code",
      "metadata": {
        "ExecuteTime": {
          "end_time": "2021-08-05T22:56:31.507883Z",
          "start_time": "2021-08-05T22:56:31.488893Z"
        },
        "id": "PIdL8Zlip7V4",
        "outputId": "2139d416-72f0-40a9-9ddc-bda3ccb37442"
      },
      "source": [
        "pd.to_datetime(\"26-04-2015 00:00\",format='%d-%m-%Y %H:%M')== pd.to_datetime(\"26-04-2015 00:10\",format='%d-%m-%Y %H:%M')"
      ],
      "execution_count": null,
      "outputs": [
        {
          "output_type": "execute_result",
          "data": {
            "text/plain": [
              "False"
            ]
          },
          "metadata": {
            "tags": []
          },
          "execution_count": 322
        }
      ]
    },
    {
      "cell_type": "code",
      "metadata": {
        "ExecuteTime": {
          "end_time": "2021-08-05T22:45:37.195777Z",
          "start_time": "2021-08-05T22:45:37.185781Z"
        },
        "id": "sVSqhutCp7V4",
        "outputId": "d430b189-b648-462c-f170-d1bbae9357a3"
      },
      "source": [
        "timedelta(minutes= 10)"
      ],
      "execution_count": null,
      "outputs": [
        {
          "output_type": "execute_result",
          "data": {
            "text/plain": [
              "datetime.timedelta(seconds=600)"
            ]
          },
          "metadata": {
            "tags": []
          },
          "execution_count": 309
        }
      ]
    },
    {
      "cell_type": "code",
      "metadata": {
        "ExecuteTime": {
          "end_time": "2021-08-05T23:14:39.397839Z",
          "start_time": "2021-08-05T23:14:39.378839Z"
        },
        "id": "fcdJo2g6p7V4",
        "outputId": "5946c8f5-b217-46d0-af2e-48130f6f1926"
      },
      "source": [
        "l"
      ],
      "execution_count": null,
      "outputs": [
        {
          "output_type": "execute_result",
          "data": {
            "text/plain": [
              "0      2015-04-26 01:50:00\n",
              "1      2015-04-26 03:10:00\n",
              "2      2015-04-26 04:20:00\n",
              "3      2015-04-26 05:20:00\n",
              "4      2015-04-26 06:40:00\n",
              "               ...        \n",
              "1995   2015-09-19 08:10:00\n",
              "1996   2015-09-21 11:20:00\n",
              "1997   2015-09-22 10:30:00\n",
              "1998   2015-09-23 17:30:00\n",
              "1999   2015-09-24 00:10:00\n",
              "Length: 2000, dtype: datetime64[ns]"
            ]
          },
          "metadata": {
            "tags": []
          },
          "execution_count": 354
        }
      ]
    },
    {
      "cell_type": "code",
      "metadata": {
        "ExecuteTime": {
          "end_time": "2021-08-05T23:24:59.040305Z",
          "start_time": "2021-08-05T23:24:57.247288Z"
        },
        "id": "WZdN3RHXp7V4"
      },
      "source": [
        "fecha= pd.to_datetime(\"26-04-2015 00:00\",format='%d-%m-%Y %H:%M')\n",
        "fechas_completas=[]\n",
        "while(fecha != pd.to_datetime(\"24-09-2015 00:20\",format='%d-%m-%Y %H:%M')):\n",
        "    fechas_completas.append(fecha)\n",
        "    fecha= fecha+timedelta(minutes= 10)\n",
        "    \n",
        "    \n",
        "    "
      ],
      "execution_count": null,
      "outputs": []
    },
    {
      "cell_type": "code",
      "metadata": {
        "ExecuteTime": {
          "end_time": "2021-08-05T23:26:23.046799Z",
          "start_time": "2021-08-05T23:26:23.000796Z"
        },
        "id": "QSLeXGp6p7V5"
      },
      "source": [
        "resultado=[]\n",
        "for semana in  y_pred[0]:\n",
        "    for dia in range(7):\n",
        "        for hora in y_pred_horas[0]:\n",
        "            resultado.append(float(semana)+hora)    "
      ],
      "execution_count": null,
      "outputs": []
    },
    {
      "cell_type": "code",
      "metadata": {
        "ExecuteTime": {
          "end_time": "2021-08-05T23:25:13.360730Z",
          "start_time": "2021-08-05T23:25:13.343729Z"
        },
        "id": "0Kr1m82gp7V5",
        "outputId": "49600bbe-73fb-40db-e799-2a8f58f5ade8"
      },
      "source": [
        "len(resultado)"
      ],
      "execution_count": null,
      "outputs": [
        {
          "output_type": "execute_result",
          "data": {
            "text/plain": [
              "21746"
            ]
          },
          "metadata": {
            "tags": []
          },
          "execution_count": 379
        }
      ]
    },
    {
      "cell_type": "code",
      "metadata": {
        "ExecuteTime": {
          "end_time": "2021-08-05T23:25:02.990181Z",
          "start_time": "2021-08-05T23:25:02.975182Z"
        },
        "id": "N81Xud7ip7V5",
        "outputId": "d574174c-7c6f-44f9-e2a1-cc24abd8df25"
      },
      "source": [
        "len(fechas_completas)"
      ],
      "execution_count": null,
      "outputs": [
        {
          "output_type": "execute_result",
          "data": {
            "text/plain": [
              "21746"
            ]
          },
          "metadata": {
            "tags": []
          },
          "execution_count": 376
        }
      ]
    },
    {
      "cell_type": "code",
      "metadata": {
        "ExecuteTime": {
          "end_time": "2021-08-05T23:26:27.585545Z",
          "start_time": "2021-08-05T23:26:27.576443Z"
        },
        "id": "eHNXM8VGp7V5"
      },
      "source": [
        "resultado= resultado[:len(fechas_completas)]"
      ],
      "execution_count": null,
      "outputs": []
    },
    {
      "cell_type": "code",
      "metadata": {
        "ExecuteTime": {
          "end_time": "2021-08-05T23:20:21.391732Z",
          "start_time": "2021-08-05T23:20:21.383775Z"
        },
        "id": "JR3hEu1-p7V5",
        "outputId": "e82953ca-6c7d-4efd-d1f3-af370e2c3026"
      },
      "source": [
        "l"
      ],
      "execution_count": null,
      "outputs": [
        {
          "output_type": "execute_result",
          "data": {
            "text/plain": [
              "0      2015-04-26 01:50:00\n",
              "1      2015-04-26 03:10:00\n",
              "2      2015-04-26 04:20:00\n",
              "3      2015-04-26 05:20:00\n",
              "4      2015-04-26 06:40:00\n",
              "               ...        \n",
              "1995   2015-09-19 08:10:00\n",
              "1996   2015-09-21 11:20:00\n",
              "1997   2015-09-22 10:30:00\n",
              "1998   2015-09-23 17:30:00\n",
              "1999   2015-09-24 00:10:00\n",
              "Length: 2000, dtype: datetime64[ns]"
            ]
          },
          "metadata": {
            "tags": []
          },
          "execution_count": 368
        }
      ]
    },
    {
      "cell_type": "code",
      "metadata": {
        "ExecuteTime": {
          "end_time": "2021-08-05T23:23:11.327092Z",
          "start_time": "2021-08-05T23:23:11.319091Z"
        },
        "id": "ce7_3T8Cp7V5",
        "outputId": "1350f044-9912-4e1b-84f1-204bf7e8945e"
      },
      "source": [
        "resultado[11]"
      ],
      "execution_count": null,
      "outputs": [
        {
          "output_type": "execute_result",
          "data": {
            "text/plain": [
              "array([8.301934], dtype=float32)"
            ]
          },
          "metadata": {
            "tags": []
          },
          "execution_count": 372
        }
      ]
    },
    {
      "cell_type": "code",
      "metadata": {
        "ExecuteTime": {
          "end_time": "2021-08-05T23:23:01.914750Z",
          "start_time": "2021-08-05T23:23:01.903762Z"
        },
        "id": "MTetuviKp7V5",
        "outputId": "2e663e12-8194-44b0-88cf-6666c01a25c7"
      },
      "source": [
        "fechas_completas.index(l[0])"
      ],
      "execution_count": null,
      "outputs": [
        {
          "output_type": "execute_result",
          "data": {
            "text/plain": [
              "11"
            ]
          },
          "metadata": {
            "tags": []
          },
          "execution_count": 371
        }
      ]
    },
    {
      "cell_type": "code",
      "metadata": {
        "ExecuteTime": {
          "end_time": "2021-08-05T23:25:39.534863Z",
          "start_time": "2021-08-05T23:25:39.423822Z"
        },
        "id": "Zvk01UOIp7V5",
        "outputId": "c6099616-d86b-4145-ce41-00a665e83666"
      },
      "source": [
        "resultado"
      ],
      "execution_count": null,
      "outputs": [
        {
          "output_type": "execute_result",
          "data": {
            "text/plain": [
              "[array([7.595862], dtype=float32),\n",
              " array([7.620867], dtype=float32),\n",
              " array([7.6114354], dtype=float32),\n",
              " array([7.7179713], dtype=float32),\n",
              " array([7.806505], dtype=float32),\n",
              " array([7.966244], dtype=float32),\n",
              " array([7.971353], dtype=float32),\n",
              " array([8.020852], dtype=float32),\n",
              " array([8.1463], dtype=float32),\n",
              " array([8.136526], dtype=float32),\n",
              " array([8.370214], dtype=float32),\n",
              " array([8.301934], dtype=float32),\n",
              " array([8.500356], dtype=float32),\n",
              " array([8.432432], dtype=float32),\n",
              " array([8.498327], dtype=float32),\n",
              " array([8.514758], dtype=float32),\n",
              " array([8.540367], dtype=float32),\n",
              " array([8.713871], dtype=float32),\n",
              " array([8.857152], dtype=float32),\n",
              " array([8.798668], dtype=float32),\n",
              " array([8.891548], dtype=float32),\n",
              " array([8.942765], dtype=float32),\n",
              " array([9.057807], dtype=float32),\n",
              " array([9.076251], dtype=float32),\n",
              " array([9.156215], dtype=float32),\n",
              " array([9.258865], dtype=float32),\n",
              " array([8.52165], dtype=float32),\n",
              " array([9.293065], dtype=float32),\n",
              " array([9.40056], dtype=float32),\n",
              " array([9.475303], dtype=float32),\n",
              " array([9.452221], dtype=float32),\n",
              " array([9.343656], dtype=float32),\n",
              " array([9.640955], dtype=float32),\n",
              " array([9.684704], dtype=float32),\n",
              " array([9.746991], dtype=float32),\n",
              " array([9.88612], dtype=float32),\n",
              " array([9.962733], dtype=float32),\n",
              " array([8.131171], dtype=float32),\n",
              " array([9.551259], dtype=float32),\n",
              " array([8.507866], dtype=float32),\n",
              " array([9.801783], dtype=float32),\n",
              " array([10.176992], dtype=float32),\n",
              " array([9.588412], dtype=float32),\n",
              " array([8.971643], dtype=float32),\n",
              " array([10.135002], dtype=float32),\n",
              " array([10.220809], dtype=float32),\n",
              " array([9.005439], dtype=float32),\n",
              " array([9.448227], dtype=float32),\n",
              " array([9.2023945], dtype=float32),\n",
              " array([9.996457], dtype=float32),\n",
              " array([9.838236], dtype=float32),\n",
              " array([9.768464], dtype=float32),\n",
              " array([9.6511345], dtype=float32),\n",
              " array([9.361113], dtype=float32),\n",
              " array([9.428223], dtype=float32),\n",
              " array([9.178455], dtype=float32),\n",
              " array([8.8014765], dtype=float32),\n",
              " array([8.969342], dtype=float32),\n",
              " array([8.826699], dtype=float32),\n",
              " array([8.782115], dtype=float32),\n",
              " array([8.647108], dtype=float32),\n",
              " array([8.242333], dtype=float32),\n",
              " array([8.387207], dtype=float32),\n",
              " array([8.145302], dtype=float32),\n",
              " array([8.354605], dtype=float32),\n",
              " array([7.911818], dtype=float32),\n",
              " array([7.7182584], dtype=float32),\n",
              " array([7.5472813], dtype=float32),\n",
              " array([7.4070387], dtype=float32),\n",
              " array([7.364776], dtype=float32),\n",
              " array([7.1253777], dtype=float32),\n",
              " array([6.9646206], dtype=float32),\n",
              " array([6.75374], dtype=float32),\n",
              " array([6.5329304], dtype=float32),\n",
              " array([6.354024], dtype=float32),\n",
              " array([6.2326894], dtype=float32),\n",
              " array([6.1651073], dtype=float32),\n",
              " array([5.799512], dtype=float32),\n",
              " array([5.75231], dtype=float32),\n",
              " array([5.697521], dtype=float32),\n",
              " array([5.452588], dtype=float32),\n",
              " array([5.2360477], dtype=float32),\n",
              " array([5.2398396], dtype=float32),\n",
              " array([5.045702], dtype=float32),\n",
              " array([5.022986], dtype=float32),\n",
              " array([4.8662624], dtype=float32),\n",
              " array([4.7387238], dtype=float32),\n",
              " array([4.755381], dtype=float32),\n",
              " array([4.890373], dtype=float32),\n",
              " array([4.402893], dtype=float32),\n",
              " array([4.301502], dtype=float32),\n",
              " array([4.1817083], dtype=float32),\n",
              " array([4.0704], dtype=float32),\n",
              " array([4.0639515], dtype=float32),\n",
              " array([5.6296997], dtype=float32),\n",
              " array([3.875764], dtype=float32),\n",
              " array([3.8257737], dtype=float32),\n",
              " array([3.7605405], dtype=float32),\n",
              " array([3.7850375], dtype=float32),\n",
              " array([3.65902], dtype=float32),\n",
              " array([3.778708], dtype=float32),\n",
              " array([3.6788135], dtype=float32),\n",
              " array([4.0218925], dtype=float32),\n",
              " array([3.7180777], dtype=float32),\n",
              " array([3.779421], dtype=float32),\n",
              " array([3.9755769], dtype=float32),\n",
              " array([3.8833642], dtype=float32),\n",
              " array([4.4839964], dtype=float32),\n",
              " array([4.093867], dtype=float32),\n",
              " array([4.1591177], dtype=float32),\n",
              " array([4.2451086], dtype=float32),\n",
              " array([5.5532045], dtype=float32),\n",
              " array([4.400646], dtype=float32),\n",
              " array([4.541648], dtype=float32),\n",
              " array([4.7661285], dtype=float32),\n",
              " array([4.884063], dtype=float32),\n",
              " array([4.9414587], dtype=float32),\n",
              " array([4.9391603], dtype=float32),\n",
              " array([5.0676537], dtype=float32),\n",
              " array([5.133299], dtype=float32),\n",
              " array([5.157383], dtype=float32),\n",
              " array([5.3146234], dtype=float32),\n",
              " array([5.390661], dtype=float32),\n",
              " array([5.5359626], dtype=float32),\n",
              " array([5.5446615], dtype=float32),\n",
              " array([5.5439053], dtype=float32),\n",
              " array([5.7496276], dtype=float32),\n",
              " array([5.8387446], dtype=float32),\n",
              " array([5.981132], dtype=float32),\n",
              " array([6.1246624], dtype=float32),\n",
              " array([6.2562447], dtype=float32),\n",
              " array([6.343803], dtype=float32),\n",
              " array([6.403021], dtype=float32),\n",
              " array([6.577766], dtype=float32),\n",
              " array([6.618989], dtype=float32),\n",
              " array([6.760419], dtype=float32),\n",
              " array([6.7613416], dtype=float32),\n",
              " array([6.882901], dtype=float32),\n",
              " array([6.982403], dtype=float32),\n",
              " array([7.0504584], dtype=float32),\n",
              " array([7.098986], dtype=float32),\n",
              " array([7.183065], dtype=float32),\n",
              " array([7.317108], dtype=float32),\n",
              " array([7.3847823], dtype=float32),\n",
              " array([7.595862], dtype=float32),\n",
              " array([7.620867], dtype=float32),\n",
              " array([7.6114354], dtype=float32),\n",
              " array([7.7179713], dtype=float32),\n",
              " array([7.806505], dtype=float32),\n",
              " array([7.966244], dtype=float32),\n",
              " array([7.971353], dtype=float32),\n",
              " array([8.020852], dtype=float32),\n",
              " array([8.1463], dtype=float32),\n",
              " array([8.136526], dtype=float32),\n",
              " array([8.370214], dtype=float32),\n",
              " array([8.301934], dtype=float32),\n",
              " array([8.500356], dtype=float32),\n",
              " array([8.432432], dtype=float32),\n",
              " array([8.498327], dtype=float32),\n",
              " array([8.514758], dtype=float32),\n",
              " array([8.540367], dtype=float32),\n",
              " array([8.713871], dtype=float32),\n",
              " array([8.857152], dtype=float32),\n",
              " array([8.798668], dtype=float32),\n",
              " array([8.891548], dtype=float32),\n",
              " array([8.942765], dtype=float32),\n",
              " array([9.057807], dtype=float32),\n",
              " array([9.076251], dtype=float32),\n",
              " array([9.156215], dtype=float32),\n",
              " array([9.258865], dtype=float32),\n",
              " array([8.52165], dtype=float32),\n",
              " array([9.293065], dtype=float32),\n",
              " array([9.40056], dtype=float32),\n",
              " array([9.475303], dtype=float32),\n",
              " array([9.452221], dtype=float32),\n",
              " array([9.343656], dtype=float32),\n",
              " array([9.640955], dtype=float32),\n",
              " array([9.684704], dtype=float32),\n",
              " array([9.746991], dtype=float32),\n",
              " array([9.88612], dtype=float32),\n",
              " array([9.962733], dtype=float32),\n",
              " array([8.131171], dtype=float32),\n",
              " array([9.551259], dtype=float32),\n",
              " array([8.507866], dtype=float32),\n",
              " array([9.801783], dtype=float32),\n",
              " array([10.176992], dtype=float32),\n",
              " array([9.588412], dtype=float32),\n",
              " array([8.971643], dtype=float32),\n",
              " array([10.135002], dtype=float32),\n",
              " array([10.220809], dtype=float32),\n",
              " array([9.005439], dtype=float32),\n",
              " array([9.448227], dtype=float32),\n",
              " array([9.2023945], dtype=float32),\n",
              " array([9.996457], dtype=float32),\n",
              " array([9.838236], dtype=float32),\n",
              " array([9.768464], dtype=float32),\n",
              " array([9.6511345], dtype=float32),\n",
              " array([9.361113], dtype=float32),\n",
              " array([9.428223], dtype=float32),\n",
              " array([9.178455], dtype=float32),\n",
              " array([8.8014765], dtype=float32),\n",
              " array([8.969342], dtype=float32),\n",
              " array([8.826699], dtype=float32),\n",
              " array([8.782115], dtype=float32),\n",
              " array([8.647108], dtype=float32),\n",
              " array([8.242333], dtype=float32),\n",
              " array([8.387207], dtype=float32),\n",
              " array([8.145302], dtype=float32),\n",
              " array([8.354605], dtype=float32),\n",
              " array([7.911818], dtype=float32),\n",
              " array([7.7182584], dtype=float32),\n",
              " array([7.5472813], dtype=float32),\n",
              " array([7.4070387], dtype=float32),\n",
              " array([7.364776], dtype=float32),\n",
              " array([7.1253777], dtype=float32),\n",
              " array([6.9646206], dtype=float32),\n",
              " array([6.75374], dtype=float32),\n",
              " array([6.5329304], dtype=float32),\n",
              " array([6.354024], dtype=float32),\n",
              " array([6.2326894], dtype=float32),\n",
              " array([6.1651073], dtype=float32),\n",
              " array([5.799512], dtype=float32),\n",
              " array([5.75231], dtype=float32),\n",
              " array([5.697521], dtype=float32),\n",
              " array([5.452588], dtype=float32),\n",
              " array([5.2360477], dtype=float32),\n",
              " array([5.2398396], dtype=float32),\n",
              " array([5.045702], dtype=float32),\n",
              " array([5.022986], dtype=float32),\n",
              " array([4.8662624], dtype=float32),\n",
              " array([4.7387238], dtype=float32),\n",
              " array([4.755381], dtype=float32),\n",
              " array([4.890373], dtype=float32),\n",
              " array([4.402893], dtype=float32),\n",
              " array([4.301502], dtype=float32),\n",
              " array([4.1817083], dtype=float32),\n",
              " array([4.0704], dtype=float32),\n",
              " array([4.0639515], dtype=float32),\n",
              " array([5.6296997], dtype=float32),\n",
              " array([3.875764], dtype=float32),\n",
              " array([3.8257737], dtype=float32),\n",
              " array([3.7605405], dtype=float32),\n",
              " array([3.7850375], dtype=float32),\n",
              " array([3.65902], dtype=float32),\n",
              " array([3.778708], dtype=float32),\n",
              " array([3.6788135], dtype=float32),\n",
              " array([4.0218925], dtype=float32),\n",
              " array([3.7180777], dtype=float32),\n",
              " array([3.779421], dtype=float32),\n",
              " array([3.9755769], dtype=float32),\n",
              " array([3.8833642], dtype=float32),\n",
              " array([4.4839964], dtype=float32),\n",
              " array([4.093867], dtype=float32),\n",
              " array([4.1591177], dtype=float32),\n",
              " array([4.2451086], dtype=float32),\n",
              " array([5.5532045], dtype=float32),\n",
              " array([4.400646], dtype=float32),\n",
              " array([4.541648], dtype=float32),\n",
              " array([4.7661285], dtype=float32),\n",
              " array([4.884063], dtype=float32),\n",
              " array([4.9414587], dtype=float32),\n",
              " array([4.9391603], dtype=float32),\n",
              " array([5.0676537], dtype=float32),\n",
              " array([5.133299], dtype=float32),\n",
              " array([5.157383], dtype=float32),\n",
              " array([5.3146234], dtype=float32),\n",
              " array([5.390661], dtype=float32),\n",
              " array([5.5359626], dtype=float32),\n",
              " array([5.5446615], dtype=float32),\n",
              " array([5.5439053], dtype=float32),\n",
              " array([5.7496276], dtype=float32),\n",
              " array([5.8387446], dtype=float32),\n",
              " array([5.981132], dtype=float32),\n",
              " array([6.1246624], dtype=float32),\n",
              " array([6.2562447], dtype=float32),\n",
              " array([6.343803], dtype=float32),\n",
              " array([6.403021], dtype=float32),\n",
              " array([6.577766], dtype=float32),\n",
              " array([6.618989], dtype=float32),\n",
              " array([6.760419], dtype=float32),\n",
              " array([6.7613416], dtype=float32),\n",
              " array([6.882901], dtype=float32),\n",
              " array([6.982403], dtype=float32),\n",
              " array([7.0504584], dtype=float32),\n",
              " array([7.098986], dtype=float32),\n",
              " array([7.183065], dtype=float32),\n",
              " array([7.317108], dtype=float32),\n",
              " array([7.3847823], dtype=float32),\n",
              " array([7.595862], dtype=float32),\n",
              " array([7.620867], dtype=float32),\n",
              " array([7.6114354], dtype=float32),\n",
              " array([7.7179713], dtype=float32),\n",
              " array([7.806505], dtype=float32),\n",
              " array([7.966244], dtype=float32),\n",
              " array([7.971353], dtype=float32),\n",
              " array([8.020852], dtype=float32),\n",
              " array([8.1463], dtype=float32),\n",
              " array([8.136526], dtype=float32),\n",
              " array([8.370214], dtype=float32),\n",
              " array([8.301934], dtype=float32),\n",
              " array([8.500356], dtype=float32),\n",
              " array([8.432432], dtype=float32),\n",
              " array([8.498327], dtype=float32),\n",
              " array([8.514758], dtype=float32),\n",
              " array([8.540367], dtype=float32),\n",
              " array([8.713871], dtype=float32),\n",
              " array([8.857152], dtype=float32),\n",
              " array([8.798668], dtype=float32),\n",
              " array([8.891548], dtype=float32),\n",
              " array([8.942765], dtype=float32),\n",
              " array([9.057807], dtype=float32),\n",
              " array([9.076251], dtype=float32),\n",
              " array([9.156215], dtype=float32),\n",
              " array([9.258865], dtype=float32),\n",
              " array([8.52165], dtype=float32),\n",
              " array([9.293065], dtype=float32),\n",
              " array([9.40056], dtype=float32),\n",
              " array([9.475303], dtype=float32),\n",
              " array([9.452221], dtype=float32),\n",
              " array([9.343656], dtype=float32),\n",
              " array([9.640955], dtype=float32),\n",
              " array([9.684704], dtype=float32),\n",
              " array([9.746991], dtype=float32),\n",
              " array([9.88612], dtype=float32),\n",
              " array([9.962733], dtype=float32),\n",
              " array([8.131171], dtype=float32),\n",
              " array([9.551259], dtype=float32),\n",
              " array([8.507866], dtype=float32),\n",
              " array([9.801783], dtype=float32),\n",
              " array([10.176992], dtype=float32),\n",
              " array([9.588412], dtype=float32),\n",
              " array([8.971643], dtype=float32),\n",
              " array([10.135002], dtype=float32),\n",
              " array([10.220809], dtype=float32),\n",
              " array([9.005439], dtype=float32),\n",
              " array([9.448227], dtype=float32),\n",
              " array([9.2023945], dtype=float32),\n",
              " array([9.996457], dtype=float32),\n",
              " array([9.838236], dtype=float32),\n",
              " array([9.768464], dtype=float32),\n",
              " array([9.6511345], dtype=float32),\n",
              " array([9.361113], dtype=float32),\n",
              " array([9.428223], dtype=float32),\n",
              " array([9.178455], dtype=float32),\n",
              " array([8.8014765], dtype=float32),\n",
              " array([8.969342], dtype=float32),\n",
              " array([8.826699], dtype=float32),\n",
              " array([8.782115], dtype=float32),\n",
              " array([8.647108], dtype=float32),\n",
              " array([8.242333], dtype=float32),\n",
              " array([8.387207], dtype=float32),\n",
              " array([8.145302], dtype=float32),\n",
              " array([8.354605], dtype=float32),\n",
              " array([7.911818], dtype=float32),\n",
              " array([7.7182584], dtype=float32),\n",
              " array([7.5472813], dtype=float32),\n",
              " array([7.4070387], dtype=float32),\n",
              " array([7.364776], dtype=float32),\n",
              " array([7.1253777], dtype=float32),\n",
              " array([6.9646206], dtype=float32),\n",
              " array([6.75374], dtype=float32),\n",
              " array([6.5329304], dtype=float32),\n",
              " array([6.354024], dtype=float32),\n",
              " array([6.2326894], dtype=float32),\n",
              " array([6.1651073], dtype=float32),\n",
              " array([5.799512], dtype=float32),\n",
              " array([5.75231], dtype=float32),\n",
              " array([5.697521], dtype=float32),\n",
              " array([5.452588], dtype=float32),\n",
              " array([5.2360477], dtype=float32),\n",
              " array([5.2398396], dtype=float32),\n",
              " array([5.045702], dtype=float32),\n",
              " array([5.022986], dtype=float32),\n",
              " array([4.8662624], dtype=float32),\n",
              " array([4.7387238], dtype=float32),\n",
              " array([4.755381], dtype=float32),\n",
              " array([4.890373], dtype=float32),\n",
              " array([4.402893], dtype=float32),\n",
              " array([4.301502], dtype=float32),\n",
              " array([4.1817083], dtype=float32),\n",
              " array([4.0704], dtype=float32),\n",
              " array([4.0639515], dtype=float32),\n",
              " array([5.6296997], dtype=float32),\n",
              " array([3.875764], dtype=float32),\n",
              " array([3.8257737], dtype=float32),\n",
              " array([3.7605405], dtype=float32),\n",
              " array([3.7850375], dtype=float32),\n",
              " array([3.65902], dtype=float32),\n",
              " array([3.778708], dtype=float32),\n",
              " array([3.6788135], dtype=float32),\n",
              " array([4.0218925], dtype=float32),\n",
              " array([3.7180777], dtype=float32),\n",
              " array([3.779421], dtype=float32),\n",
              " array([3.9755769], dtype=float32),\n",
              " array([3.8833642], dtype=float32),\n",
              " array([4.4839964], dtype=float32),\n",
              " array([4.093867], dtype=float32),\n",
              " array([4.1591177], dtype=float32),\n",
              " array([4.2451086], dtype=float32),\n",
              " array([5.5532045], dtype=float32),\n",
              " array([4.400646], dtype=float32),\n",
              " array([4.541648], dtype=float32),\n",
              " array([4.7661285], dtype=float32),\n",
              " array([4.884063], dtype=float32),\n",
              " array([4.9414587], dtype=float32),\n",
              " array([4.9391603], dtype=float32),\n",
              " array([5.0676537], dtype=float32),\n",
              " array([5.133299], dtype=float32),\n",
              " array([5.157383], dtype=float32),\n",
              " array([5.3146234], dtype=float32),\n",
              " array([5.390661], dtype=float32),\n",
              " array([5.5359626], dtype=float32),\n",
              " array([5.5446615], dtype=float32),\n",
              " array([5.5439053], dtype=float32),\n",
              " array([5.7496276], dtype=float32),\n",
              " array([5.8387446], dtype=float32),\n",
              " array([5.981132], dtype=float32),\n",
              " array([6.1246624], dtype=float32),\n",
              " array([6.2562447], dtype=float32),\n",
              " array([6.343803], dtype=float32),\n",
              " array([6.403021], dtype=float32),\n",
              " array([6.577766], dtype=float32),\n",
              " array([6.618989], dtype=float32),\n",
              " array([6.760419], dtype=float32),\n",
              " array([6.7613416], dtype=float32),\n",
              " array([6.882901], dtype=float32),\n",
              " array([6.982403], dtype=float32),\n",
              " array([7.0504584], dtype=float32),\n",
              " array([7.098986], dtype=float32),\n",
              " array([7.183065], dtype=float32),\n",
              " array([7.317108], dtype=float32),\n",
              " array([7.3847823], dtype=float32),\n",
              " array([7.595862], dtype=float32),\n",
              " array([7.620867], dtype=float32),\n",
              " array([7.6114354], dtype=float32),\n",
              " array([7.7179713], dtype=float32),\n",
              " array([7.806505], dtype=float32),\n",
              " array([7.966244], dtype=float32),\n",
              " array([7.971353], dtype=float32),\n",
              " array([8.020852], dtype=float32),\n",
              " array([8.1463], dtype=float32),\n",
              " array([8.136526], dtype=float32),\n",
              " array([8.370214], dtype=float32),\n",
              " array([8.301934], dtype=float32),\n",
              " array([8.500356], dtype=float32),\n",
              " array([8.432432], dtype=float32),\n",
              " array([8.498327], dtype=float32),\n",
              " array([8.514758], dtype=float32),\n",
              " array([8.540367], dtype=float32),\n",
              " array([8.713871], dtype=float32),\n",
              " array([8.857152], dtype=float32),\n",
              " array([8.798668], dtype=float32),\n",
              " array([8.891548], dtype=float32),\n",
              " array([8.942765], dtype=float32),\n",
              " array([9.057807], dtype=float32),\n",
              " array([9.076251], dtype=float32),\n",
              " array([9.156215], dtype=float32),\n",
              " array([9.258865], dtype=float32),\n",
              " array([8.52165], dtype=float32),\n",
              " array([9.293065], dtype=float32),\n",
              " array([9.40056], dtype=float32),\n",
              " array([9.475303], dtype=float32),\n",
              " array([9.452221], dtype=float32),\n",
              " array([9.343656], dtype=float32),\n",
              " array([9.640955], dtype=float32),\n",
              " array([9.684704], dtype=float32),\n",
              " array([9.746991], dtype=float32),\n",
              " array([9.88612], dtype=float32),\n",
              " array([9.962733], dtype=float32),\n",
              " array([8.131171], dtype=float32),\n",
              " array([9.551259], dtype=float32),\n",
              " array([8.507866], dtype=float32),\n",
              " array([9.801783], dtype=float32),\n",
              " array([10.176992], dtype=float32),\n",
              " array([9.588412], dtype=float32),\n",
              " array([8.971643], dtype=float32),\n",
              " array([10.135002], dtype=float32),\n",
              " array([10.220809], dtype=float32),\n",
              " array([9.005439], dtype=float32),\n",
              " array([9.448227], dtype=float32),\n",
              " array([9.2023945], dtype=float32),\n",
              " array([9.996457], dtype=float32),\n",
              " array([9.838236], dtype=float32),\n",
              " array([9.768464], dtype=float32),\n",
              " array([9.6511345], dtype=float32),\n",
              " array([9.361113], dtype=float32),\n",
              " array([9.428223], dtype=float32),\n",
              " array([9.178455], dtype=float32),\n",
              " array([8.8014765], dtype=float32),\n",
              " array([8.969342], dtype=float32),\n",
              " array([8.826699], dtype=float32),\n",
              " array([8.782115], dtype=float32),\n",
              " array([8.647108], dtype=float32),\n",
              " array([8.242333], dtype=float32),\n",
              " array([8.387207], dtype=float32),\n",
              " array([8.145302], dtype=float32),\n",
              " array([8.354605], dtype=float32),\n",
              " array([7.911818], dtype=float32),\n",
              " array([7.7182584], dtype=float32),\n",
              " array([7.5472813], dtype=float32),\n",
              " array([7.4070387], dtype=float32),\n",
              " array([7.364776], dtype=float32),\n",
              " array([7.1253777], dtype=float32),\n",
              " array([6.9646206], dtype=float32),\n",
              " array([6.75374], dtype=float32),\n",
              " array([6.5329304], dtype=float32),\n",
              " array([6.354024], dtype=float32),\n",
              " array([6.2326894], dtype=float32),\n",
              " array([6.1651073], dtype=float32),\n",
              " array([5.799512], dtype=float32),\n",
              " array([5.75231], dtype=float32),\n",
              " array([5.697521], dtype=float32),\n",
              " array([5.452588], dtype=float32),\n",
              " array([5.2360477], dtype=float32),\n",
              " array([5.2398396], dtype=float32),\n",
              " array([5.045702], dtype=float32),\n",
              " array([5.022986], dtype=float32),\n",
              " array([4.8662624], dtype=float32),\n",
              " array([4.7387238], dtype=float32),\n",
              " array([4.755381], dtype=float32),\n",
              " array([4.890373], dtype=float32),\n",
              " array([4.402893], dtype=float32),\n",
              " array([4.301502], dtype=float32),\n",
              " array([4.1817083], dtype=float32),\n",
              " array([4.0704], dtype=float32),\n",
              " array([4.0639515], dtype=float32),\n",
              " array([5.6296997], dtype=float32),\n",
              " array([3.875764], dtype=float32),\n",
              " array([3.8257737], dtype=float32),\n",
              " array([3.7605405], dtype=float32),\n",
              " array([3.7850375], dtype=float32),\n",
              " array([3.65902], dtype=float32),\n",
              " array([3.778708], dtype=float32),\n",
              " array([3.6788135], dtype=float32),\n",
              " array([4.0218925], dtype=float32),\n",
              " array([3.7180777], dtype=float32),\n",
              " array([3.779421], dtype=float32),\n",
              " array([3.9755769], dtype=float32),\n",
              " array([3.8833642], dtype=float32),\n",
              " array([4.4839964], dtype=float32),\n",
              " array([4.093867], dtype=float32),\n",
              " array([4.1591177], dtype=float32),\n",
              " array([4.2451086], dtype=float32),\n",
              " array([5.5532045], dtype=float32),\n",
              " array([4.400646], dtype=float32),\n",
              " array([4.541648], dtype=float32),\n",
              " array([4.7661285], dtype=float32),\n",
              " array([4.884063], dtype=float32),\n",
              " array([4.9414587], dtype=float32),\n",
              " array([4.9391603], dtype=float32),\n",
              " array([5.0676537], dtype=float32),\n",
              " array([5.133299], dtype=float32),\n",
              " array([5.157383], dtype=float32),\n",
              " array([5.3146234], dtype=float32),\n",
              " array([5.390661], dtype=float32),\n",
              " array([5.5359626], dtype=float32),\n",
              " array([5.5446615], dtype=float32),\n",
              " array([5.5439053], dtype=float32),\n",
              " array([5.7496276], dtype=float32),\n",
              " array([5.8387446], dtype=float32),\n",
              " array([5.981132], dtype=float32),\n",
              " array([6.1246624], dtype=float32),\n",
              " array([6.2562447], dtype=float32),\n",
              " array([6.343803], dtype=float32),\n",
              " array([6.403021], dtype=float32),\n",
              " array([6.577766], dtype=float32),\n",
              " array([6.618989], dtype=float32),\n",
              " array([6.760419], dtype=float32),\n",
              " array([6.7613416], dtype=float32),\n",
              " array([6.882901], dtype=float32),\n",
              " array([6.982403], dtype=float32),\n",
              " array([7.0504584], dtype=float32),\n",
              " array([7.098986], dtype=float32),\n",
              " array([7.183065], dtype=float32),\n",
              " array([7.317108], dtype=float32),\n",
              " array([7.3847823], dtype=float32),\n",
              " array([7.595862], dtype=float32),\n",
              " array([7.620867], dtype=float32),\n",
              " array([7.6114354], dtype=float32),\n",
              " array([7.7179713], dtype=float32),\n",
              " array([7.806505], dtype=float32),\n",
              " array([7.966244], dtype=float32),\n",
              " array([7.971353], dtype=float32),\n",
              " array([8.020852], dtype=float32),\n",
              " array([8.1463], dtype=float32),\n",
              " array([8.136526], dtype=float32),\n",
              " array([8.370214], dtype=float32),\n",
              " array([8.301934], dtype=float32),\n",
              " array([8.500356], dtype=float32),\n",
              " array([8.432432], dtype=float32),\n",
              " array([8.498327], dtype=float32),\n",
              " array([8.514758], dtype=float32),\n",
              " array([8.540367], dtype=float32),\n",
              " array([8.713871], dtype=float32),\n",
              " array([8.857152], dtype=float32),\n",
              " array([8.798668], dtype=float32),\n",
              " array([8.891548], dtype=float32),\n",
              " array([8.942765], dtype=float32),\n",
              " array([9.057807], dtype=float32),\n",
              " array([9.076251], dtype=float32),\n",
              " array([9.156215], dtype=float32),\n",
              " array([9.258865], dtype=float32),\n",
              " array([8.52165], dtype=float32),\n",
              " array([9.293065], dtype=float32),\n",
              " array([9.40056], dtype=float32),\n",
              " array([9.475303], dtype=float32),\n",
              " array([9.452221], dtype=float32),\n",
              " array([9.343656], dtype=float32),\n",
              " array([9.640955], dtype=float32),\n",
              " array([9.684704], dtype=float32),\n",
              " array([9.746991], dtype=float32),\n",
              " array([9.88612], dtype=float32),\n",
              " array([9.962733], dtype=float32),\n",
              " array([8.131171], dtype=float32),\n",
              " array([9.551259], dtype=float32),\n",
              " array([8.507866], dtype=float32),\n",
              " array([9.801783], dtype=float32),\n",
              " array([10.176992], dtype=float32),\n",
              " array([9.588412], dtype=float32),\n",
              " array([8.971643], dtype=float32),\n",
              " array([10.135002], dtype=float32),\n",
              " array([10.220809], dtype=float32),\n",
              " array([9.005439], dtype=float32),\n",
              " array([9.448227], dtype=float32),\n",
              " array([9.2023945], dtype=float32),\n",
              " array([9.996457], dtype=float32),\n",
              " array([9.838236], dtype=float32),\n",
              " array([9.768464], dtype=float32),\n",
              " array([9.6511345], dtype=float32),\n",
              " array([9.361113], dtype=float32),\n",
              " array([9.428223], dtype=float32),\n",
              " array([9.178455], dtype=float32),\n",
              " array([8.8014765], dtype=float32),\n",
              " array([8.969342], dtype=float32),\n",
              " array([8.826699], dtype=float32),\n",
              " array([8.782115], dtype=float32),\n",
              " array([8.647108], dtype=float32),\n",
              " array([8.242333], dtype=float32),\n",
              " array([8.387207], dtype=float32),\n",
              " array([8.145302], dtype=float32),\n",
              " array([8.354605], dtype=float32),\n",
              " array([7.911818], dtype=float32),\n",
              " array([7.7182584], dtype=float32),\n",
              " array([7.5472813], dtype=float32),\n",
              " array([7.4070387], dtype=float32),\n",
              " array([7.364776], dtype=float32),\n",
              " array([7.1253777], dtype=float32),\n",
              " array([6.9646206], dtype=float32),\n",
              " array([6.75374], dtype=float32),\n",
              " array([6.5329304], dtype=float32),\n",
              " array([6.354024], dtype=float32),\n",
              " array([6.2326894], dtype=float32),\n",
              " array([6.1651073], dtype=float32),\n",
              " array([5.799512], dtype=float32),\n",
              " array([5.75231], dtype=float32),\n",
              " array([5.697521], dtype=float32),\n",
              " array([5.452588], dtype=float32),\n",
              " array([5.2360477], dtype=float32),\n",
              " array([5.2398396], dtype=float32),\n",
              " array([5.045702], dtype=float32),\n",
              " array([5.022986], dtype=float32),\n",
              " array([4.8662624], dtype=float32),\n",
              " array([4.7387238], dtype=float32),\n",
              " array([4.755381], dtype=float32),\n",
              " array([4.890373], dtype=float32),\n",
              " array([4.402893], dtype=float32),\n",
              " array([4.301502], dtype=float32),\n",
              " array([4.1817083], dtype=float32),\n",
              " array([4.0704], dtype=float32),\n",
              " array([4.0639515], dtype=float32),\n",
              " array([5.6296997], dtype=float32),\n",
              " array([3.875764], dtype=float32),\n",
              " array([3.8257737], dtype=float32),\n",
              " array([3.7605405], dtype=float32),\n",
              " array([3.7850375], dtype=float32),\n",
              " array([3.65902], dtype=float32),\n",
              " array([3.778708], dtype=float32),\n",
              " array([3.6788135], dtype=float32),\n",
              " array([4.0218925], dtype=float32),\n",
              " array([3.7180777], dtype=float32),\n",
              " array([3.779421], dtype=float32),\n",
              " array([3.9755769], dtype=float32),\n",
              " array([3.8833642], dtype=float32),\n",
              " array([4.4839964], dtype=float32),\n",
              " array([4.093867], dtype=float32),\n",
              " array([4.1591177], dtype=float32),\n",
              " array([4.2451086], dtype=float32),\n",
              " array([5.5532045], dtype=float32),\n",
              " array([4.400646], dtype=float32),\n",
              " array([4.541648], dtype=float32),\n",
              " array([4.7661285], dtype=float32),\n",
              " array([4.884063], dtype=float32),\n",
              " array([4.9414587], dtype=float32),\n",
              " array([4.9391603], dtype=float32),\n",
              " array([5.0676537], dtype=float32),\n",
              " array([5.133299], dtype=float32),\n",
              " array([5.157383], dtype=float32),\n",
              " array([5.3146234], dtype=float32),\n",
              " array([5.390661], dtype=float32),\n",
              " array([5.5359626], dtype=float32),\n",
              " array([5.5446615], dtype=float32),\n",
              " array([5.5439053], dtype=float32),\n",
              " array([5.7496276], dtype=float32),\n",
              " array([5.8387446], dtype=float32),\n",
              " array([5.981132], dtype=float32),\n",
              " array([6.1246624], dtype=float32),\n",
              " array([6.2562447], dtype=float32),\n",
              " array([6.343803], dtype=float32),\n",
              " array([6.403021], dtype=float32),\n",
              " array([6.577766], dtype=float32),\n",
              " array([6.618989], dtype=float32),\n",
              " array([6.760419], dtype=float32),\n",
              " array([6.7613416], dtype=float32),\n",
              " array([6.882901], dtype=float32),\n",
              " array([6.982403], dtype=float32),\n",
              " array([7.0504584], dtype=float32),\n",
              " array([7.098986], dtype=float32),\n",
              " array([7.183065], dtype=float32),\n",
              " array([7.317108], dtype=float32),\n",
              " array([7.3847823], dtype=float32),\n",
              " array([7.595862], dtype=float32),\n",
              " array([7.620867], dtype=float32),\n",
              " array([7.6114354], dtype=float32),\n",
              " array([7.7179713], dtype=float32),\n",
              " array([7.806505], dtype=float32),\n",
              " array([7.966244], dtype=float32),\n",
              " array([7.971353], dtype=float32),\n",
              " array([8.020852], dtype=float32),\n",
              " array([8.1463], dtype=float32),\n",
              " array([8.136526], dtype=float32),\n",
              " array([8.370214], dtype=float32),\n",
              " array([8.301934], dtype=float32),\n",
              " array([8.500356], dtype=float32),\n",
              " array([8.432432], dtype=float32),\n",
              " array([8.498327], dtype=float32),\n",
              " array([8.514758], dtype=float32),\n",
              " array([8.540367], dtype=float32),\n",
              " array([8.713871], dtype=float32),\n",
              " array([8.857152], dtype=float32),\n",
              " array([8.798668], dtype=float32),\n",
              " array([8.891548], dtype=float32),\n",
              " array([8.942765], dtype=float32),\n",
              " array([9.057807], dtype=float32),\n",
              " array([9.076251], dtype=float32),\n",
              " array([9.156215], dtype=float32),\n",
              " array([9.258865], dtype=float32),\n",
              " array([8.52165], dtype=float32),\n",
              " array([9.293065], dtype=float32),\n",
              " array([9.40056], dtype=float32),\n",
              " array([9.475303], dtype=float32),\n",
              " array([9.452221], dtype=float32),\n",
              " array([9.343656], dtype=float32),\n",
              " array([9.640955], dtype=float32),\n",
              " array([9.684704], dtype=float32),\n",
              " array([9.746991], dtype=float32),\n",
              " array([9.88612], dtype=float32),\n",
              " array([9.962733], dtype=float32),\n",
              " array([8.131171], dtype=float32),\n",
              " array([9.551259], dtype=float32),\n",
              " array([8.507866], dtype=float32),\n",
              " array([9.801783], dtype=float32),\n",
              " array([10.176992], dtype=float32),\n",
              " array([9.588412], dtype=float32),\n",
              " array([8.971643], dtype=float32),\n",
              " array([10.135002], dtype=float32),\n",
              " array([10.220809], dtype=float32),\n",
              " array([9.005439], dtype=float32),\n",
              " array([9.448227], dtype=float32),\n",
              " array([9.2023945], dtype=float32),\n",
              " array([9.996457], dtype=float32),\n",
              " array([9.838236], dtype=float32),\n",
              " array([9.768464], dtype=float32),\n",
              " array([9.6511345], dtype=float32),\n",
              " array([9.361113], dtype=float32),\n",
              " array([9.428223], dtype=float32),\n",
              " array([9.178455], dtype=float32),\n",
              " array([8.8014765], dtype=float32),\n",
              " array([8.969342], dtype=float32),\n",
              " array([8.826699], dtype=float32),\n",
              " array([8.782115], dtype=float32),\n",
              " array([8.647108], dtype=float32),\n",
              " array([8.242333], dtype=float32),\n",
              " array([8.387207], dtype=float32),\n",
              " array([8.145302], dtype=float32),\n",
              " array([8.354605], dtype=float32),\n",
              " array([7.911818], dtype=float32),\n",
              " array([7.7182584], dtype=float32),\n",
              " array([7.5472813], dtype=float32),\n",
              " array([7.4070387], dtype=float32),\n",
              " array([7.364776], dtype=float32),\n",
              " array([7.1253777], dtype=float32),\n",
              " array([6.9646206], dtype=float32),\n",
              " array([6.75374], dtype=float32),\n",
              " array([6.5329304], dtype=float32),\n",
              " array([6.354024], dtype=float32),\n",
              " array([6.2326894], dtype=float32),\n",
              " array([6.1651073], dtype=float32),\n",
              " array([5.799512], dtype=float32),\n",
              " array([5.75231], dtype=float32),\n",
              " array([5.697521], dtype=float32),\n",
              " array([5.452588], dtype=float32),\n",
              " array([5.2360477], dtype=float32),\n",
              " array([5.2398396], dtype=float32),\n",
              " array([5.045702], dtype=float32),\n",
              " array([5.022986], dtype=float32),\n",
              " array([4.8662624], dtype=float32),\n",
              " array([4.7387238], dtype=float32),\n",
              " array([4.755381], dtype=float32),\n",
              " array([4.890373], dtype=float32),\n",
              " array([4.402893], dtype=float32),\n",
              " array([4.301502], dtype=float32),\n",
              " array([4.1817083], dtype=float32),\n",
              " array([4.0704], dtype=float32),\n",
              " array([4.0639515], dtype=float32),\n",
              " array([5.6296997], dtype=float32),\n",
              " array([3.875764], dtype=float32),\n",
              " array([3.8257737], dtype=float32),\n",
              " array([3.7605405], dtype=float32),\n",
              " array([3.7850375], dtype=float32),\n",
              " array([3.65902], dtype=float32),\n",
              " array([3.778708], dtype=float32),\n",
              " array([3.6788135], dtype=float32),\n",
              " array([4.0218925], dtype=float32),\n",
              " array([3.7180777], dtype=float32),\n",
              " array([3.779421], dtype=float32),\n",
              " array([3.9755769], dtype=float32),\n",
              " array([3.8833642], dtype=float32),\n",
              " array([4.4839964], dtype=float32),\n",
              " array([4.093867], dtype=float32),\n",
              " array([4.1591177], dtype=float32),\n",
              " array([4.2451086], dtype=float32),\n",
              " array([5.5532045], dtype=float32),\n",
              " array([4.400646], dtype=float32),\n",
              " array([4.541648], dtype=float32),\n",
              " array([4.7661285], dtype=float32),\n",
              " array([4.884063], dtype=float32),\n",
              " array([4.9414587], dtype=float32),\n",
              " array([4.9391603], dtype=float32),\n",
              " array([5.0676537], dtype=float32),\n",
              " array([5.133299], dtype=float32),\n",
              " array([5.157383], dtype=float32),\n",
              " array([5.3146234], dtype=float32),\n",
              " array([5.390661], dtype=float32),\n",
              " array([5.5359626], dtype=float32),\n",
              " array([5.5446615], dtype=float32),\n",
              " array([5.5439053], dtype=float32),\n",
              " array([5.7496276], dtype=float32),\n",
              " array([5.8387446], dtype=float32),\n",
              " array([5.981132], dtype=float32),\n",
              " array([6.1246624], dtype=float32),\n",
              " array([6.2562447], dtype=float32),\n",
              " array([6.343803], dtype=float32),\n",
              " array([6.403021], dtype=float32),\n",
              " array([6.577766], dtype=float32),\n",
              " array([6.618989], dtype=float32),\n",
              " array([6.760419], dtype=float32),\n",
              " array([6.7613416], dtype=float32),\n",
              " array([6.882901], dtype=float32),\n",
              " array([6.982403], dtype=float32),\n",
              " array([7.0504584], dtype=float32),\n",
              " array([7.098986], dtype=float32),\n",
              " array([7.183065], dtype=float32),\n",
              " array([7.317108], dtype=float32),\n",
              " array([7.3847823], dtype=float32),\n",
              " array([7.595862], dtype=float32),\n",
              " array([7.620867], dtype=float32),\n",
              " array([7.6114354], dtype=float32),\n",
              " array([7.7179713], dtype=float32),\n",
              " array([7.806505], dtype=float32),\n",
              " array([7.966244], dtype=float32),\n",
              " array([7.971353], dtype=float32),\n",
              " array([8.020852], dtype=float32),\n",
              " array([8.1463], dtype=float32),\n",
              " array([8.136526], dtype=float32),\n",
              " array([8.370214], dtype=float32),\n",
              " array([8.301934], dtype=float32),\n",
              " array([8.500356], dtype=float32),\n",
              " array([8.432432], dtype=float32),\n",
              " array([8.498327], dtype=float32),\n",
              " array([8.514758], dtype=float32),\n",
              " array([8.540367], dtype=float32),\n",
              " array([8.713871], dtype=float32),\n",
              " array([8.857152], dtype=float32),\n",
              " array([8.798668], dtype=float32),\n",
              " array([8.891548], dtype=float32),\n",
              " array([8.942765], dtype=float32),\n",
              " array([9.057807], dtype=float32),\n",
              " array([9.076251], dtype=float32),\n",
              " array([9.156215], dtype=float32),\n",
              " array([9.258865], dtype=float32),\n",
              " array([8.52165], dtype=float32),\n",
              " array([9.293065], dtype=float32),\n",
              " array([9.40056], dtype=float32),\n",
              " array([9.475303], dtype=float32),\n",
              " array([9.452221], dtype=float32),\n",
              " array([9.343656], dtype=float32),\n",
              " array([9.640955], dtype=float32),\n",
              " array([9.684704], dtype=float32),\n",
              " array([9.746991], dtype=float32),\n",
              " array([9.88612], dtype=float32),\n",
              " array([9.962733], dtype=float32),\n",
              " array([8.131171], dtype=float32),\n",
              " array([9.551259], dtype=float32),\n",
              " array([8.507866], dtype=float32),\n",
              " array([9.801783], dtype=float32),\n",
              " array([10.176992], dtype=float32),\n",
              " array([9.588412], dtype=float32),\n",
              " array([8.971643], dtype=float32),\n",
              " array([10.135002], dtype=float32),\n",
              " array([10.220809], dtype=float32),\n",
              " array([9.005439], dtype=float32),\n",
              " array([9.448227], dtype=float32),\n",
              " array([9.2023945], dtype=float32),\n",
              " array([9.996457], dtype=float32),\n",
              " array([9.838236], dtype=float32),\n",
              " array([9.768464], dtype=float32),\n",
              " array([9.6511345], dtype=float32),\n",
              " array([9.361113], dtype=float32),\n",
              " array([9.428223], dtype=float32),\n",
              " array([9.178455], dtype=float32),\n",
              " array([8.8014765], dtype=float32),\n",
              " array([8.969342], dtype=float32),\n",
              " array([8.826699], dtype=float32),\n",
              " array([8.782115], dtype=float32),\n",
              " array([8.647108], dtype=float32),\n",
              " array([8.242333], dtype=float32),\n",
              " array([8.387207], dtype=float32),\n",
              " array([8.145302], dtype=float32),\n",
              " array([8.354605], dtype=float32),\n",
              " array([7.911818], dtype=float32),\n",
              " array([7.7182584], dtype=float32),\n",
              " array([7.5472813], dtype=float32),\n",
              " array([7.4070387], dtype=float32),\n",
              " array([7.364776], dtype=float32),\n",
              " array([7.1253777], dtype=float32),\n",
              " array([6.9646206], dtype=float32),\n",
              " array([6.75374], dtype=float32),\n",
              " array([6.5329304], dtype=float32),\n",
              " array([6.354024], dtype=float32),\n",
              " array([6.2326894], dtype=float32),\n",
              " array([6.1651073], dtype=float32),\n",
              " array([5.799512], dtype=float32),\n",
              " array([5.75231], dtype=float32),\n",
              " array([5.697521], dtype=float32),\n",
              " array([5.452588], dtype=float32),\n",
              " array([5.2360477], dtype=float32),\n",
              " array([5.2398396], dtype=float32),\n",
              " array([5.045702], dtype=float32),\n",
              " array([5.022986], dtype=float32),\n",
              " array([4.8662624], dtype=float32),\n",
              " array([4.7387238], dtype=float32),\n",
              " array([4.755381], dtype=float32),\n",
              " array([4.890373], dtype=float32),\n",
              " array([4.402893], dtype=float32),\n",
              " array([4.301502], dtype=float32),\n",
              " array([4.1817083], dtype=float32),\n",
              " array([4.0704], dtype=float32),\n",
              " array([4.0639515], dtype=float32),\n",
              " array([5.6296997], dtype=float32),\n",
              " array([3.875764], dtype=float32),\n",
              " array([3.8257737], dtype=float32),\n",
              " array([3.7605405], dtype=float32),\n",
              " array([3.7850375], dtype=float32),\n",
              " array([3.65902], dtype=float32),\n",
              " array([3.778708], dtype=float32),\n",
              " array([3.6788135], dtype=float32),\n",
              " array([4.0218925], dtype=float32),\n",
              " array([3.7180777], dtype=float32),\n",
              " array([3.779421], dtype=float32),\n",
              " array([3.9755769], dtype=float32),\n",
              " array([3.8833642], dtype=float32),\n",
              " array([4.4839964], dtype=float32),\n",
              " array([4.093867], dtype=float32),\n",
              " array([4.1591177], dtype=float32),\n",
              " array([4.2451086], dtype=float32),\n",
              " array([5.5532045], dtype=float32),\n",
              " array([4.400646], dtype=float32),\n",
              " array([4.541648], dtype=float32),\n",
              " array([4.7661285], dtype=float32),\n",
              " array([4.884063], dtype=float32),\n",
              " array([4.9414587], dtype=float32),\n",
              " array([4.9391603], dtype=float32),\n",
              " array([5.0676537], dtype=float32),\n",
              " array([5.133299], dtype=float32),\n",
              " array([5.157383], dtype=float32),\n",
              " array([5.3146234], dtype=float32),\n",
              " array([5.390661], dtype=float32),\n",
              " array([5.5359626], dtype=float32),\n",
              " array([5.5446615], dtype=float32),\n",
              " array([5.5439053], dtype=float32),\n",
              " array([5.7496276], dtype=float32),\n",
              " array([5.8387446], dtype=float32),\n",
              " array([5.981132], dtype=float32),\n",
              " array([6.1246624], dtype=float32),\n",
              " array([6.2562447], dtype=float32),\n",
              " array([6.343803], dtype=float32),\n",
              " array([6.403021], dtype=float32),\n",
              " array([6.577766], dtype=float32),\n",
              " array([6.618989], dtype=float32),\n",
              " array([6.760419], dtype=float32),\n",
              " ...]"
            ]
          },
          "metadata": {
            "tags": []
          },
          "execution_count": 383
        }
      ]
    },
    {
      "cell_type": "code",
      "metadata": {
        "ExecuteTime": {
          "end_time": "2021-08-05T23:26:37.475287Z",
          "start_time": "2021-08-05T23:26:36.840285Z"
        },
        "id": "XQYRdqpYp7V7"
      },
      "source": [
        "lista_vacia=[]\n",
        "for fecha in l:\n",
        "    ind=fechas_completas.index(fecha)\n",
        "    lista_vacia.append((fecha, resultado[ind]))  "
      ],
      "execution_count": null,
      "outputs": []
    },
    {
      "cell_type": "code",
      "metadata": {
        "ExecuteTime": {
          "end_time": "2021-08-05T23:27:24.485520Z",
          "start_time": "2021-08-05T23:27:24.471516Z"
        },
        "id": "na5mh2Fip7V7"
      },
      "source": [
        "submit=vector(pd.DataFrame(lista_vacia))"
      ],
      "execution_count": null,
      "outputs": []
    },
    {
      "cell_type": "code",
      "metadata": {
        "ExecuteTime": {
          "end_time": "2021-08-05T23:31:28.364025Z",
          "start_time": "2021-08-05T23:31:28.351999Z"
        },
        "id": "P_h82U8Sp7V8"
      },
      "source": [
        "submit.to_csv(\"sampleSubmission_tendencias.csv\")"
      ],
      "execution_count": null,
      "outputs": []
    },
    {
      "cell_type": "code",
      "metadata": {
        "ExecuteTime": {
          "end_time": "2021-08-05T23:31:17.090642Z",
          "start_time": "2021-08-05T23:31:17.063643Z"
        },
        "id": "RKkNtTRbp7V8"
      },
      "source": [
        "submit.index= submit.index.strftime(\"%d-%m-%Y %H:%M\")"
      ],
      "execution_count": null,
      "outputs": []
    },
    {
      "cell_type": "code",
      "metadata": {
        "ExecuteTime": {
          "end_time": "2021-08-05T23:31:25.161767Z",
          "start_time": "2021-08-05T23:31:25.143772Z"
        },
        "id": "fZtqfLRzp7V8",
        "outputId": "43e9e2f4-962c-4b2e-d8ae-a7dc3ea56e34"
      },
      "source": [
        "submit"
      ],
      "execution_count": null,
      "outputs": [
        {
          "output_type": "execute_result",
          "data": {
            "text/html": [
              "<div>\n",
              "<style scoped>\n",
              "    .dataframe tbody tr th:only-of-type {\n",
              "        vertical-align: middle;\n",
              "    }\n",
              "\n",
              "    .dataframe tbody tr th {\n",
              "        vertical-align: top;\n",
              "    }\n",
              "\n",
              "    .dataframe thead th {\n",
              "        text-align: right;\n",
              "    }\n",
              "</style>\n",
              "<table border=\"1\" class=\"dataframe\">\n",
              "  <thead>\n",
              "    <tr style=\"text-align: right;\">\n",
              "      <th></th>\n",
              "      <th>'Velocidad de viento en 20.0 metros [mean]'</th>\n",
              "    </tr>\n",
              "    <tr>\n",
              "      <th>'Fecha'</th>\n",
              "      <th></th>\n",
              "    </tr>\n",
              "  </thead>\n",
              "  <tbody>\n",
              "    <tr>\n",
              "      <th>26-04-2015 01:50</th>\n",
              "      <td>8.301934</td>\n",
              "    </tr>\n",
              "    <tr>\n",
              "      <th>26-04-2015 03:10</th>\n",
              "      <td>8.798668</td>\n",
              "    </tr>\n",
              "    <tr>\n",
              "      <th>26-04-2015 04:20</th>\n",
              "      <td>8.521651</td>\n",
              "    </tr>\n",
              "    <tr>\n",
              "      <th>26-04-2015 05:20</th>\n",
              "      <td>9.640955</td>\n",
              "    </tr>\n",
              "    <tr>\n",
              "      <th>26-04-2015 06:40</th>\n",
              "      <td>9.801782</td>\n",
              "    </tr>\n",
              "    <tr>\n",
              "      <th>...</th>\n",
              "      <td>...</td>\n",
              "    </tr>\n",
              "    <tr>\n",
              "      <th>19-09-2015 08:10</th>\n",
              "      <td>10.687980</td>\n",
              "    </tr>\n",
              "    <tr>\n",
              "      <th>21-09-2015 11:20</th>\n",
              "      <td>8.121248</td>\n",
              "    </tr>\n",
              "    <tr>\n",
              "      <th>22-09-2015 10:30</th>\n",
              "      <td>8.859510</td>\n",
              "    </tr>\n",
              "    <tr>\n",
              "      <th>23-09-2015 17:30</th>\n",
              "      <td>4.689786</td>\n",
              "    </tr>\n",
              "    <tr>\n",
              "      <th>24-09-2015 00:10</th>\n",
              "      <td>8.335076</td>\n",
              "    </tr>\n",
              "  </tbody>\n",
              "</table>\n",
              "<p>2000 rows × 1 columns</p>\n",
              "</div>"
            ],
            "text/plain": [
              "                  'Velocidad de viento en 20.0 metros [mean]'\n",
              "'Fecha'                                                      \n",
              "26-04-2015 01:50                                     8.301934\n",
              "26-04-2015 03:10                                     8.798668\n",
              "26-04-2015 04:20                                     8.521651\n",
              "26-04-2015 05:20                                     9.640955\n",
              "26-04-2015 06:40                                     9.801782\n",
              "...                                                       ...\n",
              "19-09-2015 08:10                                    10.687980\n",
              "21-09-2015 11:20                                     8.121248\n",
              "22-09-2015 10:30                                     8.859510\n",
              "23-09-2015 17:30                                     4.689786\n",
              "24-09-2015 00:10                                     8.335076\n",
              "\n",
              "[2000 rows x 1 columns]"
            ]
          },
          "metadata": {
            "tags": []
          },
          "execution_count": 403
        }
      ]
    },
    {
      "cell_type": "code",
      "metadata": {
        "colab": {
          "base_uri": "https://localhost:8080/"
        },
        "id": "PketVuGJX2L4",
        "outputId": "7f8eb28c-22ee-4e2e-889c-a7062e6e4e37"
      },
      "source": [
        "train.iloc[93743]"
      ],
      "execution_count": null,
      "outputs": [
        {
          "output_type": "execute_result",
          "data": {
            "text/plain": [
              "Fecha        2014-10-01 00:00:00\n",
              "Velocidad                    4.1\n",
              "Name: 93743, dtype: object"
            ]
          },
          "metadata": {
            "tags": []
          },
          "execution_count": 64
        }
      ]
    },
    {
      "cell_type": "code",
      "metadata": {
        "colab": {
          "base_uri": "https://localhost:8080/"
        },
        "id": "OpSXVkLGX2w6",
        "outputId": "222c7561-bc83-48d5-80eb-97a630ee019b"
      },
      "source": [
        "train.iloc[71002]"
      ],
      "execution_count": null,
      "outputs": [
        {
          "output_type": "execute_result",
          "data": {
            "text/plain": [
              "Fecha        2014-04-26 01:50:00\n",
              "Velocidad                   10.1\n",
              "Name: 71002, dtype: object"
            ]
          },
          "metadata": {
            "tags": []
          },
          "execution_count": 72
        }
      ]
    },
    {
      "cell_type": "code",
      "metadata": {
        "colab": {
          "base_uri": "https://localhost:8080/"
        },
        "id": "5q2SIICbZmm4",
        "outputId": "6c41781e-50e1-4041-d199-7d75e837aba7"
      },
      "source": [
        "train.iloc[71002:93743].mean()"
      ],
      "execution_count": null,
      "outputs": [
        {
          "output_type": "execute_result",
          "data": {
            "text/plain": [
              "Velocidad    8.013324\n",
              "dtype: float64"
            ]
          },
          "metadata": {
            "tags": []
          },
          "execution_count": 88
        }
      ]
    },
    {
      "cell_type": "code",
      "metadata": {
        "id": "9eyK3JDrZ4OS"
      },
      "source": [
        "pred= pd.read_csv(path+'velocidad-viento/sampleSubmission_mario_redondeado.csv')"
      ],
      "execution_count": null,
      "outputs": []
    },
    {
      "cell_type": "code",
      "metadata": {
        "colab": {
          "base_uri": "https://localhost:8080/"
        },
        "id": "BVuPOGzCaGfq",
        "outputId": "edb7443e-69a1-415f-8215-bed7dcfd1d01"
      },
      "source": [
        "pred.mean()"
      ],
      "execution_count": null,
      "outputs": [
        {
          "output_type": "execute_result",
          "data": {
            "text/plain": [
              "'Velocidad de viento en 20.0 metros [mean]'    7.4277\n",
              "dtype: float64"
            ]
          },
          "metadata": {
            "tags": []
          },
          "execution_count": 77
        }
      ]
    },
    {
      "cell_type": "code",
      "metadata": {
        "colab": {
          "base_uri": "https://localhost:8080/"
        },
        "id": "wFc1BOOjaINO",
        "outputId": "6531b480-09b4-439b-e5ba-ba59fe73724e"
      },
      "source": [
        "pred.std()"
      ],
      "execution_count": null,
      "outputs": [
        {
          "output_type": "execute_result",
          "data": {
            "text/plain": [
              "'Velocidad de viento en 20.0 metros [mean]'    2.968269\n",
              "dtype: float64"
            ]
          },
          "metadata": {
            "tags": []
          },
          "execution_count": 78
        }
      ]
    },
    {
      "cell_type": "code",
      "metadata": {
        "colab": {
          "base_uri": "https://localhost:8080/"
        },
        "id": "zNGN7dlIaWgD",
        "outputId": "666233de-94de-4a64-d4ba-f60cb550221a"
      },
      "source": [
        "pred[pred.columns[1]]"
      ],
      "execution_count": null,
      "outputs": [
        {
          "output_type": "execute_result",
          "data": {
            "text/plain": [
              "0        5.2\n",
              "1        4.8\n",
              "2        4.1\n",
              "3        3.4\n",
              "4        3.1\n",
              "        ... \n",
              "1995     1.8\n",
              "1996     4.6\n",
              "1997     4.2\n",
              "1998    12.0\n",
              "1999     7.1\n",
              "Name: 'Velocidad de viento en 20.0 metros [mean]', Length: 2000, dtype: float64"
            ]
          },
          "metadata": {
            "tags": []
          },
          "execution_count": 84
        }
      ]
    },
    {
      "cell_type": "code",
      "metadata": {
        "id": "oRZnU5r-aLBq"
      },
      "source": [
        "p= np.array(pred[pred.columns[1]])"
      ],
      "execution_count": null,
      "outputs": []
    },
    {
      "cell_type": "code",
      "metadata": {
        "colab": {
          "base_uri": "https://localhost:8080/"
        },
        "id": "X8SmdgN3aSLt",
        "outputId": "74b251a2-0b06-468f-8f3f-b90dc7850a75"
      },
      "source": [
        "(p+0.5).mean()"
      ],
      "execution_count": null,
      "outputs": [
        {
          "output_type": "execute_result",
          "data": {
            "text/plain": [
              "7.927700000000001"
            ]
          },
          "metadata": {
            "tags": []
          },
          "execution_count": 87
        }
      ]
    },
    {
      "cell_type": "code",
      "metadata": {
        "colab": {
          "base_uri": "https://localhost:8080/",
          "height": 358
        },
        "id": "DRUu7dP6aT7y",
        "outputId": "14d88ad2-b2ae-4f55-a877-4a0d0da418c8"
      },
      "source": [
        "otrosum=vector(p+0.5)\n"
      ],
      "execution_count": null,
      "outputs": [
        {
          "output_type": "error",
          "ename": "ValueError",
          "evalue": "ignored",
          "traceback": [
            "\u001b[0;31m---------------------------------------------------------------------------\u001b[0m",
            "\u001b[0;31mValueError\u001b[0m                                Traceback (most recent call last)",
            "\u001b[0;32m<ipython-input-90-d95a746fea67>\u001b[0m in \u001b[0;36m<module>\u001b[0;34m()\u001b[0m\n\u001b[0;32m----> 1\u001b[0;31m \u001b[0motrosum\u001b[0m\u001b[0;34m=\u001b[0m\u001b[0mvector\u001b[0m\u001b[0;34m(\u001b[0m\u001b[0mp\u001b[0m\u001b[0;34m+\u001b[0m\u001b[0;36m0.5\u001b[0m\u001b[0;34m)\u001b[0m\u001b[0;34m\u001b[0m\u001b[0;34m\u001b[0m\u001b[0m\n\u001b[0m",
            "\u001b[0;32m<ipython-input-89-0f63ba4078da>\u001b[0m in \u001b[0;36mvector\u001b[0;34m(listatupla)\u001b[0m\n\u001b[1;32m      1\u001b[0m \u001b[0;32mdef\u001b[0m \u001b[0mvector\u001b[0m\u001b[0;34m(\u001b[0m\u001b[0mlistatupla\u001b[0m\u001b[0;34m)\u001b[0m\u001b[0;34m:\u001b[0m\u001b[0;34m\u001b[0m\u001b[0;34m\u001b[0m\u001b[0m\n\u001b[1;32m      2\u001b[0m     \u001b[0msummit\u001b[0m\u001b[0;34m=\u001b[0m\u001b[0mpd\u001b[0m\u001b[0;34m.\u001b[0m\u001b[0mDataFrame\u001b[0m\u001b[0;34m(\u001b[0m\u001b[0mlistatupla\u001b[0m\u001b[0;34m)\u001b[0m\u001b[0;34m\u001b[0m\u001b[0;34m\u001b[0m\u001b[0m\n\u001b[0;32m----> 3\u001b[0;31m     \u001b[0msummit\u001b[0m\u001b[0;34m.\u001b[0m\u001b[0mcolumns\u001b[0m\u001b[0;34m=\u001b[0m\u001b[0;34m[\u001b[0m\u001b[0;34m\"'Fecha'\"\u001b[0m\u001b[0;34m,\u001b[0m\u001b[0;34m\"'Velocidad de viento en 20.0 metros [mean]'\"\u001b[0m\u001b[0;34m]\u001b[0m\u001b[0;34m\u001b[0m\u001b[0;34m\u001b[0m\u001b[0m\n\u001b[0m\u001b[1;32m      4\u001b[0m     \u001b[0msummit\u001b[0m\u001b[0;34m=\u001b[0m\u001b[0msummit\u001b[0m\u001b[0;34m.\u001b[0m\u001b[0mset_index\u001b[0m\u001b[0;34m(\u001b[0m\u001b[0;34m\"'Fecha'\"\u001b[0m\u001b[0;34m)\u001b[0m\u001b[0;34m\u001b[0m\u001b[0;34m\u001b[0m\u001b[0m\n\u001b[1;32m      5\u001b[0m     \u001b[0msummit\u001b[0m\u001b[0;34m=\u001b[0m \u001b[0msummit\u001b[0m\u001b[0;34m[\u001b[0m\u001b[0msummit\u001b[0m\u001b[0;34m.\u001b[0m\u001b[0mcolumns\u001b[0m\u001b[0;34m[\u001b[0m\u001b[0;36m0\u001b[0m\u001b[0;34m]\u001b[0m\u001b[0;34m]\u001b[0m\u001b[0;34m.\u001b[0m\u001b[0mastype\u001b[0m\u001b[0;34m(\u001b[0m\u001b[0mfloat\u001b[0m\u001b[0;34m)\u001b[0m\u001b[0;34m\u001b[0m\u001b[0;34m\u001b[0m\u001b[0m\n",
            "\u001b[0;32m/usr/local/lib/python3.7/dist-packages/pandas/core/generic.py\u001b[0m in \u001b[0;36m__setattr__\u001b[0;34m(self, name, value)\u001b[0m\n\u001b[1;32m   5152\u001b[0m         \u001b[0;32mtry\u001b[0m\u001b[0;34m:\u001b[0m\u001b[0;34m\u001b[0m\u001b[0;34m\u001b[0m\u001b[0m\n\u001b[1;32m   5153\u001b[0m             \u001b[0mobject\u001b[0m\u001b[0;34m.\u001b[0m\u001b[0m__getattribute__\u001b[0m\u001b[0;34m(\u001b[0m\u001b[0mself\u001b[0m\u001b[0;34m,\u001b[0m \u001b[0mname\u001b[0m\u001b[0;34m)\u001b[0m\u001b[0;34m\u001b[0m\u001b[0;34m\u001b[0m\u001b[0m\n\u001b[0;32m-> 5154\u001b[0;31m             \u001b[0;32mreturn\u001b[0m \u001b[0mobject\u001b[0m\u001b[0;34m.\u001b[0m\u001b[0m__setattr__\u001b[0m\u001b[0;34m(\u001b[0m\u001b[0mself\u001b[0m\u001b[0;34m,\u001b[0m \u001b[0mname\u001b[0m\u001b[0;34m,\u001b[0m \u001b[0mvalue\u001b[0m\u001b[0;34m)\u001b[0m\u001b[0;34m\u001b[0m\u001b[0;34m\u001b[0m\u001b[0m\n\u001b[0m\u001b[1;32m   5155\u001b[0m         \u001b[0;32mexcept\u001b[0m \u001b[0mAttributeError\u001b[0m\u001b[0;34m:\u001b[0m\u001b[0;34m\u001b[0m\u001b[0;34m\u001b[0m\u001b[0m\n\u001b[1;32m   5156\u001b[0m             \u001b[0;32mpass\u001b[0m\u001b[0;34m\u001b[0m\u001b[0;34m\u001b[0m\u001b[0m\n",
            "\u001b[0;32mpandas/_libs/properties.pyx\u001b[0m in \u001b[0;36mpandas._libs.properties.AxisProperty.__set__\u001b[0;34m()\u001b[0m\n",
            "\u001b[0;32m/usr/local/lib/python3.7/dist-packages/pandas/core/generic.py\u001b[0m in \u001b[0;36m_set_axis\u001b[0;34m(self, axis, labels)\u001b[0m\n\u001b[1;32m    562\u001b[0m     \u001b[0;32mdef\u001b[0m \u001b[0m_set_axis\u001b[0m\u001b[0;34m(\u001b[0m\u001b[0mself\u001b[0m\u001b[0;34m,\u001b[0m \u001b[0maxis\u001b[0m\u001b[0;34m:\u001b[0m \u001b[0mint\u001b[0m\u001b[0;34m,\u001b[0m \u001b[0mlabels\u001b[0m\u001b[0;34m:\u001b[0m \u001b[0mIndex\u001b[0m\u001b[0;34m)\u001b[0m \u001b[0;34m->\u001b[0m \u001b[0;32mNone\u001b[0m\u001b[0;34m:\u001b[0m\u001b[0;34m\u001b[0m\u001b[0;34m\u001b[0m\u001b[0m\n\u001b[1;32m    563\u001b[0m         \u001b[0mlabels\u001b[0m \u001b[0;34m=\u001b[0m \u001b[0mensure_index\u001b[0m\u001b[0;34m(\u001b[0m\u001b[0mlabels\u001b[0m\u001b[0;34m)\u001b[0m\u001b[0;34m\u001b[0m\u001b[0;34m\u001b[0m\u001b[0m\n\u001b[0;32m--> 564\u001b[0;31m         \u001b[0mself\u001b[0m\u001b[0;34m.\u001b[0m\u001b[0m_mgr\u001b[0m\u001b[0;34m.\u001b[0m\u001b[0mset_axis\u001b[0m\u001b[0;34m(\u001b[0m\u001b[0maxis\u001b[0m\u001b[0;34m,\u001b[0m \u001b[0mlabels\u001b[0m\u001b[0;34m)\u001b[0m\u001b[0;34m\u001b[0m\u001b[0;34m\u001b[0m\u001b[0m\n\u001b[0m\u001b[1;32m    565\u001b[0m         \u001b[0mself\u001b[0m\u001b[0;34m.\u001b[0m\u001b[0m_clear_item_cache\u001b[0m\u001b[0;34m(\u001b[0m\u001b[0;34m)\u001b[0m\u001b[0;34m\u001b[0m\u001b[0;34m\u001b[0m\u001b[0m\n\u001b[1;32m    566\u001b[0m \u001b[0;34m\u001b[0m\u001b[0m\n",
            "\u001b[0;32m/usr/local/lib/python3.7/dist-packages/pandas/core/internals/managers.py\u001b[0m in \u001b[0;36mset_axis\u001b[0;34m(self, axis, new_labels)\u001b[0m\n\u001b[1;32m    225\u001b[0m         \u001b[0;32mif\u001b[0m \u001b[0mnew_len\u001b[0m \u001b[0;34m!=\u001b[0m \u001b[0mold_len\u001b[0m\u001b[0;34m:\u001b[0m\u001b[0;34m\u001b[0m\u001b[0;34m\u001b[0m\u001b[0m\n\u001b[1;32m    226\u001b[0m             raise ValueError(\n\u001b[0;32m--> 227\u001b[0;31m                 \u001b[0;34mf\"Length mismatch: Expected axis has {old_len} elements, new \"\u001b[0m\u001b[0;34m\u001b[0m\u001b[0;34m\u001b[0m\u001b[0m\n\u001b[0m\u001b[1;32m    228\u001b[0m                 \u001b[0;34mf\"values have {new_len} elements\"\u001b[0m\u001b[0;34m\u001b[0m\u001b[0;34m\u001b[0m\u001b[0m\n\u001b[1;32m    229\u001b[0m             )\n",
            "\u001b[0;31mValueError\u001b[0m: Length mismatch: Expected axis has 1 elements, new values have 2 elements"
          ]
        }
      ]
    },
    {
      "cell_type": "code",
      "metadata": {
        "id": "uXL16j4na5ay"
      },
      "source": [
        "pred[pred.columns[1]]= pred[pred.columns[1]]+0.5"
      ],
      "execution_count": null,
      "outputs": []
    },
    {
      "cell_type": "code",
      "metadata": {
        "colab": {
          "base_uri": "https://localhost:8080/",
          "height": 454
        },
        "id": "P8RWzi2ybFWe",
        "outputId": "975cf06c-6798-4475-f9d1-b19015042191"
      },
      "source": [
        "vector(pred)"
      ],
      "execution_count": null,
      "outputs": [
        {
          "output_type": "execute_result",
          "data": {
            "text/html": [
              "<div>\n",
              "<style scoped>\n",
              "    .dataframe tbody tr th:only-of-type {\n",
              "        vertical-align: middle;\n",
              "    }\n",
              "\n",
              "    .dataframe tbody tr th {\n",
              "        vertical-align: top;\n",
              "    }\n",
              "\n",
              "    .dataframe thead th {\n",
              "        text-align: right;\n",
              "    }\n",
              "</style>\n",
              "<table border=\"1\" class=\"dataframe\">\n",
              "  <thead>\n",
              "    <tr style=\"text-align: right;\">\n",
              "      <th></th>\n",
              "      <th>'Velocidad de viento en 20.0 metros [mean]'</th>\n",
              "    </tr>\n",
              "    <tr>\n",
              "      <th>'Fecha'</th>\n",
              "      <th></th>\n",
              "    </tr>\n",
              "  </thead>\n",
              "  <tbody>\n",
              "    <tr>\n",
              "      <th>26-04-2015 01:50</th>\n",
              "      <td>5.7</td>\n",
              "    </tr>\n",
              "    <tr>\n",
              "      <th>26-04-2015 03:10</th>\n",
              "      <td>5.3</td>\n",
              "    </tr>\n",
              "    <tr>\n",
              "      <th>26-04-2015 04:20</th>\n",
              "      <td>4.6</td>\n",
              "    </tr>\n",
              "    <tr>\n",
              "      <th>26-04-2015 05:20</th>\n",
              "      <td>3.9</td>\n",
              "    </tr>\n",
              "    <tr>\n",
              "      <th>26-04-2015 06:40</th>\n",
              "      <td>3.6</td>\n",
              "    </tr>\n",
              "    <tr>\n",
              "      <th>...</th>\n",
              "      <td>...</td>\n",
              "    </tr>\n",
              "    <tr>\n",
              "      <th>19-09-2015 08:10</th>\n",
              "      <td>2.3</td>\n",
              "    </tr>\n",
              "    <tr>\n",
              "      <th>21-09-2015 11:20</th>\n",
              "      <td>5.1</td>\n",
              "    </tr>\n",
              "    <tr>\n",
              "      <th>22-09-2015 10:30</th>\n",
              "      <td>4.7</td>\n",
              "    </tr>\n",
              "    <tr>\n",
              "      <th>23-09-2015 17:30</th>\n",
              "      <td>12.5</td>\n",
              "    </tr>\n",
              "    <tr>\n",
              "      <th>24-09-2015 00:10</th>\n",
              "      <td>7.6</td>\n",
              "    </tr>\n",
              "  </tbody>\n",
              "</table>\n",
              "<p>2000 rows × 1 columns</p>\n",
              "</div>"
            ],
            "text/plain": [
              "                  'Velocidad de viento en 20.0 metros [mean]'\n",
              "'Fecha'                                                      \n",
              "26-04-2015 01:50                                          5.7\n",
              "26-04-2015 03:10                                          5.3\n",
              "26-04-2015 04:20                                          4.6\n",
              "26-04-2015 05:20                                          3.9\n",
              "26-04-2015 06:40                                          3.6\n",
              "...                                                       ...\n",
              "19-09-2015 08:10                                          2.3\n",
              "21-09-2015 11:20                                          5.1\n",
              "22-09-2015 10:30                                          4.7\n",
              "23-09-2015 17:30                                         12.5\n",
              "24-09-2015 00:10                                          7.6\n",
              "\n",
              "[2000 rows x 1 columns]"
            ]
          },
          "metadata": {
            "tags": []
          },
          "execution_count": 95
        }
      ]
    },
    {
      "cell_type": "code",
      "metadata": {
        "id": "m3bjpL2QbKEa"
      },
      "source": [
        "vector(pred).to_csv(\"modelo_mario+05.csv\")"
      ],
      "execution_count": null,
      "outputs": []
    },
    {
      "cell_type": "code",
      "metadata": {
        "id": "3KB5yeutbd44"
      },
      "source": [
        ""
      ],
      "execution_count": null,
      "outputs": []
    }
  ]
}